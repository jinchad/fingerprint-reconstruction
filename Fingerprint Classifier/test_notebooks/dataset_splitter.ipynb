{
 "cells": [
  {
   "cell_type": "code",
   "execution_count": 138,
   "metadata": {},
   "outputs": [],
   "source": [
    "import os\n",
    "import cv2\n",
    "from roboflow import Roboflow\n",
    "import re\n",
    "import yaml\n",
    "import shutil\n"
   ]
  },
  {
   "cell_type": "code",
   "execution_count": 139,
   "metadata": {},
   "outputs": [
    {
     "name": "stdout",
     "output_type": "stream",
     "text": [
      "efcTvzGpArL7OorvmZT8 fingerprint-generation fingerprint-pattern-detection-vmh4p fingerprint-pattern-detection 4\n"
     ]
    }
   ],
   "source": [
    "RF_KEY  = os.environ.get(\"RF_KEY\", \"\")\n",
    "RF_WORKSPACE = os.environ.get(\"RF_WORKSPACE\", \"\")\n",
    "RF_PROJECT = os.environ.get(\"RF_LABELLER_PROJECT\", \"\")\n",
    "RF_PROJECT = \"fingerprint-pattern-detection-vmh4p\"\n",
    "RF_LABELLER_VER_NUM = 4\n",
    "RF_LABELLER_PROJECT = os.environ.get(\"RF_LABELLER_PROJECT\", None)\n",
    "CLASSES = [\"concentric_whorl\", \"imploding_whorl\", \"loop\",\"standard_arch\"]\n",
    "print(RF_KEY, RF_WORKSPACE, RF_PROJECT, RF_LABELLER_PROJECT, RF_LABELLER_VER_NUM)"
   ]
  },
  {
   "cell_type": "markdown",
   "metadata": {},
   "source": [
    "## Saturating Image to further enhance the fingerprint ridges"
   ]
  },
  {
   "cell_type": "code",
   "execution_count": 140,
   "metadata": {},
   "outputs": [],
   "source": [
    "def saturate_image(image_file_path):\n",
    "    image = cv2.imread(f\"{image_file_path}\", cv2.IMREAD_GRAYSCALE)\n",
    "    clahe = cv2.createCLAHE(clipLimit=5.0, tileGridSize=(8, 8))\n",
    "    enhanced = clahe.apply(image)\n",
    "    os.remove(image_file_path)\n",
    "\n",
    "    cv2.imwrite(f\"{image_file_path}\", enhanced)"
   ]
  },
  {
   "cell_type": "code",
   "execution_count": null,
   "metadata": {},
   "outputs": [],
   "source": [
    "def filter_images(class_name: str, dir: str):\n",
    "    labels = {   \n",
    "        \"concentric_whorl\": \"0\",\n",
    "        \"imploding_whorl\": \"1\",\n",
    "        \"loop\": \"2\",\n",
    "        \"standard_arch\": \"3\"\n",
    "    }\n",
    "\n",
    "    label = labels.get(class_name.strip().lower(), None)\n",
    "    label_dir = os.path.abspath(os.path.join(dir, \"labels\"))\n",
    "    image_dir = os.path.abspath(os.path.join(dir, \"images\"))\n",
    "\n",
    "    for label_file_name in os.listdir(label_dir):\n",
    "        label_file_path = os.path.join(label_dir, label_file_name)\n",
    "        try:\n",
    "            with open(label_file_path, \"r\") as label_file:\n",
    "                lines = label_file.read()\n",
    "                image_file_name = re.sub(r\"\\.[^.]+$\", \"\", label_file_name)+\".jpg\"\n",
    "                image_file_path = os.path.join(image_dir, image_file_name)\n",
    "                if lines[0] != label:\n",
    "                    os.remove(label_file_path)\n",
    "                    os.remove(image_file_path)\n",
    "                    continue\n",
    "                else:\n",
    "                    if lines[0] != 1:\n",
    "                        lines = lines.replace(lines[0], \"0\")\n",
    "                    \n",
    "                    saturate_image(image_file_path=image_file_path)\n",
    "                    \n",
    "            with open(label_file_path, \"w\") as label_file:\n",
    "                 label_file.write(lines)\n",
    "\n",
    "        except IndexError: # catches any images labelled as \"null\" on Roboflow\n",
    "                os.remove(label_file_path)\n",
    "                image_file_name = re.sub(r\"\\.[^.]+$\", \"\", label_file_name)+\".jpg\"\n",
    "                image_file_path = os.path.join(image_dir, image_file_name)\n",
    "                os.remove(image_file_path)\n",
    "        \n"
   ]
  },
  {
   "cell_type": "code",
   "execution_count": 142,
   "metadata": {},
   "outputs": [],
   "source": [
    "def modify_yaml(class_name, dir):\n",
    "    yaml_dir = os.path.abspath(os.path.join(dir, \"data.yaml\"))\n",
    "\n",
    "    with open(yaml_dir, \"r\") as f:\n",
    "        data = yaml.safe_load(f)\n",
    "    data['names'] = [class_name]\n",
    "    data['nc'] = 1\n",
    "    with open(yaml_dir, 'w') as f:\n",
    "        yaml.dump(data, f, sort_keys=False)    "
   ]
  },
  {
   "cell_type": "code",
   "execution_count": 143,
   "metadata": {},
   "outputs": [],
   "source": [
    "def filter_for_class(dir:str, class_name:str):\n",
    "    filter_images(class_name, os.path.abspath(os.path.join(dir, \"train/\")))\n",
    "    filter_images(class_name, os.path.abspath(os.path.join(dir, \"valid/\")))\n",
    "    filter_images(class_name, os.path.abspath(os.path.join(dir, \"test/\")))\n",
    "    modify_yaml(class_name, dir)\n",
    "    new_dir = os.path.abspath(os.path.join(dir, f\"../v{RF_LABELLER_VER_NUM}/{class_name} dataset v{RF_LABELLER_VER_NUM}\"))\n",
    "    os.rename(dir, new_dir)"
   ]
  },
  {
   "cell_type": "code",
   "execution_count": 144,
   "metadata": {},
   "outputs": [],
   "source": [
    "def filter_class_dataset(class_name: str):\n",
    "    rf = Roboflow(api_key=RF_KEY)\n",
    "    project = rf.workspace(RF_WORKSPACE).project(RF_PROJECT)\n",
    "    dataset = project.version(RF_LABELLER_VER_NUM).download(\"yolov8\", f\"../../datasets/Fingerprint pattern/Fingerprint dataset v{RF_LABELLER_VER_NUM}\")\n",
    "\n",
    "    curr_dir = os.getcwd()\n",
    "    parent_dir = os.path.abspath(os.path.join(curr_dir, f\"../..\"))\n",
    "    dataset_dir = os.path.abspath(os.path.join(parent_dir, f\"datasets/Fingerprint pattern/Fingerprint dataset v{RF_LABELLER_VER_NUM}\" ))\n",
    "    filter_for_class(dir = dataset_dir, class_name=class_name)"
   ]
  },
  {
   "cell_type": "code",
   "execution_count": 145,
   "metadata": {},
   "outputs": [
    {
     "name": "stdout",
     "output_type": "stream",
     "text": [
      "loading Roboflow workspace...\n",
      "loading Roboflow project...\n",
      "Generating version still in progress. Progress: 60.75%\n",
      "Exporting format yolov8 in progress : 85.0%\n",
      "Version export complete for yolov8 format\n"
     ]
    },
    {
     "name": "stderr",
     "output_type": "stream",
     "text": [
      "Downloading Dataset Version Zip in ../../datasets/Fingerprint pattern/Fingerprint dataset v4 to yolov8:: 100%|██████████| 190478/190478 [00:12<00:00, 15579.32it/s]"
     ]
    },
    {
     "name": "stdout",
     "output_type": "stream",
     "text": [
      "\n"
     ]
    },
    {
     "name": "stderr",
     "output_type": "stream",
     "text": [
      "\n",
      "Extracting Dataset Version Zip to ../../datasets/Fingerprint pattern/Fingerprint dataset v4 in yolov8:: 100%|██████████| 8378/8378 [00:00<00:00, 9889.40it/s] \n"
     ]
    },
    {
     "name": "stdout",
     "output_type": "stream",
     "text": [
      "loading Roboflow workspace...\n",
      "loading Roboflow project...\n"
     ]
    },
    {
     "name": "stderr",
     "output_type": "stream",
     "text": [
      "Downloading Dataset Version Zip in ../../datasets/Fingerprint pattern/Fingerprint dataset v4 to yolov8:: 100%|██████████| 190478/190478 [00:12<00:00, 15722.71it/s]"
     ]
    },
    {
     "name": "stdout",
     "output_type": "stream",
     "text": [
      "\n"
     ]
    },
    {
     "name": "stderr",
     "output_type": "stream",
     "text": [
      "\n",
      "Extracting Dataset Version Zip to ../../datasets/Fingerprint pattern/Fingerprint dataset v4 in yolov8:: 100%|██████████| 8378/8378 [00:00<00:00, 10969.16it/s]\n"
     ]
    },
    {
     "name": "stdout",
     "output_type": "stream",
     "text": [
      "loading Roboflow workspace...\n",
      "loading Roboflow project...\n"
     ]
    },
    {
     "name": "stderr",
     "output_type": "stream",
     "text": [
      "Downloading Dataset Version Zip in ../../datasets/Fingerprint pattern/Fingerprint dataset v4 to yolov8:: 100%|██████████| 190478/190478 [00:12<00:00, 15813.57it/s]"
     ]
    },
    {
     "name": "stdout",
     "output_type": "stream",
     "text": [
      "\n"
     ]
    },
    {
     "name": "stderr",
     "output_type": "stream",
     "text": [
      "\n",
      "Extracting Dataset Version Zip to ../../datasets/Fingerprint pattern/Fingerprint dataset v4 in yolov8:: 100%|██████████| 8378/8378 [00:00<00:00, 11257.50it/s]\n"
     ]
    },
    {
     "name": "stdout",
     "output_type": "stream",
     "text": [
      "loading Roboflow workspace...\n",
      "loading Roboflow project...\n"
     ]
    },
    {
     "name": "stderr",
     "output_type": "stream",
     "text": [
      "Downloading Dataset Version Zip in ../../datasets/Fingerprint pattern/Fingerprint dataset v4 to yolov8:: 100%|██████████| 190478/190478 [00:11<00:00, 15894.43it/s]"
     ]
    },
    {
     "name": "stdout",
     "output_type": "stream",
     "text": [
      "\n"
     ]
    },
    {
     "name": "stderr",
     "output_type": "stream",
     "text": [
      "\n",
      "Extracting Dataset Version Zip to ../../datasets/Fingerprint pattern/Fingerprint dataset v4 in yolov8:: 100%|██████████| 8378/8378 [00:00<00:00, 10724.75it/s]\n"
     ]
    }
   ],
   "source": [
    "curr_dir = os.getcwd()\n",
    "parent_dir = os.path.abspath(os.path.join(curr_dir, f\"../..\"))\n",
    "new_dir = os.path.abspath(os.path.join(parent_dir, f'datasets/Fingerprint pattern/v{RF_LABELLER_VER_NUM}'))\n",
    "if os.path.exists(new_dir):\n",
    "    shutil.rmtree(new_dir)\n",
    "os.makedirs(new_dir)\n",
    "\n",
    "for c in CLASSES:\n",
    "    try:\n",
    "        filter_class_dataset(c)\n",
    "    except:\n",
    "        pass\n"
   ]
  }
 ],
 "metadata": {
  "kernelspec": {
   "display_name": "venv",
   "language": "python",
   "name": "python3"
  },
  "language_info": {
   "codemirror_mode": {
    "name": "ipython",
    "version": 3
   },
   "file_extension": ".py",
   "mimetype": "text/x-python",
   "name": "python",
   "nbconvert_exporter": "python",
   "pygments_lexer": "ipython3",
   "version": "3.11.0"
  }
 },
 "nbformat": 4,
 "nbformat_minor": 2
}
