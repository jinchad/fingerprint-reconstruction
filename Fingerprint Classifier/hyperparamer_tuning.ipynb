{
 "cells": [
  {
   "cell_type": "code",
   "execution_count": null,
   "metadata": {},
   "outputs": [],
   "source": [
    "from models import YOLOFingerClassification, YOLOFingerPatternDetection\n",
    "import os"
   ]
  },
  {
   "cell_type": "code",
   "execution_count": null,
   "metadata": {},
   "outputs": [],
   "source": [
    "dropouts = [0.1,0.2,0.3]\n",
    "batch_sizes = [16,32,64]\n",
    "img_sizes = [256, 512]\n",
    "epochs = 5\n",
    "save_period = 2"
   ]
  },
  {
   "cell_type": "code",
   "execution_count": null,
   "metadata": {},
   "outputs": [
    {
     "name": "stdout",
     "output_type": "stream",
     "text": [
      "New https://pypi.org/project/ultralytics/8.3.111 available 😃 Update with 'pip install -U ultralytics'\n",
      "Ultralytics 8.3.98 🚀 Python-3.12.9 torch-2.6.0 CPU (Apple M2 Pro)\n",
      "\u001b[34m\u001b[1mengine/trainer: \u001b[0mtask=classify, mode=train, model=yolov8n-cls.pt, data=/Users/jin/Documents/GitHub/datasets/fingerprint-pattern-classifier/v2/original_dataset, epochs=10, time=None, patience=5, batch=16, imgsz=256, save=True, save_period=2, cache=False, device=None, workers=8, project=None, name=fingerprint-classification8, exist_ok=False, pretrained=True, optimizer=auto, verbose=True, seed=0, deterministic=True, single_cls=False, rect=False, cos_lr=False, close_mosaic=10, resume=False, amp=True, fraction=1.0, profile=False, freeze=None, multi_scale=False, overlap_mask=True, mask_ratio=4, dropout=0.1, val=True, split=val, save_json=False, save_hybrid=False, conf=None, iou=0.7, max_det=300, half=False, dnn=False, plots=True, source=None, vid_stride=1, stream_buffer=False, visualize=False, augment=False, agnostic_nms=False, classes=None, retina_masks=False, embed=None, show=False, save_frames=False, save_txt=False, save_conf=False, save_crop=False, show_labels=True, show_conf=True, show_boxes=True, line_width=None, format=torchscript, keras=False, optimize=False, int8=False, dynamic=False, simplify=True, opset=None, workspace=None, nms=False, lr0=0.01, lrf=0.01, momentum=0.937, weight_decay=0.0005, warmup_epochs=3.0, warmup_momentum=0.8, warmup_bias_lr=0.1, box=7.5, cls=0.5, dfl=1.5, pose=12.0, kobj=1.0, nbs=64, hsv_h=0.015, hsv_s=0.7, hsv_v=0.4, degrees=0.0, translate=0.1, scale=0.5, shear=0.0, perspective=0.0, flipud=0.0, fliplr=0.5, bgr=0.0, mosaic=1.0, mixup=0.0, copy_paste=0.0, copy_paste_mode=flip, auto_augment=randaugment, erasing=0.4, crop_fraction=1.0, cfg=None, tracker=botsort.yaml, save_dir=/Users/jin/Documents/GitHub/AI-Project/runs/classify/fingerprint-classification8\n",
      "\u001b[34m\u001b[1mtrain:\u001b[0m /Users/jin/Documents/GitHub/datasets/fingerprint-pattern-classifier/v2/original_dataset/train... found 2441 images in 4 classes ✅ \n",
      "\u001b[34m\u001b[1mval:\u001b[0m None...\n",
      "\u001b[34m\u001b[1mtest:\u001b[0m /Users/jin/Documents/GitHub/datasets/fingerprint-pattern-classifier/v2/original_dataset/test... found 120 images in 4 classes ✅ \n",
      "Overriding model.yaml nc=1000 with nc=4\n",
      "\n",
      "                   from  n    params  module                                       arguments                     \n",
      "  0                  -1  1       464  ultralytics.nn.modules.conv.Conv             [3, 16, 3, 2]                 \n",
      "  1                  -1  1      4672  ultralytics.nn.modules.conv.Conv             [16, 32, 3, 2]                \n",
      "  2                  -1  1      7360  ultralytics.nn.modules.block.C2f             [32, 32, 1, True]             \n",
      "  3                  -1  1     18560  ultralytics.nn.modules.conv.Conv             [32, 64, 3, 2]                \n",
      "  4                  -1  2     49664  ultralytics.nn.modules.block.C2f             [64, 64, 2, True]             \n",
      "  5                  -1  1     73984  ultralytics.nn.modules.conv.Conv             [64, 128, 3, 2]               \n",
      "  6                  -1  2    197632  ultralytics.nn.modules.block.C2f             [128, 128, 2, True]           \n",
      "  7                  -1  1    295424  ultralytics.nn.modules.conv.Conv             [128, 256, 3, 2]              \n",
      "  8                  -1  1    460288  ultralytics.nn.modules.block.C2f             [256, 256, 1, True]           \n",
      "  9                  -1  1    335364  ultralytics.nn.modules.head.Classify         [256, 4]                      \n",
      "YOLOv8n-cls summary: 56 layers, 1,443,412 parameters, 1,443,412 gradients, 3.4 GFLOPs\n",
      "Transferred 156/158 items from pretrained weights\n"
     ]
    },
    {
     "name": "stderr",
     "output_type": "stream",
     "text": [
      "\u001b[34m\u001b[1mtrain: \u001b[0mScanning /Users/jin/Documents/GitHub/datasets/fingerprint-pattern-classifier/v2/original_dataset/train... 2441 images, 0 corrupt: 100%|██████████| 2441/2441 [00:00<?, ?it/s]\n",
      "\u001b[34m\u001b[1mval: \u001b[0mScanning /Users/jin/Documents/GitHub/datasets/fingerprint-pattern-classifier/v2/original_dataset/test... 120 images, 0 corrupt: 100%|██████████| 120/120 [00:00<?, ?it/s]"
     ]
    },
    {
     "name": "stdout",
     "output_type": "stream",
     "text": [
      "\u001b[34m\u001b[1moptimizer:\u001b[0m 'optimizer=auto' found, ignoring 'lr0=0.01' and 'momentum=0.937' and determining best 'optimizer', 'lr0' and 'momentum' automatically... \n",
      "\u001b[34m\u001b[1moptimizer:\u001b[0m AdamW(lr=0.00125, momentum=0.9) with parameter groups 26 weight(decay=0.0), 27 weight(decay=0.0005), 27 bias(decay=0.0)\n",
      "Image sizes 256 train, 256 val\n",
      "Using 0 dataloader workers\n",
      "Logging results to \u001b[1m/Users/jin/Documents/GitHub/AI-Project/runs/classify/fingerprint-classification8\u001b[0m\n",
      "Starting training for 10 epochs...\n",
      "\n",
      "      Epoch    GPU_mem       loss  Instances       Size\n"
     ]
    },
    {
     "name": "stderr",
     "output_type": "stream",
     "text": [
      "\n",
      "       1/10         0G      1.327         16        256:  35%|███▍      | 53/153 [00:30<00:58,  1.72it/s]"
     ]
    }
   ],
   "source": [
    "classification_model = YOLOFingerClassification(model_name = \"yolov8n-cls.pt\")\n",
    "version_num = 2\n",
    "\n",
    "for dropout in dropouts:\n",
    "    for batch_size in batch_sizes:\n",
    "        for img_size in img_sizes:\n",
    "            classification_model.train(version_num=version_num, \n",
    "                                       dataset_dir=f\"/Users/jin/Documents/GitHub/datasets/fingerprint-pattern-classifier/v{version_num}/original_dataset\",\n",
    "                                       imgsz = img_size,\n",
    "                                       dropout = dropout,\n",
    "                                       batch = batch_size,\n",
    "                                       epochs = epochs,\n",
    "                                       save_period=save_period\n",
    "                                       )\n",
    "            os.remove(\"/Users/jin/Documents/GitHub/AI-Project/Fingerprint Classifier/yolov8n-cls.pt\")"
   ]
  }
 ],
 "metadata": {
  "kernelspec": {
   "display_name": "venv",
   "language": "python",
   "name": "python3"
  },
  "language_info": {
   "codemirror_mode": {
    "name": "ipython",
    "version": 3
   },
   "file_extension": ".py",
   "mimetype": "text/x-python",
   "name": "python",
   "nbconvert_exporter": "python",
   "pygments_lexer": "ipython3",
   "version": "3.12.9"
  }
 },
 "nbformat": 4,
 "nbformat_minor": 2
}
