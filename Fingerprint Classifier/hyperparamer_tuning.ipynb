{
 "cells": [
  {
   "cell_type": "code",
   "execution_count": 9,
   "metadata": {},
   "outputs": [],
   "source": [
    "from models import YOLOFingerClassification, YOLOFingerPatternDetection\n",
    "import os"
   ]
  },
  {
   "cell_type": "code",
   "execution_count": null,
   "metadata": {},
   "outputs": [],
   "source": [
    "dropouts = [0.1,0.2,0.3]\n",
    "batch_sizes = [16,32,64]\n",
    "img_sizes = [256, 512]\n",
    "epochs = 5\n",
    "save_period = 2"
   ]
  },
  {
   "cell_type": "code",
   "execution_count": null,
   "metadata": {},
   "outputs": [
    {
     "name": "stdout",
     "output_type": "stream",
     "text": [
      "New https://pypi.org/project/ultralytics/8.3.111 available 😃 Update with 'pip install -U ultralytics'\n",
      "Ultralytics 8.3.98 🚀 Python-3.12.9 torch-2.6.0 CPU (Apple M2 Pro)\n",
      "\u001b[34m\u001b[1mengine/trainer: \u001b[0mtask=classify, mode=train, model=yolov8n-cls.pt, data=/Users/jin/Documents/GitHub/datasets/fingerprint-pattern-classifier/v2/original_dataset, epochs=10, time=None, patience=5, batch=16, imgsz=256, save=True, save_period=2, cache=False, device=None, workers=8, project=None, name=fingerprint-classification8, exist_ok=False, pretrained=True, optimizer=auto, verbose=True, seed=0, deterministic=True, single_cls=False, rect=False, cos_lr=False, close_mosaic=10, resume=False, amp=True, fraction=1.0, profile=False, freeze=None, multi_scale=False, overlap_mask=True, mask_ratio=4, dropout=0.1, val=True, split=val, save_json=False, save_hybrid=False, conf=None, iou=0.7, max_det=300, half=False, dnn=False, plots=True, source=None, vid_stride=1, stream_buffer=False, visualize=False, augment=False, agnostic_nms=False, classes=None, retina_masks=False, embed=None, show=False, save_frames=False, save_txt=False, save_conf=False, save_crop=False, show_labels=True, show_conf=True, show_boxes=True, line_width=None, format=torchscript, keras=False, optimize=False, int8=False, dynamic=False, simplify=True, opset=None, workspace=None, nms=False, lr0=0.01, lrf=0.01, momentum=0.937, weight_decay=0.0005, warmup_epochs=3.0, warmup_momentum=0.8, warmup_bias_lr=0.1, box=7.5, cls=0.5, dfl=1.5, pose=12.0, kobj=1.0, nbs=64, hsv_h=0.015, hsv_s=0.7, hsv_v=0.4, degrees=0.0, translate=0.1, scale=0.5, shear=0.0, perspective=0.0, flipud=0.0, fliplr=0.5, bgr=0.0, mosaic=1.0, mixup=0.0, copy_paste=0.0, copy_paste_mode=flip, auto_augment=randaugment, erasing=0.4, crop_fraction=1.0, cfg=None, tracker=botsort.yaml, save_dir=/Users/jin/Documents/GitHub/AI-Project/runs/classify/fingerprint-classification8\n",
      "\u001b[34m\u001b[1mtrain:\u001b[0m /Users/jin/Documents/GitHub/datasets/fingerprint-pattern-classifier/v2/original_dataset/train... found 2441 images in 4 classes ✅ \n",
      "\u001b[34m\u001b[1mval:\u001b[0m None...\n",
      "\u001b[34m\u001b[1mtest:\u001b[0m /Users/jin/Documents/GitHub/datasets/fingerprint-pattern-classifier/v2/original_dataset/test... found 120 images in 4 classes ✅ \n",
      "Overriding model.yaml nc=1000 with nc=4\n",
      "\n",
      "                   from  n    params  module                                       arguments                     \n",
      "  0                  -1  1       464  ultralytics.nn.modules.conv.Conv             [3, 16, 3, 2]                 \n",
      "  1                  -1  1      4672  ultralytics.nn.modules.conv.Conv             [16, 32, 3, 2]                \n",
      "  2                  -1  1      7360  ultralytics.nn.modules.block.C2f             [32, 32, 1, True]             \n",
      "  3                  -1  1     18560  ultralytics.nn.modules.conv.Conv             [32, 64, 3, 2]                \n",
      "  4                  -1  2     49664  ultralytics.nn.modules.block.C2f             [64, 64, 2, True]             \n",
      "  5                  -1  1     73984  ultralytics.nn.modules.conv.Conv             [64, 128, 3, 2]               \n",
      "  6                  -1  2    197632  ultralytics.nn.modules.block.C2f             [128, 128, 2, True]           \n",
      "  7                  -1  1    295424  ultralytics.nn.modules.conv.Conv             [128, 256, 3, 2]              \n",
      "  8                  -1  1    460288  ultralytics.nn.modules.block.C2f             [256, 256, 1, True]           \n",
      "  9                  -1  1    335364  ultralytics.nn.modules.head.Classify         [256, 4]                      \n",
      "YOLOv8n-cls summary: 56 layers, 1,443,412 parameters, 1,443,412 gradients, 3.4 GFLOPs\n",
      "Transferred 156/158 items from pretrained weights\n"
     ]
    },
    {
     "name": "stderr",
     "output_type": "stream",
     "text": [
      "\u001b[34m\u001b[1mtrain: \u001b[0mScanning /Users/jin/Documents/GitHub/datasets/fingerprint-pattern-classifier/v2/original_dataset/train... 2441 images, 0 corrupt: 100%|██████████| 2441/2441 [00:00<?, ?it/s]\n",
      "\u001b[34m\u001b[1mval: \u001b[0mScanning /Users/jin/Documents/GitHub/datasets/fingerprint-pattern-classifier/v2/original_dataset/test... 120 images, 0 corrupt: 100%|██████████| 120/120 [00:00<?, ?it/s]"
     ]
    },
    {
     "name": "stdout",
     "output_type": "stream",
     "text": [
      "\u001b[34m\u001b[1moptimizer:\u001b[0m 'optimizer=auto' found, ignoring 'lr0=0.01' and 'momentum=0.937' and determining best 'optimizer', 'lr0' and 'momentum' automatically... \n",
      "\u001b[34m\u001b[1moptimizer:\u001b[0m AdamW(lr=0.00125, momentum=0.9) with parameter groups 26 weight(decay=0.0), 27 weight(decay=0.0005), 27 bias(decay=0.0)\n",
      "Image sizes 256 train, 256 val\n",
      "Using 0 dataloader workers\n",
      "Logging results to \u001b[1m/Users/jin/Documents/GitHub/AI-Project/runs/classify/fingerprint-classification8\u001b[0m\n",
      "Starting training for 10 epochs...\n",
      "\n",
      "      Epoch    GPU_mem       loss  Instances       Size\n"
     ]
    },
    {
     "name": "stderr",
     "output_type": "stream",
     "text": [
      "\n",
      "       1/10         0G     0.9245          9        256: 100%|██████████| 153/153 [01:13<00:00,  2.08it/s]\n",
      "               classes   top1_acc   top5_acc: 100%|██████████| 4/4 [00:01<00:00,  2.06it/s]"
     ]
    },
    {
     "name": "stdout",
     "output_type": "stream",
     "text": [
      "                   all      0.883          1\n",
      "\n",
      "      Epoch    GPU_mem       loss  Instances       Size\n"
     ]
    },
    {
     "name": "stderr",
     "output_type": "stream",
     "text": [
      "\n",
      "       2/10         0G     0.3524          9        256: 100%|██████████| 153/153 [01:12<00:00,  2.11it/s]\n",
      "               classes   top1_acc   top5_acc: 100%|██████████| 4/4 [00:01<00:00,  2.04it/s]"
     ]
    },
    {
     "name": "stdout",
     "output_type": "stream",
     "text": [
      "                   all      0.883          1\n",
      "\n",
      "      Epoch    GPU_mem       loss  Instances       Size\n"
     ]
    },
    {
     "name": "stderr",
     "output_type": "stream",
     "text": [
      "\n",
      "       3/10         0G      0.296          9        256: 100%|██████████| 153/153 [01:13<00:00,  2.10it/s]\n",
      "               classes   top1_acc   top5_acc: 100%|██████████| 4/4 [00:02<00:00,  1.99it/s]"
     ]
    },
    {
     "name": "stdout",
     "output_type": "stream",
     "text": [
      "                   all      0.925          1\n",
      "\n",
      "      Epoch    GPU_mem       loss  Instances       Size\n"
     ]
    },
    {
     "name": "stderr",
     "output_type": "stream",
     "text": [
      "\n",
      "       4/10         0G       0.25          9        256: 100%|██████████| 153/153 [01:14<00:00,  2.05it/s]\n",
      "               classes   top1_acc   top5_acc: 100%|██████████| 4/4 [00:02<00:00,  1.96it/s]"
     ]
    },
    {
     "name": "stdout",
     "output_type": "stream",
     "text": [
      "                   all        0.9          1\n",
      "\n",
      "      Epoch    GPU_mem       loss  Instances       Size\n"
     ]
    },
    {
     "name": "stderr",
     "output_type": "stream",
     "text": [
      "\n",
      "       5/10         0G     0.2179          9        256: 100%|██████████| 153/153 [01:13<00:00,  2.09it/s]\n",
      "               classes   top1_acc   top5_acc: 100%|██████████| 4/4 [00:01<00:00,  2.09it/s]"
     ]
    },
    {
     "name": "stdout",
     "output_type": "stream",
     "text": [
      "                   all        0.9          1\n",
      "\n",
      "      Epoch    GPU_mem       loss  Instances       Size\n"
     ]
    },
    {
     "name": "stderr",
     "output_type": "stream",
     "text": [
      "\n",
      "       6/10         0G     0.1934          9        256: 100%|██████████| 153/153 [01:12<00:00,  2.10it/s]\n",
      "               classes   top1_acc   top5_acc: 100%|██████████| 4/4 [00:01<00:00,  2.05it/s]"
     ]
    },
    {
     "name": "stdout",
     "output_type": "stream",
     "text": [
      "                   all      0.925          1\n",
      "\n",
      "      Epoch    GPU_mem       loss  Instances       Size\n"
     ]
    },
    {
     "name": "stderr",
     "output_type": "stream",
     "text": [
      "\n",
      "       7/10         0G     0.1692          9        256: 100%|██████████| 153/153 [01:11<00:00,  2.13it/s]\n",
      "               classes   top1_acc   top5_acc: 100%|██████████| 4/4 [00:01<00:00,  2.09it/s]"
     ]
    },
    {
     "name": "stdout",
     "output_type": "stream",
     "text": [
      "                   all      0.908          1\n",
      "\n",
      "      Epoch    GPU_mem       loss  Instances       Size\n"
     ]
    },
    {
     "name": "stderr",
     "output_type": "stream",
     "text": [
      "\n",
      "       8/10         0G     0.1502          9        256: 100%|██████████| 153/153 [01:12<00:00,  2.12it/s]\n",
      "               classes   top1_acc   top5_acc: 100%|██████████| 4/4 [00:01<00:00,  2.06it/s]"
     ]
    },
    {
     "name": "stdout",
     "output_type": "stream",
     "text": [
      "                   all      0.933          1\n",
      "\n",
      "      Epoch    GPU_mem       loss  Instances       Size\n"
     ]
    },
    {
     "name": "stderr",
     "output_type": "stream",
     "text": [
      "\n",
      "       9/10         0G     0.1388          9        256: 100%|██████████| 153/153 [01:12<00:00,  2.12it/s]\n",
      "               classes   top1_acc   top5_acc: 100%|██████████| 4/4 [00:01<00:00,  2.05it/s]"
     ]
    },
    {
     "name": "stdout",
     "output_type": "stream",
     "text": [
      "                   all      0.917          1\n",
      "\n",
      "      Epoch    GPU_mem       loss  Instances       Size\n"
     ]
    },
    {
     "name": "stderr",
     "output_type": "stream",
     "text": [
      "\n",
      "      10/10         0G     0.1278          9        256: 100%|██████████| 153/153 [01:12<00:00,  2.11it/s]\n",
      "               classes   top1_acc   top5_acc: 100%|██████████| 4/4 [00:01<00:00,  2.06it/s]"
     ]
    },
    {
     "name": "stdout",
     "output_type": "stream",
     "text": [
      "                   all      0.925          1\n",
      "\n",
      "10 epochs completed in 0.208 hours.\n",
      "Optimizer stripped from /Users/jin/Documents/GitHub/AI-Project/runs/classify/fingerprint-classification8/weights/last.pt, 3.0MB\n",
      "Optimizer stripped from /Users/jin/Documents/GitHub/AI-Project/runs/classify/fingerprint-classification8/weights/best.pt, 3.0MB\n",
      "\n",
      "Validating /Users/jin/Documents/GitHub/AI-Project/runs/classify/fingerprint-classification8/weights/best.pt...\n",
      "Ultralytics 8.3.98 🚀 Python-3.12.9 torch-2.6.0 CPU (Apple M2 Pro)\n",
      "YOLOv8n-cls summary (fused): 30 layers, 1,440,004 parameters, 0 gradients, 3.3 GFLOPs\n",
      "WARNING ⚠️ Dataset 'split=val' not found, using 'split=test' instead.\n",
      "\u001b[34m\u001b[1mtrain:\u001b[0m /Users/jin/Documents/GitHub/datasets/fingerprint-pattern-classifier/v2/original_dataset/train... found 2441 images in 4 classes ✅ \n",
      "\u001b[34m\u001b[1mval:\u001b[0m /Users/jin/Documents/GitHub/datasets/fingerprint-pattern-classifier/v2/original_dataset/test... found 120 images in 4 classes ✅ \n",
      "\u001b[34m\u001b[1mtest:\u001b[0m /Users/jin/Documents/GitHub/datasets/fingerprint-pattern-classifier/v2/original_dataset/test... found 120 images in 4 classes ✅ \n"
     ]
    },
    {
     "name": "stderr",
     "output_type": "stream",
     "text": [
      "\n",
      "               classes   top1_acc   top5_acc: 100%|██████████| 4/4 [00:01<00:00,  2.04it/s]\n"
     ]
    },
    {
     "name": "stdout",
     "output_type": "stream",
     "text": [
      "                   all      0.933          1\n",
      "Speed: 0.0ms preprocess, 13.0ms inference, 0.0ms loss, 0.0ms postprocess per image\n",
      "Results saved to \u001b[1m/Users/jin/Documents/GitHub/AI-Project/runs/classify/fingerprint-classification8\u001b[0m\n",
      "New https://pypi.org/project/ultralytics/8.3.111 available 😃 Update with 'pip install -U ultralytics'\n",
      "Ultralytics 8.3.98 🚀 Python-3.12.9 torch-2.6.0 CPU (Apple M2 Pro)\n",
      "\u001b[34m\u001b[1mengine/trainer: \u001b[0mtask=classify, mode=train, model=yolov8n-cls.pt, data=/Users/jin/Documents/GitHub/datasets/fingerprint-pattern-classifier/v2/original_dataset, epochs=10, time=None, patience=5, batch=16, imgsz=512, save=True, save_period=2, cache=False, device=None, workers=0, project=None, name=fingerprint-classification10, exist_ok=False, pretrained=True, optimizer=auto, verbose=True, seed=0, deterministic=True, single_cls=False, rect=False, cos_lr=False, close_mosaic=10, resume=False, amp=True, fraction=1.0, profile=False, freeze=None, multi_scale=False, overlap_mask=True, mask_ratio=4, dropout=0.1, val=True, split=val, save_json=False, save_hybrid=False, conf=None, iou=0.7, max_det=300, half=False, dnn=False, plots=True, source=None, vid_stride=1, stream_buffer=False, visualize=False, augment=False, agnostic_nms=False, classes=None, retina_masks=False, embed=None, show=False, save_frames=False, save_txt=False, save_conf=False, save_crop=False, show_labels=True, show_conf=True, show_boxes=True, line_width=None, format=torchscript, keras=False, optimize=False, int8=False, dynamic=False, simplify=True, opset=None, workspace=None, nms=False, lr0=0.01, lrf=0.01, momentum=0.937, weight_decay=0.0005, warmup_epochs=3.0, warmup_momentum=0.8, warmup_bias_lr=0.0, box=7.5, cls=0.5, dfl=1.5, pose=12.0, kobj=1.0, nbs=64, hsv_h=0.015, hsv_s=0.7, hsv_v=0.4, degrees=0.0, translate=0.1, scale=0.5, shear=0.0, perspective=0.0, flipud=0.0, fliplr=0.5, bgr=0.0, mosaic=1.0, mixup=0.0, copy_paste=0.0, copy_paste_mode=flip, auto_augment=randaugment, erasing=0.4, crop_fraction=1.0, cfg=None, tracker=botsort.yaml, save_dir=/Users/jin/Documents/GitHub/AI-Project/runs/classify/fingerprint-classification10\n",
      "\u001b[34m\u001b[1mtrain:\u001b[0m /Users/jin/Documents/GitHub/datasets/fingerprint-pattern-classifier/v2/original_dataset/train... found 2441 images in 4 classes ✅ \n",
      "\u001b[34m\u001b[1mval:\u001b[0m None...\n",
      "\u001b[34m\u001b[1mtest:\u001b[0m /Users/jin/Documents/GitHub/datasets/fingerprint-pattern-classifier/v2/original_dataset/test... found 120 images in 4 classes ✅ \n",
      "\n",
      "                   from  n    params  module                                       arguments                     \n",
      "  0                  -1  1       464  ultralytics.nn.modules.conv.Conv             [3, 16, 3, 2]                 \n",
      "  1                  -1  1      4672  ultralytics.nn.modules.conv.Conv             [16, 32, 3, 2]                \n",
      "  2                  -1  1      7360  ultralytics.nn.modules.block.C2f             [32, 32, 1, True]             \n",
      "  3                  -1  1     18560  ultralytics.nn.modules.conv.Conv             [32, 64, 3, 2]                \n",
      "  4                  -1  2     49664  ultralytics.nn.modules.block.C2f             [64, 64, 2, True]             \n",
      "  5                  -1  1     73984  ultralytics.nn.modules.conv.Conv             [64, 128, 3, 2]               \n",
      "  6                  -1  2    197632  ultralytics.nn.modules.block.C2f             [128, 128, 2, True]           \n",
      "  7                  -1  1    295424  ultralytics.nn.modules.conv.Conv             [128, 256, 3, 2]              \n",
      "  8                  -1  1    460288  ultralytics.nn.modules.block.C2f             [256, 256, 1, True]           \n",
      "  9                  -1  1    335364  ultralytics.nn.modules.head.Classify         [256, 4]                      \n",
      "YOLOv8n-cls summary: 56 layers, 1,443,412 parameters, 1,443,412 gradients, 3.4 GFLOPs\n",
      "Transferred 158/158 items from pretrained weights\n"
     ]
    },
    {
     "name": "stderr",
     "output_type": "stream",
     "text": [
      "\u001b[34m\u001b[1mtrain: \u001b[0mScanning /Users/jin/Documents/GitHub/datasets/fingerprint-pattern-classifier/v2/original_dataset/train... 2441 images, 0 corrupt: 100%|██████████| 2441/2441 [00:00<?, ?it/s]\n",
      "\u001b[34m\u001b[1mval: \u001b[0mScanning /Users/jin/Documents/GitHub/datasets/fingerprint-pattern-classifier/v2/original_dataset/test... 120 images, 0 corrupt: 100%|██████████| 120/120 [00:00<?, ?it/s]"
     ]
    },
    {
     "name": "stdout",
     "output_type": "stream",
     "text": [
      "\u001b[34m\u001b[1moptimizer:\u001b[0m 'optimizer=auto' found, ignoring 'lr0=0.01' and 'momentum=0.937' and determining best 'optimizer', 'lr0' and 'momentum' automatically... \n",
      "\u001b[34m\u001b[1moptimizer:\u001b[0m AdamW(lr=0.00125, momentum=0.9) with parameter groups 26 weight(decay=0.0), 27 weight(decay=0.0005), 27 bias(decay=0.0)\n",
      "Image sizes 512 train, 512 val\n",
      "Using 0 dataloader workers\n",
      "Logging results to \u001b[1m/Users/jin/Documents/GitHub/AI-Project/runs/classify/fingerprint-classification10\u001b[0m\n",
      "Starting training for 10 epochs...\n",
      "\n",
      "      Epoch    GPU_mem       loss  Instances       Size\n"
     ]
    },
    {
     "name": "stderr",
     "output_type": "stream",
     "text": [
      "\n",
      "       1/10         0G     0.3053          9        512: 100%|██████████| 153/153 [04:19<00:00,  1.70s/it]\n",
      "               classes   top1_acc   top5_acc: 100%|██████████| 4/4 [00:06<00:00,  1.62s/it]"
     ]
    },
    {
     "name": "stdout",
     "output_type": "stream",
     "text": [
      "                   all      0.917          1\n",
      "\n",
      "      Epoch    GPU_mem       loss  Instances       Size\n"
     ]
    },
    {
     "name": "stderr",
     "output_type": "stream",
     "text": [
      "\n",
      "       2/10         0G      0.225          9        512: 100%|██████████| 153/153 [04:21<00:00,  1.71s/it]\n",
      "               classes   top1_acc   top5_acc: 100%|██████████| 4/4 [00:06<00:00,  1.62s/it]"
     ]
    },
    {
     "name": "stdout",
     "output_type": "stream",
     "text": [
      "                   all        0.9          1\n",
      "\n",
      "      Epoch    GPU_mem       loss  Instances       Size\n"
     ]
    },
    {
     "name": "stderr",
     "output_type": "stream",
     "text": [
      "\n",
      "       3/10         0G     0.2277          9        512: 100%|██████████| 153/153 [04:29<00:00,  1.76s/it]\n",
      "               classes   top1_acc   top5_acc: 100%|██████████| 4/4 [00:06<00:00,  1.60s/it]"
     ]
    },
    {
     "name": "stdout",
     "output_type": "stream",
     "text": [
      "                   all      0.942          1\n",
      "\n",
      "      Epoch    GPU_mem       loss  Instances       Size\n"
     ]
    },
    {
     "name": "stderr",
     "output_type": "stream",
     "text": [
      "\n",
      "       4/10         0G     0.2247          9        512: 100%|██████████| 153/153 [04:17<00:00,  1.68s/it]\n",
      "               classes   top1_acc   top5_acc: 100%|██████████| 4/4 [00:06<00:00,  1.59s/it]"
     ]
    },
    {
     "name": "stdout",
     "output_type": "stream",
     "text": [
      "                   all      0.933          1\n",
      "\n",
      "      Epoch    GPU_mem       loss  Instances       Size\n"
     ]
    },
    {
     "name": "stderr",
     "output_type": "stream",
     "text": [
      "\n",
      "       5/10         0G     0.1666          9        512: 100%|██████████| 153/153 [04:14<00:00,  1.67s/it]\n",
      "               classes   top1_acc   top5_acc: 100%|██████████| 4/4 [00:06<00:00,  1.59s/it]"
     ]
    },
    {
     "name": "stdout",
     "output_type": "stream",
     "text": [
      "                   all      0.925          1\n",
      "\n",
      "      Epoch    GPU_mem       loss  Instances       Size\n"
     ]
    },
    {
     "name": "stderr",
     "output_type": "stream",
     "text": [
      "\n",
      "       6/10         0G     0.1635          9        512: 100%|██████████| 153/153 [04:14<00:00,  1.66s/it]\n",
      "               classes   top1_acc   top5_acc: 100%|██████████| 4/4 [00:06<00:00,  1.59s/it]"
     ]
    },
    {
     "name": "stdout",
     "output_type": "stream",
     "text": [
      "                   all       0.95          1\n",
      "\n",
      "      Epoch    GPU_mem       loss  Instances       Size\n"
     ]
    },
    {
     "name": "stderr",
     "output_type": "stream",
     "text": [
      "\n",
      "       7/10         0G     0.1399          9        512: 100%|██████████| 153/153 [04:14<00:00,  1.67s/it]\n",
      "               classes   top1_acc   top5_acc: 100%|██████████| 4/4 [00:06<00:00,  1.60s/it]"
     ]
    },
    {
     "name": "stdout",
     "output_type": "stream",
     "text": [
      "                   all      0.908          1\n",
      "\n",
      "      Epoch    GPU_mem       loss  Instances       Size\n"
     ]
    },
    {
     "name": "stderr",
     "output_type": "stream",
     "text": [
      "\n",
      "       8/10         0G     0.1337          9        512: 100%|██████████| 153/153 [04:15<00:00,  1.67s/it]\n",
      "               classes   top1_acc   top5_acc: 100%|██████████| 4/4 [00:06<00:00,  1.61s/it]"
     ]
    },
    {
     "name": "stdout",
     "output_type": "stream",
     "text": [
      "                   all      0.942          1\n",
      "\n",
      "      Epoch    GPU_mem       loss  Instances       Size\n"
     ]
    },
    {
     "name": "stderr",
     "output_type": "stream",
     "text": [
      "\n",
      "       9/10         0G     0.1136          9        512: 100%|██████████| 153/153 [04:22<00:00,  1.71s/it]\n",
      "               classes   top1_acc   top5_acc: 100%|██████████| 4/4 [00:06<00:00,  1.60s/it]"
     ]
    },
    {
     "name": "stdout",
     "output_type": "stream",
     "text": [
      "                   all      0.933          1\n",
      "\n",
      "      Epoch    GPU_mem       loss  Instances       Size\n"
     ]
    },
    {
     "name": "stderr",
     "output_type": "stream",
     "text": [
      "\n",
      "      10/10         0G     0.1136          9        512: 100%|██████████| 153/153 [04:20<00:00,  1.70s/it]\n",
      "               classes   top1_acc   top5_acc: 100%|██████████| 4/4 [00:06<00:00,  1.59s/it]"
     ]
    },
    {
     "name": "stdout",
     "output_type": "stream",
     "text": [
      "                   all      0.942          1\n",
      "\n",
      "10 epochs completed in 0.737 hours.\n",
      "Optimizer stripped from /Users/jin/Documents/GitHub/AI-Project/runs/classify/fingerprint-classification10/weights/last.pt, 3.0MB\n",
      "Optimizer stripped from /Users/jin/Documents/GitHub/AI-Project/runs/classify/fingerprint-classification10/weights/best.pt, 3.0MB\n",
      "\n",
      "Validating /Users/jin/Documents/GitHub/AI-Project/runs/classify/fingerprint-classification10/weights/best.pt...\n",
      "Ultralytics 8.3.98 🚀 Python-3.12.9 torch-2.6.0 CPU (Apple M2 Pro)\n",
      "YOLOv8n-cls summary (fused): 30 layers, 1,440,004 parameters, 0 gradients, 3.3 GFLOPs\n",
      "WARNING ⚠️ Dataset 'split=val' not found, using 'split=test' instead.\n",
      "\u001b[34m\u001b[1mtrain:\u001b[0m /Users/jin/Documents/GitHub/datasets/fingerprint-pattern-classifier/v2/original_dataset/train... found 2441 images in 4 classes ✅ \n",
      "\u001b[34m\u001b[1mval:\u001b[0m /Users/jin/Documents/GitHub/datasets/fingerprint-pattern-classifier/v2/original_dataset/test... found 120 images in 4 classes ✅ \n"
     ]
    },
    {
     "name": "stderr",
     "output_type": "stream",
     "text": [
      "\n"
     ]
    },
    {
     "name": "stdout",
     "output_type": "stream",
     "text": [
      "\u001b[34m\u001b[1mtest:\u001b[0m /Users/jin/Documents/GitHub/datasets/fingerprint-pattern-classifier/v2/original_dataset/test... found 120 images in 4 classes ✅ \n"
     ]
    },
    {
     "name": "stderr",
     "output_type": "stream",
     "text": [
      "               classes   top1_acc   top5_acc: 100%|██████████| 4/4 [00:06<00:00,  1.60s/it]\n"
     ]
    },
    {
     "name": "stdout",
     "output_type": "stream",
     "text": [
      "                   all       0.95          1\n",
      "Speed: 0.0ms preprocess, 49.1ms inference, 0.0ms loss, 0.0ms postprocess per image\n",
      "Results saved to \u001b[1m/Users/jin/Documents/GitHub/AI-Project/runs/classify/fingerprint-classification10\u001b[0m\n"
     ]
    },
    {
     "ename": "FileNotFoundError",
     "evalue": "[Errno 2] No such file or directory: '/Users/jin/Documents/GitHub/AI-Project/Fingerprint Classifier/yolov8n-cls.pt'",
     "output_type": "error",
     "traceback": [
      "\u001b[31m---------------------------------------------------------------------------\u001b[39m",
      "\u001b[31mFileNotFoundError\u001b[39m                         Traceback (most recent call last)",
      "\u001b[36mCell\u001b[39m\u001b[36m \u001b[39m\u001b[32mIn[10]\u001b[39m\u001b[32m, line 15\u001b[39m\n\u001b[32m      6\u001b[39m \u001b[38;5;28;01mfor\u001b[39;00m img_size \u001b[38;5;129;01min\u001b[39;00m img_sizes:\n\u001b[32m      7\u001b[39m     classification_model.train(version_num=version_num, \n\u001b[32m      8\u001b[39m                                dataset_dir=\u001b[33mf\u001b[39m\u001b[33m\"\u001b[39m\u001b[33m/Users/jin/Documents/GitHub/datasets/fingerprint-pattern-classifier/v\u001b[39m\u001b[38;5;132;01m{\u001b[39;00mversion_num\u001b[38;5;132;01m}\u001b[39;00m\u001b[33m/original_dataset\u001b[39m\u001b[33m\"\u001b[39m,\n\u001b[32m      9\u001b[39m                                imgsz = img_size,\n\u001b[32m   (...)\u001b[39m\u001b[32m     13\u001b[39m                                save_period=save_period\n\u001b[32m     14\u001b[39m                                )\n\u001b[32m---> \u001b[39m\u001b[32m15\u001b[39m     \u001b[43mos\u001b[49m\u001b[43m.\u001b[49m\u001b[43mremove\u001b[49m\u001b[43m(\u001b[49m\u001b[33;43m\"\u001b[39;49m\u001b[33;43m/Users/jin/Documents/GitHub/AI-Project/Fingerprint Classifier/yolov8n-cls.pt\u001b[39;49m\u001b[33;43m\"\u001b[39;49m\u001b[43m)\u001b[49m\n",
      "\u001b[31mFileNotFoundError\u001b[39m: [Errno 2] No such file or directory: '/Users/jin/Documents/GitHub/AI-Project/Fingerprint Classifier/yolov8n-cls.pt'"
     ]
    }
   ],
   "source": [
    "classification_model = YOLOFingerClassification(model_name = \"yolov8n-cls.pt\")\n",
    "version_num = 2\n",
    "\n",
    "for dropout in dropouts:\n",
    "    for batch_size in batch_sizes:\n",
    "        for img_size in img_sizes:\n",
    "            classification_model.train(version_num=version_num, \n",
    "                                       dataset_dir=f\"/Users/jin/Documents/GitHub/datasets/fingerprint-pattern-classifier/v{version_num}/original_dataset\",\n",
    "                                       imgsz = img_size,\n",
    "                                       dropout = dropout,\n",
    "                                       batch = batch_size,\n",
    "                                       epochs = epochs,\n",
    "                                       save_period=save_period\n",
    "                                       )"
   ]
  }
 ],
 "metadata": {
  "kernelspec": {
   "display_name": "venv",
   "language": "python",
   "name": "python3"
  },
  "language_info": {
   "codemirror_mode": {
    "name": "ipython",
    "version": 3
   },
   "file_extension": ".py",
   "mimetype": "text/x-python",
   "name": "python",
   "nbconvert_exporter": "python",
   "pygments_lexer": "ipython3",
   "version": "3.12.9"
  }
 },
 "nbformat": 4,
 "nbformat_minor": 2
}
