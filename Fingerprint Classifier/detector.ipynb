{
 "cells": [
  {
   "cell_type": "code",
   "execution_count": 42,
   "metadata": {},
   "outputs": [],
   "source": [
    "import os\n",
    "from roboflow import Roboflow\n",
    "import re\n",
    "import yaml\n",
    "import shutil"
   ]
  },
  {
   "cell_type": "code",
   "execution_count": null,
   "metadata": {},
   "outputs": [
    {
     "name": "stdout",
     "output_type": "stream",
     "text": [
      "efcTvzGpArL7OorvmZT8 fingerprint-generation fingerprint-pattern-detection\n"
     ]
    }
   ],
   "source": [
    "RF_KEY  = os.environ.get(\"RF_KEY\", \"\")\n",
    "RF_WORKSPACE = os.environ.get(\"RF_WORKSPACE\", \"\")\n",
    "RF_PROJECT = os.environ.get(\"RF_LABELLER_PROJECT\", \"\")\n",
    "\n",
    "VERSION_NUM = 2\n",
    "CLASSES = [\"concentric_whorl\", \"imploding_whorl\", \"loop\",\"standard_arch\"]\n",
    "print(RF_KEY, RF_WORKSPACE, RF_PROJECT)"
   ]
  },
  {
   "cell_type": "code",
   "execution_count": 44,
   "metadata": {},
   "outputs": [],
   "source": [
    "def filter_images(class_name: str, dir: str):\n",
    "    labels = {   \n",
    "        \"concentric_whorl\": (\"0\", f\"Concentric whorl dataset v{VERSION_NUM}\"),\n",
    "        \"imploding_whorl\": (\"1\", f\"Imploding whorl dataset v{VERSION_NUM}\"),\n",
    "        \"loop\": (\"2\", f\"Loop dataset v{VERSION_NUM}\"),\n",
    "        \"standard_arch\": (\"3\", f\"Simple arch dataset v{VERSION_NUM}\")\n",
    "    }\n",
    "\n",
    "    label = labels.get(class_name.lower(), None)[0]\n",
    "    label_dir = os.path.abspath(os.path.join(dir, \"labels\"))\n",
    "    image_dir = os.path.abspath(os.path.join(dir, \"images\"))\n",
    "\n",
    "    for label_file_name in os.listdir(label_dir):\n",
    "        label_file_path = os.path.join(label_dir, label_file_name)\n",
    "\n",
    "        with open(label_file_path) as label_file:\n",
    "            lines = label_file.read(1)\n",
    "            try:\n",
    "                if lines[0] != label:\n",
    "                    os.remove(label_file_path)\n",
    "                    image_file_name = re.sub(r\"\\.[^.]+$\", \"\", label_file_name)+\".jpg\"\n",
    "                    image_file_path = os.path.join(image_dir, image_file_name)\n",
    "                    os.remove(image_file_path)\n",
    "            except IndexError: # catches any images labelled as \"null\" on Roboflow\n",
    "                    os.remove(label_file_path)\n",
    "                    image_file_name = re.sub(r\"\\.[^.]+$\", \"\", label_file_name)+\".jpg\"\n",
    "                    image_file_path = os.path.join(image_dir, image_file_name)\n",
    "                    os.remove(image_file_path)\n"
   ]
  },
  {
   "cell_type": "code",
   "execution_count": 45,
   "metadata": {},
   "outputs": [],
   "source": [
    "def modify_yaml(class_name, dir):\n",
    "    yaml_dir = os.path.abspath(os.path.join(dir, \"data.yaml\"))\n",
    "\n",
    "    with open(yaml_dir, \"r\") as f:\n",
    "        data = yaml.safe_load(f)\n",
    "    data['names'] = [class_name]\n",
    "    data['nc'] = 1\n",
    "    with open(yaml_dir, 'w') as f:\n",
    "        yaml.dump(data, f, sort_keys=False)    "
   ]
  },
  {
   "cell_type": "code",
   "execution_count": 46,
   "metadata": {},
   "outputs": [],
   "source": [
    "def filter_for_class(dir:str, class_name:str):\n",
    "    filter_images(class_name, os.path.abspath(os.path.join(dir, \"train/\")))\n",
    "    filter_images(class_name, os.path.abspath(os.path.join(dir, \"valid/\")))\n",
    "    filter_images(class_name, os.path.abspath(os.path.join(dir, \"test/\")))\n",
    "    modify_yaml(class_name, dir)\n",
    "    new_dir = os.path.abspath(os.path.join(dir, f\"../v{VERSION_NUM}/{class_name} dataset v{VERSION_NUM}\"))\n",
    "    os.rename(dir, new_dir)"
   ]
  },
  {
   "cell_type": "code",
   "execution_count": null,
   "metadata": {},
   "outputs": [],
   "source": [
    "def filter_class_dataset(class_name: str):\n",
    "    rf = Roboflow(api_key=RF_KEY)\n",
    "    project = rf.workspace(RF_WORKSPACE).project(RF_PROJECT)\n",
    "    dataset = project.version(VERSION_NUM).download(\"yolov8\", f\"../../datasets/Fingerprint pattern/Fingerprint dataset v{VERSION_NUM}\")\n",
    "\n",
    "    curr_dir = os.getcwd()\n",
    "    parent_dir = os.path.abspath(os.path.join(curr_dir, f\"../..\"))\n",
    "    dataset_dir = os.path.abspath(os.path.join(parent_dir, f\"datasets/Fingerprint pattern/Fingerprint dataset v{VERSION_NUM}\" ))\n",
    "    filter_for_class(dir = dataset_dir, class_name=class_name)"
   ]
  },
  {
   "cell_type": "code",
   "execution_count": 52,
   "metadata": {},
   "outputs": [
    {
     "name": "stdout",
     "output_type": "stream",
     "text": [
      "/Users/jin/Documents/GitHub/datasets/Fingerprint pattern/v2\n",
      "loading Roboflow workspace...\n",
      "loading Roboflow project...\n",
      "loading Roboflow workspace...\n",
      "loading Roboflow project...\n"
     ]
    },
    {
     "name": "stderr",
     "output_type": "stream",
     "text": [
      "Downloading Dataset Version Zip in ../../datasets/Fingerprint pattern/Fingerprint dataset v2 to yolov8:: 100%|██████████| 9859/9859 [00:02<00:00, 4869.28it/s] "
     ]
    },
    {
     "name": "stdout",
     "output_type": "stream",
     "text": [
      "\n"
     ]
    },
    {
     "name": "stderr",
     "output_type": "stream",
     "text": [
      "\n",
      "Extracting Dataset Version Zip to ../../datasets/Fingerprint pattern/Fingerprint dataset v2 in yolov8:: 100%|██████████| 436/436 [00:00<00:00, 8067.21it/s]\n"
     ]
    },
    {
     "name": "stdout",
     "output_type": "stream",
     "text": [
      "loading Roboflow workspace...\n",
      "loading Roboflow project...\n"
     ]
    },
    {
     "name": "stderr",
     "output_type": "stream",
     "text": [
      "Downloading Dataset Version Zip in ../../datasets/Fingerprint pattern/Fingerprint dataset v2 to yolov8:: 100%|██████████| 9859/9859 [00:02<00:00, 4558.07it/s] "
     ]
    },
    {
     "name": "stdout",
     "output_type": "stream",
     "text": [
      "\n"
     ]
    },
    {
     "name": "stderr",
     "output_type": "stream",
     "text": [
      "\n",
      "Extracting Dataset Version Zip to ../../datasets/Fingerprint pattern/Fingerprint dataset v2 in yolov8:: 100%|██████████| 436/436 [00:00<00:00, 7901.85it/s]\n"
     ]
    },
    {
     "name": "stdout",
     "output_type": "stream",
     "text": [
      "loading Roboflow workspace...\n",
      "loading Roboflow project...\n"
     ]
    },
    {
     "name": "stderr",
     "output_type": "stream",
     "text": [
      "Downloading Dataset Version Zip in ../../datasets/Fingerprint pattern/Fingerprint dataset v2 to yolov8:: 100%|██████████| 9859/9859 [00:01<00:00, 4933.83it/s] "
     ]
    },
    {
     "name": "stdout",
     "output_type": "stream",
     "text": [
      "\n"
     ]
    },
    {
     "name": "stderr",
     "output_type": "stream",
     "text": [
      "\n",
      "Extracting Dataset Version Zip to ../../datasets/Fingerprint pattern/Fingerprint dataset v2 in yolov8:: 100%|██████████| 436/436 [00:00<00:00, 8165.26it/s]\n"
     ]
    }
   ],
   "source": [
    "curr_dir = os.getcwd()\n",
    "parent_dir = os.path.abspath(os.path.join(curr_dir, f\"../..\"))\n",
    "new_dir = os.path.abspath(os.path.join(parent_dir, f'datasets/Fingerprint pattern/v{VERSION_NUM}'))\n",
    "print(new_dir)\n",
    "if os.path.exists(new_dir):\n",
    "    os.remove(new_dir)\n",
    "os.makedirs(new_dir)\n",
    "\n",
    "for c in CLASSES:\n",
    "    try:\n",
    "        filter_class_dataset(c)\n",
    "    except:\n",
    "        pass\n"
   ]
  }
 ],
 "metadata": {
  "kernelspec": {
   "display_name": "venv",
   "language": "python",
   "name": "python3"
  },
  "language_info": {
   "codemirror_mode": {
    "name": "ipython",
    "version": 3
   },
   "file_extension": ".py",
   "mimetype": "text/x-python",
   "name": "python",
   "nbconvert_exporter": "python",
   "pygments_lexer": "ipython3",
   "version": "3.11.0"
  }
 },
 "nbformat": 4,
 "nbformat_minor": 2
}
