{
 "cells": [
  {
   "cell_type": "code",
   "execution_count": 2,
   "metadata": {},
   "outputs": [],
   "source": [
    "import os\n",
    "from roboflow import Roboflow\n",
    "from ultralytics import YOLO\n"
   ]
  },
  {
   "cell_type": "code",
   "execution_count": 5,
   "metadata": {},
   "outputs": [],
   "source": [
    "RF_LABELLER_VER_NUM = os.environ.get(\"RF_LABELLER_VER_NUM\", None)"
   ]
  },
  {
   "cell_type": "code",
   "execution_count": 6,
   "metadata": {},
   "outputs": [],
   "source": [
    "model = YOLO(\"yolov8s.pt\")"
   ]
  },
  {
   "cell_type": "code",
   "execution_count": 7,
   "metadata": {},
   "outputs": [
    {
     "name": "stdout",
     "output_type": "stream",
     "text": [
      "/Users/jin/Documents/GitHub/datasets/Fingerprint pattern/v2\n"
     ]
    }
   ],
   "source": [
    "curr_dir = os.getcwd()\n",
    "parent_dir = os.path.abspath(os.path.join(curr_dir, \"../..\"))\n",
    "dataset_dir = os.path.abspath(os.path.join(parent_dir, f\"datasets/Fingerprint pattern/v{RF_LABELLER_VER_NUM}\"))\n",
    "print(dataset_dir)\n",
    "files = os.listdir(dataset_dir)"
   ]
  },
  {
   "cell_type": "code",
   "execution_count": null,
   "metadata": {},
   "outputs": [],
   "source": [
    "fingerprint_pattern = \"concentric_whorl\"\n",
    "model = YOLO(\"yolov8s.pt\")\n",
    "\n",
    "model.train(\n",
    "    data=f\"Fingerprint pattern/v{RF_LABELLER_VER_NUM}\",  # auto set by roboflow\n",
    "    epochs=8,\n",
    "    imgsz=512,\n",
    "    batch=64,\n",
    "    dropout = 0.3,\n",
    "    save_period = 1,\n",
    "    val = True,\n",
    "    name=f\"{fingerprint_pattern}-fingerprint-detection\"\n",
    "    )\n",
    "    "
   ]
  }
 ],
 "metadata": {
  "kernelspec": {
   "display_name": "venv",
   "language": "python",
   "name": "python3"
  },
  "language_info": {
   "codemirror_mode": {
    "name": "ipython",
    "version": 3
   },
   "file_extension": ".py",
   "mimetype": "text/x-python",
   "name": "python",
   "nbconvert_exporter": "python",
   "pygments_lexer": "ipython3",
   "version": "3.11.0"
  }
 },
 "nbformat": 4,
 "nbformat_minor": 2
}
