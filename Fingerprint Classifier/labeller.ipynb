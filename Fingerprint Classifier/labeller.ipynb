{
 "cells": [
  {
   "cell_type": "code",
   "execution_count": null,
   "metadata": {},
   "outputs": [],
   "source": [
    "import os\n",
    "from roboflow import Roboflow\n",
    "from ultralyticsplus import YOLO\n",
    "from roboflow_dataset import RoboflowDataset\n"
   ]
  },
  {
   "cell_type": "code",
   "execution_count": 260,
   "metadata": {},
   "outputs": [],
   "source": [
    "RF_VER_NUM = 6 #check that this version exists in ur dir first\n",
    "RF_PROJECT = \"fingerprint-pattern-detection-vmh4p\"\n",
    "FEATURE = \"loop\""
   ]
  },
  {
   "cell_type": "code",
   "execution_count": 261,
   "metadata": {},
   "outputs": [],
   "source": [
    "model = YOLO(\"yolov8n.pt\")"
   ]
  },
  {
   "cell_type": "code",
   "execution_count": 262,
   "metadata": {},
   "outputs": [
    {
     "name": "stdout",
     "output_type": "stream",
     "text": [
      "/Users/jin/Documents/GitHub/datasets/fingerprint-pattern-detection-vmh4p/v6/loop_dataset_v6/data.yaml\n"
     ]
    }
   ],
   "source": [
    "parent_dir = os.path.abspath(os.path.join(os.getcwd(), \"../..\"))\n",
    "dataset_dir = os.path.abspath(os.path.join(parent_dir, f\"datasets/{RF_PROJECT}/v{RF_VER_NUM}/{FEATURE}_dataset_v{RF_VER_NUM}/data.yaml\"))\n",
    "print(dataset_dir)"
   ]
  },
  {
   "cell_type": "code",
   "execution_count": 265,
   "metadata": {},
   "outputs": [
    {
     "name": "stdout",
     "output_type": "stream",
     "text": [
      "ok\n"
     ]
    }
   ],
   "source": [
    "if not os.path.exists(dataset_dir):\n",
    "    rf_dataset = RoboflowDataset(rf_project=RF_PROJECT, rf_dataset_ver=4)\n",
    "    rf_dataset.download_dataset(export_type=\"folder\", \n",
    "                                dataset_dir=os.path.abspath(dataset_dir)\n",
    "                                )\n",
    "else:\n",
    "    print('ok')"
   ]
  },
  {
   "cell_type": "code",
   "execution_count": 263,
   "metadata": {},
   "outputs": [
    {
     "name": "stdout",
     "output_type": "stream",
     "text": [
      "New https://pypi.org/project/ultralytics/8.3.98 available 😃 Update with 'pip install -U ultralytics'\n",
      "Ultralytics 8.3.96 🚀 Python-3.11.0 torch-2.6.0 CPU (Apple M2 Pro)\n",
      "\u001b[34m\u001b[1mengine/trainer: \u001b[0mtask=detect, mode=train, model=yolov8n.pt, data=/Users/jin/Documents/GitHub/datasets/fingerprint-pattern-detection-vmh4p/v6/loop_dataset_v6/data.yaml, epochs=50, time=None, patience=20, batch=32, imgsz=256, save=True, save_period=4, cache=False, device=None, workers=8, project=None, name=loop_fingerprint_detection, exist_ok=False, pretrained=True, optimizer=auto, verbose=True, seed=0, deterministic=True, single_cls=False, rect=False, cos_lr=False, close_mosaic=10, resume=False, amp=True, fraction=1.0, profile=False, freeze=None, multi_scale=False, overlap_mask=True, mask_ratio=4, dropout=0.2, val=True, split=val, save_json=False, save_hybrid=False, conf=None, iou=0.7, max_det=300, half=False, dnn=False, plots=True, source=None, vid_stride=1, stream_buffer=False, visualize=False, augment=False, agnostic_nms=False, classes=None, retina_masks=False, embed=None, show=False, save_frames=False, save_txt=False, save_conf=False, save_crop=False, show_labels=True, show_conf=True, show_boxes=True, line_width=None, format=torchscript, keras=False, optimize=False, int8=False, dynamic=False, simplify=True, opset=None, workspace=None, nms=False, lr0=0.01, lrf=0.01, momentum=0.937, weight_decay=0.0005, warmup_epochs=3.0, warmup_momentum=0.8, warmup_bias_lr=0.1, box=7.5, cls=0.5, dfl=1.5, pose=12.0, kobj=1.0, nbs=64, hsv_h=0.015, hsv_s=0.7, hsv_v=0.4, degrees=0.0, translate=0.1, scale=0.5, shear=0.0, perspective=0.0, flipud=0.0, fliplr=0.5, bgr=0.0, mosaic=1.0, mixup=0.0, copy_paste=0.0, copy_paste_mode=flip, auto_augment=randaugment, erasing=0.2, crop_fraction=1.0, cfg=None, tracker=botsort.yaml, save_dir=/Users/jin/Documents/GitHub/AI-Project/runs/detect/loop_fingerprint_detection\n",
      "Overriding model.yaml nc=80 with nc=1\n",
      "\n",
      "                   from  n    params  module                                       arguments                     \n",
      "  0                  -1  1       464  ultralytics.nn.modules.conv.Conv             [3, 16, 3, 2]                 \n",
      "  1                  -1  1      4672  ultralytics.nn.modules.conv.Conv             [16, 32, 3, 2]                \n",
      "  2                  -1  1      7360  ultralytics.nn.modules.block.C2f             [32, 32, 1, True]             \n",
      "  3                  -1  1     18560  ultralytics.nn.modules.conv.Conv             [32, 64, 3, 2]                \n",
      "  4                  -1  2     49664  ultralytics.nn.modules.block.C2f             [64, 64, 2, True]             \n",
      "  5                  -1  1     73984  ultralytics.nn.modules.conv.Conv             [64, 128, 3, 2]               \n",
      "  6                  -1  2    197632  ultralytics.nn.modules.block.C2f             [128, 128, 2, True]           \n",
      "  7                  -1  1    295424  ultralytics.nn.modules.conv.Conv             [128, 256, 3, 2]              \n",
      "  8                  -1  1    460288  ultralytics.nn.modules.block.C2f             [256, 256, 1, True]           \n",
      "  9                  -1  1    164608  ultralytics.nn.modules.block.SPPF            [256, 256, 5]                 \n",
      " 10                  -1  1         0  torch.nn.modules.upsampling.Upsample         [None, 2, 'nearest']          \n",
      " 11             [-1, 6]  1         0  ultralytics.nn.modules.conv.Concat           [1]                           \n",
      " 12                  -1  1    148224  ultralytics.nn.modules.block.C2f             [384, 128, 1]                 \n",
      " 13                  -1  1         0  torch.nn.modules.upsampling.Upsample         [None, 2, 'nearest']          \n",
      " 14             [-1, 4]  1         0  ultralytics.nn.modules.conv.Concat           [1]                           \n",
      " 15                  -1  1     37248  ultralytics.nn.modules.block.C2f             [192, 64, 1]                  \n",
      " 16                  -1  1     36992  ultralytics.nn.modules.conv.Conv             [64, 64, 3, 2]                \n",
      " 17            [-1, 12]  1         0  ultralytics.nn.modules.conv.Concat           [1]                           \n",
      " 18                  -1  1    123648  ultralytics.nn.modules.block.C2f             [192, 128, 1]                 \n",
      " 19                  -1  1    147712  ultralytics.nn.modules.conv.Conv             [128, 128, 3, 2]              \n",
      " 20             [-1, 9]  1         0  ultralytics.nn.modules.conv.Concat           [1]                           \n",
      " 21                  -1  1    493056  ultralytics.nn.modules.block.C2f             [384, 256, 1]                 \n",
      " 22        [15, 18, 21]  1    751507  ultralytics.nn.modules.head.Detect           [1, [64, 128, 256]]           \n",
      "Model summary: 129 layers, 3,011,043 parameters, 3,011,027 gradients, 8.2 GFLOPs\n",
      "\n",
      "Transferred 319/355 items from pretrained weights\n",
      "Freezing layer 'model.22.dfl.conv.weight'\n"
     ]
    },
    {
     "name": "stderr",
     "output_type": "stream",
     "text": [
      "\u001b[34m\u001b[1mtrain: \u001b[0mScanning /Users/jin/Documents/GitHub/datasets/fingerprint-pattern-detection-vmh4p/v6/loop_dataset_v6/train/labels... 855 images, 0 backgrounds, 0 corrupt: 100%|██████████| 855/855 [00:00<00:00, 3093.16it/s]"
     ]
    },
    {
     "name": "stdout",
     "output_type": "stream",
     "text": [
      "\u001b[34m\u001b[1mtrain: \u001b[0mNew cache created: /Users/jin/Documents/GitHub/datasets/fingerprint-pattern-detection-vmh4p/v6/loop_dataset_v6/train/labels.cache\n"
     ]
    },
    {
     "name": "stderr",
     "output_type": "stream",
     "text": [
      "\n",
      "\u001b[34m\u001b[1mval: \u001b[0mScanning /Users/jin/Documents/GitHub/datasets/fingerprint-pattern-detection-vmh4p/v6/loop_dataset_v6/valid/labels... 68 images, 0 backgrounds, 0 corrupt: 100%|██████████| 68/68 [00:00<00:00, 3845.08it/s]"
     ]
    },
    {
     "name": "stdout",
     "output_type": "stream",
     "text": [
      "\u001b[34m\u001b[1mval: \u001b[0mNew cache created: /Users/jin/Documents/GitHub/datasets/fingerprint-pattern-detection-vmh4p/v6/loop_dataset_v6/valid/labels.cache\n",
      "Plotting labels to /Users/jin/Documents/GitHub/AI-Project/runs/detect/loop_fingerprint_detection/labels.jpg... \n"
     ]
    },
    {
     "name": "stderr",
     "output_type": "stream",
     "text": [
      "\n"
     ]
    },
    {
     "name": "stdout",
     "output_type": "stream",
     "text": [
      "\u001b[34m\u001b[1moptimizer:\u001b[0m 'optimizer=auto' found, ignoring 'lr0=0.01' and 'momentum=0.937' and determining best 'optimizer', 'lr0' and 'momentum' automatically... \n",
      "\u001b[34m\u001b[1moptimizer:\u001b[0m AdamW(lr=0.002, momentum=0.9) with parameter groups 57 weight(decay=0.0), 64 weight(decay=0.0005), 63 bias(decay=0.0)\n",
      "Image sizes 256 train, 256 val\n",
      "Using 0 dataloader workers\n",
      "Logging results to \u001b[1m/Users/jin/Documents/GitHub/AI-Project/runs/detect/loop_fingerprint_detection\u001b[0m\n",
      "Starting training for 50 epochs...\n",
      "\n",
      "      Epoch    GPU_mem   box_loss   cls_loss   dfl_loss  Instances       Size\n"
     ]
    },
    {
     "name": "stderr",
     "output_type": "stream",
     "text": [
      "       1/50         0G      1.976      2.533      1.904         46        256: 100%|██████████| 27/27 [00:49<00:00,  1.84s/it]\n",
      "                 Class     Images  Instances      Box(P          R      mAP50  mAP50-95): 100%|██████████| 2/2 [00:02<00:00,  1.15s/it]"
     ]
    },
    {
     "name": "stdout",
     "output_type": "stream",
     "text": [
      "                   all         68         68       0.95      0.835      0.883        0.4\n",
      "\n",
      "      Epoch    GPU_mem   box_loss   cls_loss   dfl_loss  Instances       Size\n"
     ]
    },
    {
     "name": "stderr",
     "output_type": "stream",
     "text": [
      "\n",
      "       2/50         0G      1.783       1.64      1.713         46        256: 100%|██████████| 27/27 [00:47<00:00,  1.76s/it]\n",
      "                 Class     Images  Instances      Box(P          R      mAP50  mAP50-95): 100%|██████████| 2/2 [00:02<00:00,  1.17s/it]"
     ]
    },
    {
     "name": "stdout",
     "output_type": "stream",
     "text": [
      "                   all         68         68      0.484      0.574      0.474      0.123\n",
      "\n",
      "      Epoch    GPU_mem   box_loss   cls_loss   dfl_loss  Instances       Size\n"
     ]
    },
    {
     "name": "stderr",
     "output_type": "stream",
     "text": [
      "\n",
      "       3/50         0G      1.694       1.46      1.665         46        256: 100%|██████████| 27/27 [00:47<00:00,  1.75s/it]\n",
      "                 Class     Images  Instances      Box(P          R      mAP50  mAP50-95): 100%|██████████| 2/2 [00:02<00:00,  1.15s/it]"
     ]
    },
    {
     "name": "stdout",
     "output_type": "stream",
     "text": [
      "                   all         68         68      0.936      0.956      0.947      0.418\n",
      "\n",
      "      Epoch    GPU_mem   box_loss   cls_loss   dfl_loss  Instances       Size\n"
     ]
    },
    {
     "name": "stderr",
     "output_type": "stream",
     "text": [
      "\n",
      "       4/50         0G      1.681      1.388      1.661         44        256: 100%|██████████| 27/27 [00:49<00:00,  1.83s/it]\n",
      "                 Class     Images  Instances      Box(P          R      mAP50  mAP50-95): 100%|██████████| 2/2 [00:02<00:00,  1.19s/it]"
     ]
    },
    {
     "name": "stdout",
     "output_type": "stream",
     "text": [
      "                   all         68         68      0.758      0.926      0.865      0.384\n",
      "\n",
      "      Epoch    GPU_mem   box_loss   cls_loss   dfl_loss  Instances       Size\n"
     ]
    },
    {
     "name": "stderr",
     "output_type": "stream",
     "text": [
      "\n",
      "       5/50         0G      1.666      1.344      1.651         51        256: 100%|██████████| 27/27 [00:47<00:00,  1.76s/it]\n",
      "                 Class     Images  Instances      Box(P          R      mAP50  mAP50-95): 100%|██████████| 2/2 [00:02<00:00,  1.17s/it]"
     ]
    },
    {
     "name": "stdout",
     "output_type": "stream",
     "text": [
      "                   all         68         68      0.933      0.926      0.937        0.4\n",
      "\n",
      "      Epoch    GPU_mem   box_loss   cls_loss   dfl_loss  Instances       Size\n"
     ]
    },
    {
     "name": "stderr",
     "output_type": "stream",
     "text": [
      "\n",
      "       6/50         0G      1.646      1.314      1.609         39        256: 100%|██████████| 27/27 [00:47<00:00,  1.76s/it]\n",
      "                 Class     Images  Instances      Box(P          R      mAP50  mAP50-95): 100%|██████████| 2/2 [00:02<00:00,  1.16s/it]"
     ]
    },
    {
     "name": "stdout",
     "output_type": "stream",
     "text": [
      "                   all         68         68      0.501      0.884      0.562       0.21\n",
      "\n",
      "      Epoch    GPU_mem   box_loss   cls_loss   dfl_loss  Instances       Size\n"
     ]
    },
    {
     "name": "stderr",
     "output_type": "stream",
     "text": [
      "\n",
      "       7/50         0G      1.617      1.279      1.628         42        256: 100%|██████████| 27/27 [00:47<00:00,  1.76s/it]\n",
      "                 Class     Images  Instances      Box(P          R      mAP50  mAP50-95): 100%|██████████| 2/2 [00:02<00:00,  1.20s/it]"
     ]
    },
    {
     "name": "stdout",
     "output_type": "stream",
     "text": [
      "                   all         68         68       0.92      0.912      0.892      0.452\n",
      "\n",
      "      Epoch    GPU_mem   box_loss   cls_loss   dfl_loss  Instances       Size\n"
     ]
    },
    {
     "name": "stderr",
     "output_type": "stream",
     "text": [
      "\n",
      "       8/50         0G      1.608      1.262      1.608         50        256: 100%|██████████| 27/27 [00:48<00:00,  1.80s/it]\n",
      "                 Class     Images  Instances      Box(P          R      mAP50  mAP50-95): 100%|██████████| 2/2 [00:02<00:00,  1.15s/it]"
     ]
    },
    {
     "name": "stdout",
     "output_type": "stream",
     "text": [
      "                   all         68         68      0.934      0.956      0.975      0.516\n",
      "\n",
      "      Epoch    GPU_mem   box_loss   cls_loss   dfl_loss  Instances       Size\n"
     ]
    },
    {
     "name": "stderr",
     "output_type": "stream",
     "text": [
      "\n",
      "       9/50         0G      1.592      1.217      1.593         46        256: 100%|██████████| 27/27 [00:48<00:00,  1.80s/it]\n",
      "                 Class     Images  Instances      Box(P          R      mAP50  mAP50-95): 100%|██████████| 2/2 [00:02<00:00,  1.13s/it]"
     ]
    },
    {
     "name": "stdout",
     "output_type": "stream",
     "text": [
      "                   all         68         68      0.875      0.882      0.896       0.42\n",
      "\n",
      "      Epoch    GPU_mem   box_loss   cls_loss   dfl_loss  Instances       Size\n"
     ]
    },
    {
     "name": "stderr",
     "output_type": "stream",
     "text": [
      "\n",
      "      10/50         0G      1.601      1.196      1.594         53        256: 100%|██████████| 27/27 [00:48<00:00,  1.78s/it]\n",
      "                 Class     Images  Instances      Box(P          R      mAP50  mAP50-95): 100%|██████████| 2/2 [00:02<00:00,  1.19s/it]"
     ]
    },
    {
     "name": "stdout",
     "output_type": "stream",
     "text": [
      "                   all         68         68      0.968      0.971      0.975      0.509\n",
      "\n",
      "      Epoch    GPU_mem   box_loss   cls_loss   dfl_loss  Instances       Size\n"
     ]
    },
    {
     "name": "stderr",
     "output_type": "stream",
     "text": [
      "\n",
      "      11/50         0G       1.56      1.191      1.561         56        256: 100%|██████████| 27/27 [00:48<00:00,  1.80s/it]\n",
      "                 Class     Images  Instances      Box(P          R      mAP50  mAP50-95): 100%|██████████| 2/2 [00:02<00:00,  1.17s/it]"
     ]
    },
    {
     "name": "stdout",
     "output_type": "stream",
     "text": [
      "                   all         68         68       0.95      0.941       0.94       0.52\n",
      "\n",
      "      Epoch    GPU_mem   box_loss   cls_loss   dfl_loss  Instances       Size\n"
     ]
    },
    {
     "name": "stderr",
     "output_type": "stream",
     "text": [
      "\n",
      "      12/50         0G      1.515       1.16      1.517         45        256: 100%|██████████| 27/27 [00:52<00:00,  1.93s/it]\n",
      "                 Class     Images  Instances      Box(P          R      mAP50  mAP50-95): 100%|██████████| 2/2 [00:02<00:00,  1.19s/it]"
     ]
    },
    {
     "name": "stdout",
     "output_type": "stream",
     "text": [
      "                   all         68         68      0.952      0.956      0.972      0.427\n",
      "\n",
      "      Epoch    GPU_mem   box_loss   cls_loss   dfl_loss  Instances       Size\n"
     ]
    },
    {
     "name": "stderr",
     "output_type": "stream",
     "text": [
      "\n",
      "      13/50         0G      1.603      1.185      1.572         49        256: 100%|██████████| 27/27 [00:49<00:00,  1.82s/it]\n",
      "                 Class     Images  Instances      Box(P          R      mAP50  mAP50-95): 100%|██████████| 2/2 [00:02<00:00,  1.14s/it]"
     ]
    },
    {
     "name": "stdout",
     "output_type": "stream",
     "text": [
      "                   all         68         68      0.941      0.956      0.949      0.454\n",
      "\n",
      "      Epoch    GPU_mem   box_loss   cls_loss   dfl_loss  Instances       Size\n"
     ]
    },
    {
     "name": "stderr",
     "output_type": "stream",
     "text": [
      "\n",
      "      14/50         0G      1.514      1.171      1.537         39        256: 100%|██████████| 27/27 [00:46<00:00,  1.73s/it]\n",
      "                 Class     Images  Instances      Box(P          R      mAP50  mAP50-95): 100%|██████████| 2/2 [00:02<00:00,  1.12s/it]"
     ]
    },
    {
     "name": "stdout",
     "output_type": "stream",
     "text": [
      "                   all         68         68      0.956      0.963      0.978      0.504\n",
      "\n",
      "      Epoch    GPU_mem   box_loss   cls_loss   dfl_loss  Instances       Size\n"
     ]
    },
    {
     "name": "stderr",
     "output_type": "stream",
     "text": [
      "\n",
      "      15/50         0G      1.529      1.147      1.548         45        256: 100%|██████████| 27/27 [00:46<00:00,  1.74s/it]\n",
      "                 Class     Images  Instances      Box(P          R      mAP50  mAP50-95): 100%|██████████| 2/2 [00:02<00:00,  1.14s/it]"
     ]
    },
    {
     "name": "stdout",
     "output_type": "stream",
     "text": [
      "                   all         68         68      0.981      0.985      0.986      0.461\n",
      "\n",
      "      Epoch    GPU_mem   box_loss   cls_loss   dfl_loss  Instances       Size\n"
     ]
    },
    {
     "name": "stderr",
     "output_type": "stream",
     "text": [
      "\n",
      "      16/50         0G      1.514      1.155      1.557         38        256: 100%|██████████| 27/27 [00:46<00:00,  1.72s/it]\n",
      "                 Class     Images  Instances      Box(P          R      mAP50  mAP50-95): 100%|██████████| 2/2 [00:02<00:00,  1.14s/it]"
     ]
    },
    {
     "name": "stdout",
     "output_type": "stream",
     "text": [
      "                   all         68         68      0.923      0.941      0.953      0.495\n",
      "\n",
      "      Epoch    GPU_mem   box_loss   cls_loss   dfl_loss  Instances       Size\n"
     ]
    },
    {
     "name": "stderr",
     "output_type": "stream",
     "text": [
      "\n",
      "      17/50         0G      1.522      1.118       1.55         58        256: 100%|██████████| 27/27 [00:46<00:00,  1.74s/it]\n",
      "                 Class     Images  Instances      Box(P          R      mAP50  mAP50-95): 100%|██████████| 2/2 [00:02<00:00,  1.12s/it]"
     ]
    },
    {
     "name": "stdout",
     "output_type": "stream",
     "text": [
      "                   all         68         68      0.912      0.912      0.923      0.489\n",
      "\n",
      "      Epoch    GPU_mem   box_loss   cls_loss   dfl_loss  Instances       Size\n"
     ]
    },
    {
     "name": "stderr",
     "output_type": "stream",
     "text": [
      "\n",
      "      18/50         0G      1.489       1.11      1.523         41        256: 100%|██████████| 27/27 [00:48<00:00,  1.79s/it]\n",
      "                 Class     Images  Instances      Box(P          R      mAP50  mAP50-95): 100%|██████████| 2/2 [00:02<00:00,  1.14s/it]"
     ]
    },
    {
     "name": "stdout",
     "output_type": "stream",
     "text": [
      "                   all         68         68      0.981          1      0.995      0.519\n",
      "\n",
      "      Epoch    GPU_mem   box_loss   cls_loss   dfl_loss  Instances       Size\n"
     ]
    },
    {
     "name": "stderr",
     "output_type": "stream",
     "text": [
      "\n",
      "      19/50         0G      1.492      1.112      1.539         47        256: 100%|██████████| 27/27 [00:48<00:00,  1.80s/it]\n",
      "                 Class     Images  Instances      Box(P          R      mAP50  mAP50-95): 100%|██████████| 2/2 [00:02<00:00,  1.15s/it]"
     ]
    },
    {
     "name": "stdout",
     "output_type": "stream",
     "text": [
      "                   all         68         68       0.98      0.985      0.984      0.494\n",
      "\n",
      "      Epoch    GPU_mem   box_loss   cls_loss   dfl_loss  Instances       Size\n"
     ]
    },
    {
     "name": "stderr",
     "output_type": "stream",
     "text": [
      "\n",
      "      20/50         0G      1.488      1.112      1.512         45        256: 100%|██████████| 27/27 [00:50<00:00,  1.85s/it]\n",
      "                 Class     Images  Instances      Box(P          R      mAP50  mAP50-95): 100%|██████████| 2/2 [00:02<00:00,  1.21s/it]"
     ]
    },
    {
     "name": "stdout",
     "output_type": "stream",
     "text": [
      "                   all         68         68      0.939      0.941      0.927      0.512\n",
      "\n",
      "      Epoch    GPU_mem   box_loss   cls_loss   dfl_loss  Instances       Size\n"
     ]
    },
    {
     "name": "stderr",
     "output_type": "stream",
     "text": [
      "\n",
      "      21/50         0G      1.461      1.081      1.512         54        256: 100%|██████████| 27/27 [00:51<00:00,  1.91s/it]\n",
      "                 Class     Images  Instances      Box(P          R      mAP50  mAP50-95): 100%|██████████| 2/2 [00:02<00:00,  1.18s/it]"
     ]
    },
    {
     "name": "stdout",
     "output_type": "stream",
     "text": [
      "                   all         68         68      0.971      0.985      0.987        0.5\n",
      "\n",
      "      Epoch    GPU_mem   box_loss   cls_loss   dfl_loss  Instances       Size\n"
     ]
    },
    {
     "name": "stderr",
     "output_type": "stream",
     "text": [
      "\n",
      "      22/50         0G      1.456       1.06      1.503         44        256: 100%|██████████| 27/27 [00:50<00:00,  1.88s/it]\n",
      "                 Class     Images  Instances      Box(P          R      mAP50  mAP50-95): 100%|██████████| 2/2 [00:02<00:00,  1.15s/it]"
     ]
    },
    {
     "name": "stdout",
     "output_type": "stream",
     "text": [
      "                   all         68         68      0.974      0.985      0.982      0.508\n",
      "\n",
      "      Epoch    GPU_mem   box_loss   cls_loss   dfl_loss  Instances       Size\n"
     ]
    },
    {
     "name": "stderr",
     "output_type": "stream",
     "text": [
      "\n",
      "      23/50         0G      1.448      1.067       1.51         41        256: 100%|██████████| 27/27 [00:48<00:00,  1.81s/it]\n",
      "                 Class     Images  Instances      Box(P          R      mAP50  mAP50-95): 100%|██████████| 2/2 [00:02<00:00,  1.28s/it]"
     ]
    },
    {
     "name": "stdout",
     "output_type": "stream",
     "text": [
      "                   all         68         68      0.941      0.941      0.951      0.519\n",
      "\n",
      "      Epoch    GPU_mem   box_loss   cls_loss   dfl_loss  Instances       Size\n"
     ]
    },
    {
     "name": "stderr",
     "output_type": "stream",
     "text": [
      "\n",
      "      24/50         0G      1.436      1.051      1.498         41        256: 100%|██████████| 27/27 [00:48<00:00,  1.80s/it]\n",
      "                 Class     Images  Instances      Box(P          R      mAP50  mAP50-95): 100%|██████████| 2/2 [00:02<00:00,  1.16s/it]"
     ]
    },
    {
     "name": "stdout",
     "output_type": "stream",
     "text": [
      "                   all         68         68      0.968      0.971      0.982       0.51\n",
      "\n",
      "      Epoch    GPU_mem   box_loss   cls_loss   dfl_loss  Instances       Size\n"
     ]
    },
    {
     "name": "stderr",
     "output_type": "stream",
     "text": [
      "\n",
      "      25/50         0G      1.495      1.038      1.524         46        256: 100%|██████████| 27/27 [00:46<00:00,  1.72s/it]\n",
      "                 Class     Images  Instances      Box(P          R      mAP50  mAP50-95): 100%|██████████| 2/2 [00:02<00:00,  1.15s/it]"
     ]
    },
    {
     "name": "stdout",
     "output_type": "stream",
     "text": [
      "                   all         68         68      0.909      0.912      0.914      0.516\n",
      "\n",
      "      Epoch    GPU_mem   box_loss   cls_loss   dfl_loss  Instances       Size\n"
     ]
    },
    {
     "name": "stderr",
     "output_type": "stream",
     "text": [
      "\n",
      "      26/50         0G      1.409      1.055      1.482         54        256: 100%|██████████| 27/27 [00:48<00:00,  1.79s/it]\n",
      "                 Class     Images  Instances      Box(P          R      mAP50  mAP50-95): 100%|██████████| 2/2 [00:02<00:00,  1.15s/it]"
     ]
    },
    {
     "name": "stdout",
     "output_type": "stream",
     "text": [
      "                   all         68         68      0.978      0.985      0.991      0.494\n",
      "\n",
      "      Epoch    GPU_mem   box_loss   cls_loss   dfl_loss  Instances       Size\n"
     ]
    },
    {
     "name": "stderr",
     "output_type": "stream",
     "text": [
      "\n",
      "      27/50         0G      1.415      1.063      1.476         55        256: 100%|██████████| 27/27 [00:50<00:00,  1.88s/it]\n",
      "                 Class     Images  Instances      Box(P          R      mAP50  mAP50-95): 100%|██████████| 2/2 [00:02<00:00,  1.20s/it]"
     ]
    },
    {
     "name": "stdout",
     "output_type": "stream",
     "text": [
      "                   all         68         68      0.864      0.882      0.854      0.358\n",
      "\n",
      "      Epoch    GPU_mem   box_loss   cls_loss   dfl_loss  Instances       Size\n"
     ]
    },
    {
     "name": "stderr",
     "output_type": "stream",
     "text": [
      "\n",
      "      28/50         0G      1.418      1.066      1.474         44        256: 100%|██████████| 27/27 [00:53<00:00,  1.96s/it]\n",
      "                 Class     Images  Instances      Box(P          R      mAP50  mAP50-95): 100%|██████████| 2/2 [00:02<00:00,  1.27s/it]"
     ]
    },
    {
     "name": "stdout",
     "output_type": "stream",
     "text": [
      "                   all         68         68      0.968      0.971      0.974      0.509\n"
     ]
    },
    {
     "name": "stderr",
     "output_type": "stream",
     "text": [
      "\n"
     ]
    },
    {
     "name": "stdout",
     "output_type": "stream",
     "text": [
      "\n",
      "      Epoch    GPU_mem   box_loss   cls_loss   dfl_loss  Instances       Size\n"
     ]
    },
    {
     "name": "stderr",
     "output_type": "stream",
     "text": [
      "      29/50         0G      1.436      1.044      1.486         52        256: 100%|██████████| 27/27 [00:48<00:00,  1.80s/it]\n",
      "                 Class     Images  Instances      Box(P          R      mAP50  mAP50-95): 100%|██████████| 2/2 [00:02<00:00,  1.21s/it]"
     ]
    },
    {
     "name": "stdout",
     "output_type": "stream",
     "text": [
      "                   all         68         68      0.966      0.971      0.965      0.452\n",
      "\n",
      "      Epoch    GPU_mem   box_loss   cls_loss   dfl_loss  Instances       Size\n"
     ]
    },
    {
     "name": "stderr",
     "output_type": "stream",
     "text": [
      "\n",
      "      30/50         0G      1.409      1.027      1.452         47        256: 100%|██████████| 27/27 [00:50<00:00,  1.87s/it]\n",
      "                 Class     Images  Instances      Box(P          R      mAP50  mAP50-95): 100%|██████████| 2/2 [00:02<00:00,  1.19s/it]"
     ]
    },
    {
     "name": "stdout",
     "output_type": "stream",
     "text": [
      "                   all         68         68      0.954      0.956      0.966      0.545\n",
      "\n",
      "      Epoch    GPU_mem   box_loss   cls_loss   dfl_loss  Instances       Size\n"
     ]
    },
    {
     "name": "stderr",
     "output_type": "stream",
     "text": [
      "\n",
      "      31/50         0G      1.396      1.034      1.473         43        256: 100%|██████████| 27/27 [00:48<00:00,  1.79s/it]\n",
      "                 Class     Images  Instances      Box(P          R      mAP50  mAP50-95): 100%|██████████| 2/2 [00:02<00:00,  1.13s/it]"
     ]
    },
    {
     "name": "stdout",
     "output_type": "stream",
     "text": [
      "                   all         68         68      0.982      0.985       0.99      0.481\n",
      "\n",
      "      Epoch    GPU_mem   box_loss   cls_loss   dfl_loss  Instances       Size\n"
     ]
    },
    {
     "name": "stderr",
     "output_type": "stream",
     "text": [
      "\n",
      "      32/50         0G      1.377      0.983      1.445         48        256: 100%|██████████| 27/27 [00:46<00:00,  1.73s/it]\n",
      "                 Class     Images  Instances      Box(P          R      mAP50  mAP50-95): 100%|██████████| 2/2 [00:02<00:00,  1.13s/it]"
     ]
    },
    {
     "name": "stdout",
     "output_type": "stream",
     "text": [
      "                   all         68         68      0.964      0.971      0.982      0.501\n",
      "\n",
      "      Epoch    GPU_mem   box_loss   cls_loss   dfl_loss  Instances       Size\n"
     ]
    },
    {
     "name": "stderr",
     "output_type": "stream",
     "text": [
      "\n",
      "      33/50         0G      1.368     0.9783      1.453         52        256: 100%|██████████| 27/27 [00:46<00:00,  1.72s/it]\n",
      "                 Class     Images  Instances      Box(P          R      mAP50  mAP50-95): 100%|██████████| 2/2 [00:02<00:00,  1.14s/it]"
     ]
    },
    {
     "name": "stdout",
     "output_type": "stream",
     "text": [
      "                   all         68         68      0.956      0.953      0.945      0.501\n",
      "\n",
      "      Epoch    GPU_mem   box_loss   cls_loss   dfl_loss  Instances       Size\n"
     ]
    },
    {
     "name": "stderr",
     "output_type": "stream",
     "text": [
      "\n",
      "      34/50         0G      1.369     0.9527      1.443         42        256: 100%|██████████| 27/27 [00:48<00:00,  1.81s/it]\n",
      "                 Class     Images  Instances      Box(P          R      mAP50  mAP50-95): 100%|██████████| 2/2 [00:02<00:00,  1.14s/it]"
     ]
    },
    {
     "name": "stdout",
     "output_type": "stream",
     "text": [
      "                   all         68         68      0.971      0.969      0.978      0.522\n",
      "\n",
      "      Epoch    GPU_mem   box_loss   cls_loss   dfl_loss  Instances       Size\n"
     ]
    },
    {
     "name": "stderr",
     "output_type": "stream",
     "text": [
      "\n",
      "      35/50         0G      1.385     0.9896       1.45         42        256: 100%|██████████| 27/27 [00:46<00:00,  1.72s/it]\n",
      "                 Class     Images  Instances      Box(P          R      mAP50  mAP50-95): 100%|██████████| 2/2 [00:02<00:00,  1.15s/it]"
     ]
    },
    {
     "name": "stdout",
     "output_type": "stream",
     "text": [
      "                   all         68         68      0.966      0.956      0.968      0.483\n",
      "\n",
      "      Epoch    GPU_mem   box_loss   cls_loss   dfl_loss  Instances       Size\n"
     ]
    },
    {
     "name": "stderr",
     "output_type": "stream",
     "text": [
      "\n",
      "      36/50         0G      1.372      0.955      1.444         56        256: 100%|██████████| 27/27 [00:46<00:00,  1.74s/it]\n",
      "                 Class     Images  Instances      Box(P          R      mAP50  mAP50-95): 100%|██████████| 2/2 [00:02<00:00,  1.16s/it]"
     ]
    },
    {
     "name": "stdout",
     "output_type": "stream",
     "text": [
      "                   all         68         68      0.997      0.985      0.991      0.519\n",
      "\n",
      "      Epoch    GPU_mem   box_loss   cls_loss   dfl_loss  Instances       Size\n"
     ]
    },
    {
     "name": "stderr",
     "output_type": "stream",
     "text": [
      "\n",
      "      37/50         0G      1.356     0.9569      1.438         40        256: 100%|██████████| 27/27 [00:51<00:00,  1.89s/it]\n",
      "                 Class     Images  Instances      Box(P          R      mAP50  mAP50-95): 100%|██████████| 2/2 [00:02<00:00,  1.24s/it]"
     ]
    },
    {
     "name": "stdout",
     "output_type": "stream",
     "text": [
      "                   all         68         68      0.994      0.985      0.988       0.48\n",
      "\n",
      "      Epoch    GPU_mem   box_loss   cls_loss   dfl_loss  Instances       Size\n"
     ]
    },
    {
     "name": "stderr",
     "output_type": "stream",
     "text": [
      "\n",
      "      38/50         0G      1.353     0.9351      1.427         46        256: 100%|██████████| 27/27 [00:50<00:00,  1.85s/it]\n",
      "                 Class     Images  Instances      Box(P          R      mAP50  mAP50-95): 100%|██████████| 2/2 [00:02<00:00,  1.15s/it]"
     ]
    },
    {
     "name": "stdout",
     "output_type": "stream",
     "text": [
      "                   all         68         68      0.968      0.971      0.973      0.478\n",
      "\n",
      "      Epoch    GPU_mem   box_loss   cls_loss   dfl_loss  Instances       Size\n"
     ]
    },
    {
     "name": "stderr",
     "output_type": "stream",
     "text": [
      "\n",
      "      39/50         0G      1.337     0.9252      1.419         40        256: 100%|██████████| 27/27 [00:48<00:00,  1.81s/it]\n",
      "                 Class     Images  Instances      Box(P          R      mAP50  mAP50-95): 100%|██████████| 2/2 [00:02<00:00,  1.17s/it]"
     ]
    },
    {
     "name": "stdout",
     "output_type": "stream",
     "text": [
      "                   all         68         68      0.974      0.971      0.983      0.495\n",
      "\n",
      "      Epoch    GPU_mem   box_loss   cls_loss   dfl_loss  Instances       Size\n"
     ]
    },
    {
     "name": "stderr",
     "output_type": "stream",
     "text": [
      "\n",
      "      40/50         0G      1.306     0.9207      1.406         54        256: 100%|██████████| 27/27 [00:50<00:00,  1.86s/it]\n",
      "                 Class     Images  Instances      Box(P          R      mAP50  mAP50-95): 100%|██████████| 2/2 [00:02<00:00,  1.22s/it]"
     ]
    },
    {
     "name": "stdout",
     "output_type": "stream",
     "text": [
      "                   all         68         68      0.973      0.971      0.982      0.505\n",
      "Closing dataloader mosaic\n",
      "\n",
      "      Epoch    GPU_mem   box_loss   cls_loss   dfl_loss  Instances       Size\n"
     ]
    },
    {
     "name": "stderr",
     "output_type": "stream",
     "text": [
      "\n",
      "      41/50         0G      1.286     0.7204      1.424         23        256: 100%|██████████| 27/27 [00:47<00:00,  1.77s/it]\n",
      "                 Class     Images  Instances      Box(P          R      mAP50  mAP50-95): 100%|██████████| 2/2 [00:02<00:00,  1.18s/it]"
     ]
    },
    {
     "name": "stdout",
     "output_type": "stream",
     "text": [
      "                   all         68         68      0.984      0.985       0.99      0.517\n",
      "\n",
      "      Epoch    GPU_mem   box_loss   cls_loss   dfl_loss  Instances       Size\n"
     ]
    },
    {
     "name": "stderr",
     "output_type": "stream",
     "text": [
      "\n",
      "      42/50         0G      1.238     0.6436      1.387         23        256: 100%|██████████| 27/27 [00:48<00:00,  1.78s/it]\n",
      "                 Class     Images  Instances      Box(P          R      mAP50  mAP50-95): 100%|██████████| 2/2 [00:02<00:00,  1.21s/it]"
     ]
    },
    {
     "name": "stdout",
     "output_type": "stream",
     "text": [
      "                   all         68         68      0.969      0.971      0.979       0.49\n",
      "\n",
      "      Epoch    GPU_mem   box_loss   cls_loss   dfl_loss  Instances       Size\n"
     ]
    },
    {
     "name": "stderr",
     "output_type": "stream",
     "text": [
      "\n",
      "      43/50         0G      1.249      0.605       1.41         23        256: 100%|██████████| 27/27 [00:51<00:00,  1.90s/it]\n",
      "                 Class     Images  Instances      Box(P          R      mAP50  mAP50-95): 100%|██████████| 2/2 [00:02<00:00,  1.28s/it]"
     ]
    },
    {
     "name": "stdout",
     "output_type": "stream",
     "text": [
      "                   all         68         68      0.971       0.97      0.967       0.49\n",
      "\n",
      "      Epoch    GPU_mem   box_loss   cls_loss   dfl_loss  Instances       Size\n"
     ]
    },
    {
     "name": "stderr",
     "output_type": "stream",
     "text": [
      "\n",
      "      44/50         0G      1.214     0.5902       1.38         23        256: 100%|██████████| 27/27 [00:51<00:00,  1.90s/it]\n",
      "                 Class     Images  Instances      Box(P          R      mAP50  mAP50-95): 100%|██████████| 2/2 [00:02<00:00,  1.22s/it]"
     ]
    },
    {
     "name": "stdout",
     "output_type": "stream",
     "text": [
      "                   all         68         68      0.984      0.985      0.981      0.459\n",
      "\n",
      "      Epoch    GPU_mem   box_loss   cls_loss   dfl_loss  Instances       Size\n"
     ]
    },
    {
     "name": "stderr",
     "output_type": "stream",
     "text": [
      "\n",
      "      45/50         0G      1.163      0.567      1.355         23        256: 100%|██████████| 27/27 [00:50<00:00,  1.88s/it]\n",
      "                 Class     Images  Instances      Box(P          R      mAP50  mAP50-95): 100%|██████████| 2/2 [00:02<00:00,  1.22s/it]"
     ]
    },
    {
     "name": "stdout",
     "output_type": "stream",
     "text": [
      "                   all         68         68      0.954      0.956       0.95      0.479\n",
      "\n",
      "      Epoch    GPU_mem   box_loss   cls_loss   dfl_loss  Instances       Size\n"
     ]
    },
    {
     "name": "stderr",
     "output_type": "stream",
     "text": [
      "\n",
      "      46/50         0G      1.142     0.5489      1.329         23        256: 100%|██████████| 27/27 [00:51<00:00,  1.90s/it]\n",
      "                 Class     Images  Instances      Box(P          R      mAP50  mAP50-95): 100%|██████████| 2/2 [00:02<00:00,  1.20s/it]"
     ]
    },
    {
     "name": "stdout",
     "output_type": "stream",
     "text": [
      "                   all         68         68      0.969      0.971      0.968      0.463\n",
      "\n",
      "      Epoch    GPU_mem   box_loss   cls_loss   dfl_loss  Instances       Size\n"
     ]
    },
    {
     "name": "stderr",
     "output_type": "stream",
     "text": [
      "\n",
      "      47/50         0G      1.139     0.5407      1.334         23        256: 100%|██████████| 27/27 [00:48<00:00,  1.79s/it]\n",
      "                 Class     Images  Instances      Box(P          R      mAP50  mAP50-95): 100%|██████████| 2/2 [00:02<00:00,  1.22s/it]"
     ]
    },
    {
     "name": "stdout",
     "output_type": "stream",
     "text": [
      "                   all         68         68      0.984      0.985      0.977      0.476\n",
      "\n",
      "      Epoch    GPU_mem   box_loss   cls_loss   dfl_loss  Instances       Size\n"
     ]
    },
    {
     "name": "stderr",
     "output_type": "stream",
     "text": [
      "\n",
      "      48/50         0G      1.098     0.5276      1.302         23        256: 100%|██████████| 27/27 [00:49<00:00,  1.85s/it]\n",
      "                 Class     Images  Instances      Box(P          R      mAP50  mAP50-95): 100%|██████████| 2/2 [00:02<00:00,  1.17s/it]"
     ]
    },
    {
     "name": "stdout",
     "output_type": "stream",
     "text": [
      "                   all         68         68       0.97      0.971      0.972      0.482\n",
      "\n",
      "      Epoch    GPU_mem   box_loss   cls_loss   dfl_loss  Instances       Size\n"
     ]
    },
    {
     "name": "stderr",
     "output_type": "stream",
     "text": [
      "\n",
      "      49/50         0G      1.094     0.5178      1.306         23        256: 100%|██████████| 27/27 [00:49<00:00,  1.83s/it]\n",
      "                 Class     Images  Instances      Box(P          R      mAP50  mAP50-95): 100%|██████████| 2/2 [00:02<00:00,  1.26s/it]"
     ]
    },
    {
     "name": "stdout",
     "output_type": "stream",
     "text": [
      "                   all         68         68      0.984      0.985      0.983      0.477\n",
      "\n",
      "      Epoch    GPU_mem   box_loss   cls_loss   dfl_loss  Instances       Size\n"
     ]
    },
    {
     "name": "stderr",
     "output_type": "stream",
     "text": [
      "\n",
      "      50/50         0G      1.061     0.5106      1.278         23        256: 100%|██████████| 27/27 [00:51<00:00,  1.89s/it]\n",
      "                 Class     Images  Instances      Box(P          R      mAP50  mAP50-95): 100%|██████████| 2/2 [00:02<00:00,  1.17s/it]"
     ]
    },
    {
     "name": "stdout",
     "output_type": "stream",
     "text": [
      "                   all         68         68      0.984      0.985      0.982      0.465\n",
      "\u001b[34m\u001b[1mEarlyStopping: \u001b[0mTraining stopped early as no improvement observed in last 20 epochs. Best results observed at epoch 30, best model saved as best.pt.\n",
      "To update EarlyStopping(patience=20) pass a new patience value, i.e. `patience=300` or use `patience=0` to disable EarlyStopping.\n",
      "\n",
      "50 epochs completed in 0.713 hours.\n",
      "Optimizer stripped from /Users/jin/Documents/GitHub/AI-Project/runs/detect/loop_fingerprint_detection/weights/last.pt, 6.2MB\n"
     ]
    },
    {
     "name": "stderr",
     "output_type": "stream",
     "text": [
      "\n"
     ]
    },
    {
     "name": "stdout",
     "output_type": "stream",
     "text": [
      "Optimizer stripped from /Users/jin/Documents/GitHub/AI-Project/runs/detect/loop_fingerprint_detection/weights/best.pt, 6.2MB\n",
      "\n",
      "Validating /Users/jin/Documents/GitHub/AI-Project/runs/detect/loop_fingerprint_detection/weights/best.pt...\n",
      "Ultralytics 8.3.96 🚀 Python-3.11.0 torch-2.6.0 CPU (Apple M2 Pro)\n",
      "Model summary (fused): 72 layers, 3,005,843 parameters, 0 gradients, 8.1 GFLOPs\n"
     ]
    },
    {
     "name": "stderr",
     "output_type": "stream",
     "text": [
      "                 Class     Images  Instances      Box(P          R      mAP50  mAP50-95): 100%|██████████| 2/2 [00:02<00:00,  1.24s/it]\n"
     ]
    },
    {
     "name": "stdout",
     "output_type": "stream",
     "text": [
      "                   all         68         68      0.954      0.956      0.966      0.545\n",
      "Speed: 0.2ms preprocess, 33.1ms inference, 0.0ms loss, 0.1ms postprocess per image\n",
      "Results saved to \u001b[1m/Users/jin/Documents/GitHub/AI-Project/runs/detect/loop_fingerprint_detection\u001b[0m\n"
     ]
    },
    {
     "data": {
      "text/plain": [
       "ultralytics.utils.metrics.DetMetrics object with attributes:\n",
       "\n",
       "ap_class_index: array([0])\n",
       "box: ultralytics.utils.metrics.Metric object\n",
       "confusion_matrix: <ultralytics.utils.metrics.ConfusionMatrix object at 0x31b875250>\n",
       "curves: ['Precision-Recall(B)', 'F1-Confidence(B)', 'Precision-Confidence(B)', 'Recall-Confidence(B)']\n",
       "curves_results: [[array([          0,    0.001001,    0.002002,    0.003003,    0.004004,    0.005005,    0.006006,    0.007007,    0.008008,    0.009009,     0.01001,    0.011011,    0.012012,    0.013013,    0.014014,    0.015015,    0.016016,    0.017017,    0.018018,    0.019019,     0.02002,    0.021021,    0.022022,    0.023023,\n",
       "          0.024024,    0.025025,    0.026026,    0.027027,    0.028028,    0.029029,     0.03003,    0.031031,    0.032032,    0.033033,    0.034034,    0.035035,    0.036036,    0.037037,    0.038038,    0.039039,     0.04004,    0.041041,    0.042042,    0.043043,    0.044044,    0.045045,    0.046046,    0.047047,\n",
       "          0.048048,    0.049049,     0.05005,    0.051051,    0.052052,    0.053053,    0.054054,    0.055055,    0.056056,    0.057057,    0.058058,    0.059059,     0.06006,    0.061061,    0.062062,    0.063063,    0.064064,    0.065065,    0.066066,    0.067067,    0.068068,    0.069069,     0.07007,    0.071071,\n",
       "          0.072072,    0.073073,    0.074074,    0.075075,    0.076076,    0.077077,    0.078078,    0.079079,     0.08008,    0.081081,    0.082082,    0.083083,    0.084084,    0.085085,    0.086086,    0.087087,    0.088088,    0.089089,     0.09009,    0.091091,    0.092092,    0.093093,    0.094094,    0.095095,\n",
       "          0.096096,    0.097097,    0.098098,    0.099099,      0.1001,      0.1011,      0.1021,      0.1031,      0.1041,     0.10511,     0.10611,     0.10711,     0.10811,     0.10911,     0.11011,     0.11111,     0.11211,     0.11311,     0.11411,     0.11512,     0.11612,     0.11712,     0.11812,     0.11912,\n",
       "           0.12012,     0.12112,     0.12212,     0.12312,     0.12412,     0.12513,     0.12613,     0.12713,     0.12813,     0.12913,     0.13013,     0.13113,     0.13213,     0.13313,     0.13413,     0.13514,     0.13614,     0.13714,     0.13814,     0.13914,     0.14014,     0.14114,     0.14214,     0.14314,\n",
       "           0.14414,     0.14515,     0.14615,     0.14715,     0.14815,     0.14915,     0.15015,     0.15115,     0.15215,     0.15315,     0.15415,     0.15516,     0.15616,     0.15716,     0.15816,     0.15916,     0.16016,     0.16116,     0.16216,     0.16316,     0.16416,     0.16517,     0.16617,     0.16717,\n",
       "           0.16817,     0.16917,     0.17017,     0.17117,     0.17217,     0.17317,     0.17417,     0.17518,     0.17618,     0.17718,     0.17818,     0.17918,     0.18018,     0.18118,     0.18218,     0.18318,     0.18418,     0.18519,     0.18619,     0.18719,     0.18819,     0.18919,     0.19019,     0.19119,\n",
       "           0.19219,     0.19319,     0.19419,      0.1952,      0.1962,      0.1972,      0.1982,      0.1992,      0.2002,      0.2012,      0.2022,      0.2032,      0.2042,     0.20521,     0.20621,     0.20721,     0.20821,     0.20921,     0.21021,     0.21121,     0.21221,     0.21321,     0.21421,     0.21522,\n",
       "           0.21622,     0.21722,     0.21822,     0.21922,     0.22022,     0.22122,     0.22222,     0.22322,     0.22422,     0.22523,     0.22623,     0.22723,     0.22823,     0.22923,     0.23023,     0.23123,     0.23223,     0.23323,     0.23423,     0.23524,     0.23624,     0.23724,     0.23824,     0.23924,\n",
       "           0.24024,     0.24124,     0.24224,     0.24324,     0.24424,     0.24525,     0.24625,     0.24725,     0.24825,     0.24925,     0.25025,     0.25125,     0.25225,     0.25325,     0.25425,     0.25526,     0.25626,     0.25726,     0.25826,     0.25926,     0.26026,     0.26126,     0.26226,     0.26326,\n",
       "           0.26426,     0.26527,     0.26627,     0.26727,     0.26827,     0.26927,     0.27027,     0.27127,     0.27227,     0.27327,     0.27427,     0.27528,     0.27628,     0.27728,     0.27828,     0.27928,     0.28028,     0.28128,     0.28228,     0.28328,     0.28428,     0.28529,     0.28629,     0.28729,\n",
       "           0.28829,     0.28929,     0.29029,     0.29129,     0.29229,     0.29329,     0.29429,      0.2953,      0.2963,      0.2973,      0.2983,      0.2993,      0.3003,      0.3013,      0.3023,      0.3033,      0.3043,     0.30531,     0.30631,     0.30731,     0.30831,     0.30931,     0.31031,     0.31131,\n",
       "           0.31231,     0.31331,     0.31431,     0.31532,     0.31632,     0.31732,     0.31832,     0.31932,     0.32032,     0.32132,     0.32232,     0.32332,     0.32432,     0.32533,     0.32633,     0.32733,     0.32833,     0.32933,     0.33033,     0.33133,     0.33233,     0.33333,     0.33433,     0.33534,\n",
       "           0.33634,     0.33734,     0.33834,     0.33934,     0.34034,     0.34134,     0.34234,     0.34334,     0.34434,     0.34535,     0.34635,     0.34735,     0.34835,     0.34935,     0.35035,     0.35135,     0.35235,     0.35335,     0.35435,     0.35536,     0.35636,     0.35736,     0.35836,     0.35936,\n",
       "           0.36036,     0.36136,     0.36236,     0.36336,     0.36436,     0.36537,     0.36637,     0.36737,     0.36837,     0.36937,     0.37037,     0.37137,     0.37237,     0.37337,     0.37437,     0.37538,     0.37638,     0.37738,     0.37838,     0.37938,     0.38038,     0.38138,     0.38238,     0.38338,\n",
       "           0.38438,     0.38539,     0.38639,     0.38739,     0.38839,     0.38939,     0.39039,     0.39139,     0.39239,     0.39339,     0.39439,      0.3954,      0.3964,      0.3974,      0.3984,      0.3994,      0.4004,      0.4014,      0.4024,      0.4034,      0.4044,     0.40541,     0.40641,     0.40741,\n",
       "           0.40841,     0.40941,     0.41041,     0.41141,     0.41241,     0.41341,     0.41441,     0.41542,     0.41642,     0.41742,     0.41842,     0.41942,     0.42042,     0.42142,     0.42242,     0.42342,     0.42442,     0.42543,     0.42643,     0.42743,     0.42843,     0.42943,     0.43043,     0.43143,\n",
       "           0.43243,     0.43343,     0.43443,     0.43544,     0.43644,     0.43744,     0.43844,     0.43944,     0.44044,     0.44144,     0.44244,     0.44344,     0.44444,     0.44545,     0.44645,     0.44745,     0.44845,     0.44945,     0.45045,     0.45145,     0.45245,     0.45345,     0.45445,     0.45546,\n",
       "           0.45646,     0.45746,     0.45846,     0.45946,     0.46046,     0.46146,     0.46246,     0.46346,     0.46446,     0.46547,     0.46647,     0.46747,     0.46847,     0.46947,     0.47047,     0.47147,     0.47247,     0.47347,     0.47447,     0.47548,     0.47648,     0.47748,     0.47848,     0.47948,\n",
       "           0.48048,     0.48148,     0.48248,     0.48348,     0.48448,     0.48549,     0.48649,     0.48749,     0.48849,     0.48949,     0.49049,     0.49149,     0.49249,     0.49349,     0.49449,      0.4955,      0.4965,      0.4975,      0.4985,      0.4995,      0.5005,      0.5015,      0.5025,      0.5035,\n",
       "            0.5045,     0.50551,     0.50651,     0.50751,     0.50851,     0.50951,     0.51051,     0.51151,     0.51251,     0.51351,     0.51451,     0.51552,     0.51652,     0.51752,     0.51852,     0.51952,     0.52052,     0.52152,     0.52252,     0.52352,     0.52452,     0.52553,     0.52653,     0.52753,\n",
       "           0.52853,     0.52953,     0.53053,     0.53153,     0.53253,     0.53353,     0.53453,     0.53554,     0.53654,     0.53754,     0.53854,     0.53954,     0.54054,     0.54154,     0.54254,     0.54354,     0.54454,     0.54555,     0.54655,     0.54755,     0.54855,     0.54955,     0.55055,     0.55155,\n",
       "           0.55255,     0.55355,     0.55455,     0.55556,     0.55656,     0.55756,     0.55856,     0.55956,     0.56056,     0.56156,     0.56256,     0.56356,     0.56456,     0.56557,     0.56657,     0.56757,     0.56857,     0.56957,     0.57057,     0.57157,     0.57257,     0.57357,     0.57457,     0.57558,\n",
       "           0.57658,     0.57758,     0.57858,     0.57958,     0.58058,     0.58158,     0.58258,     0.58358,     0.58458,     0.58559,     0.58659,     0.58759,     0.58859,     0.58959,     0.59059,     0.59159,     0.59259,     0.59359,     0.59459,      0.5956,      0.5966,      0.5976,      0.5986,      0.5996,\n",
       "            0.6006,      0.6016,      0.6026,      0.6036,      0.6046,     0.60561,     0.60661,     0.60761,     0.60861,     0.60961,     0.61061,     0.61161,     0.61261,     0.61361,     0.61461,     0.61562,     0.61662,     0.61762,     0.61862,     0.61962,     0.62062,     0.62162,     0.62262,     0.62362,\n",
       "           0.62462,     0.62563,     0.62663,     0.62763,     0.62863,     0.62963,     0.63063,     0.63163,     0.63263,     0.63363,     0.63463,     0.63564,     0.63664,     0.63764,     0.63864,     0.63964,     0.64064,     0.64164,     0.64264,     0.64364,     0.64464,     0.64565,     0.64665,     0.64765,\n",
       "           0.64865,     0.64965,     0.65065,     0.65165,     0.65265,     0.65365,     0.65465,     0.65566,     0.65666,     0.65766,     0.65866,     0.65966,     0.66066,     0.66166,     0.66266,     0.66366,     0.66466,     0.66567,     0.66667,     0.66767,     0.66867,     0.66967,     0.67067,     0.67167,\n",
       "           0.67267,     0.67367,     0.67467,     0.67568,     0.67668,     0.67768,     0.67868,     0.67968,     0.68068,     0.68168,     0.68268,     0.68368,     0.68468,     0.68569,     0.68669,     0.68769,     0.68869,     0.68969,     0.69069,     0.69169,     0.69269,     0.69369,     0.69469,      0.6957,\n",
       "            0.6967,      0.6977,      0.6987,      0.6997,      0.7007,      0.7017,      0.7027,      0.7037,      0.7047,     0.70571,     0.70671,     0.70771,     0.70871,     0.70971,     0.71071,     0.71171,     0.71271,     0.71371,     0.71471,     0.71572,     0.71672,     0.71772,     0.71872,     0.71972,\n",
       "           0.72072,     0.72172,     0.72272,     0.72372,     0.72472,     0.72573,     0.72673,     0.72773,     0.72873,     0.72973,     0.73073,     0.73173,     0.73273,     0.73373,     0.73473,     0.73574,     0.73674,     0.73774,     0.73874,     0.73974,     0.74074,     0.74174,     0.74274,     0.74374,\n",
       "           0.74474,     0.74575,     0.74675,     0.74775,     0.74875,     0.74975,     0.75075,     0.75175,     0.75275,     0.75375,     0.75475,     0.75576,     0.75676,     0.75776,     0.75876,     0.75976,     0.76076,     0.76176,     0.76276,     0.76376,     0.76476,     0.76577,     0.76677,     0.76777,\n",
       "           0.76877,     0.76977,     0.77077,     0.77177,     0.77277,     0.77377,     0.77477,     0.77578,     0.77678,     0.77778,     0.77878,     0.77978,     0.78078,     0.78178,     0.78278,     0.78378,     0.78478,     0.78579,     0.78679,     0.78779,     0.78879,     0.78979,     0.79079,     0.79179,\n",
       "           0.79279,     0.79379,     0.79479,      0.7958,      0.7968,      0.7978,      0.7988,      0.7998,      0.8008,      0.8018,      0.8028,      0.8038,      0.8048,     0.80581,     0.80681,     0.80781,     0.80881,     0.80981,     0.81081,     0.81181,     0.81281,     0.81381,     0.81481,     0.81582,\n",
       "           0.81682,     0.81782,     0.81882,     0.81982,     0.82082,     0.82182,     0.82282,     0.82382,     0.82482,     0.82583,     0.82683,     0.82783,     0.82883,     0.82983,     0.83083,     0.83183,     0.83283,     0.83383,     0.83483,     0.83584,     0.83684,     0.83784,     0.83884,     0.83984,\n",
       "           0.84084,     0.84184,     0.84284,     0.84384,     0.84484,     0.84585,     0.84685,     0.84785,     0.84885,     0.84985,     0.85085,     0.85185,     0.85285,     0.85385,     0.85485,     0.85586,     0.85686,     0.85786,     0.85886,     0.85986,     0.86086,     0.86186,     0.86286,     0.86386,\n",
       "           0.86486,     0.86587,     0.86687,     0.86787,     0.86887,     0.86987,     0.87087,     0.87187,     0.87287,     0.87387,     0.87487,     0.87588,     0.87688,     0.87788,     0.87888,     0.87988,     0.88088,     0.88188,     0.88288,     0.88388,     0.88488,     0.88589,     0.88689,     0.88789,\n",
       "           0.88889,     0.88989,     0.89089,     0.89189,     0.89289,     0.89389,     0.89489,      0.8959,      0.8969,      0.8979,      0.8989,      0.8999,      0.9009,      0.9019,      0.9029,      0.9039,      0.9049,     0.90591,     0.90691,     0.90791,     0.90891,     0.90991,     0.91091,     0.91191,\n",
       "           0.91291,     0.91391,     0.91491,     0.91592,     0.91692,     0.91792,     0.91892,     0.91992,     0.92092,     0.92192,     0.92292,     0.92392,     0.92492,     0.92593,     0.92693,     0.92793,     0.92893,     0.92993,     0.93093,     0.93193,     0.93293,     0.93393,     0.93493,     0.93594,\n",
       "           0.93694,     0.93794,     0.93894,     0.93994,     0.94094,     0.94194,     0.94294,     0.94394,     0.94494,     0.94595,     0.94695,     0.94795,     0.94895,     0.94995,     0.95095,     0.95195,     0.95295,     0.95395,     0.95495,     0.95596,     0.95696,     0.95796,     0.95896,     0.95996,\n",
       "           0.96096,     0.96196,     0.96296,     0.96396,     0.96496,     0.96597,     0.96697,     0.96797,     0.96897,     0.96997,     0.97097,     0.97197,     0.97297,     0.97397,     0.97497,     0.97598,     0.97698,     0.97798,     0.97898,     0.97998,     0.98098,     0.98198,     0.98298,     0.98398,\n",
       "           0.98498,     0.98599,     0.98699,     0.98799,     0.98899,     0.98999,     0.99099,     0.99199,     0.99299,     0.99399,     0.99499,       0.996,       0.997,       0.998,       0.999,           1]), array([[          1,           1,           1,           1,           1,           1,           1,           1,           1,           1,           1,           1,           1,           1,           1,           1,           1,           1,           1,           1,           1,           1,           1,\n",
       "                  1,           1,           1,           1,           1,           1,           1,           1,           1,           1,           1,           1,           1,           1,           1,           1,           1,           1,           1,           1,           1,           1,           1,\n",
       "                  1,           1,           1,           1,           1,           1,           1,           1,           1,           1,           1,           1,           1,           1,           1,           1,           1,           1,           1,           1,           1,           1,           1,\n",
       "                  1,           1,           1,           1,           1,           1,           1,           1,           1,           1,           1,           1,           1,           1,           1,           1,           1,           1,           1,           1,           1,           1,           1,\n",
       "                  1,           1,           1,           1,           1,           1,           1,           1,           1,           1,           1,           1,           1,           1,           1,           1,           1,           1,           1,           1,           1,           1,           1,\n",
       "                  1,           1,           1,           1,           1,           1,           1,           1,           1,           1,           1,           1,           1,           1,           1,           1,           1,           1,           1,           1,           1,           1,           1,\n",
       "                  1,           1,           1,           1,           1,           1,           1,           1,           1,           1,           1,           1,           1,           1,           1,           1,           1,           1,           1,           1,           1,           1,           1,\n",
       "                  1,           1,           1,           1,           1,           1,           1,           1,           1,           1,           1,           1,           1,           1,           1,           1,           1,           1,           1,           1,           1,           1,           1,\n",
       "                  1,           1,           1,           1,           1,           1,           1,           1,           1,           1,           1,           1,           1,           1,           1,           1,           1,           1,           1,           1,           1,           1,           1,\n",
       "                  1,           1,           1,           1,           1,           1,           1,           1,           1,           1,           1,           1,           1,           1,           1,           1,           1,           1,           1,           1,           1,           1,           1,\n",
       "                  1,           1,           1,           1,           1,           1,           1,           1,           1,           1,           1,           1,           1,           1,           1,           1,           1,           1,           1,           1,           1,           1,           1,\n",
       "                  1,           1,           1,           1,           1,           1,           1,           1,           1,           1,           1,           1,           1,           1,           1,           1,           1,           1,           1,           1,           1,           1,           1,\n",
       "                  1,           1,           1,           1,           1,           1,           1,           1,           1,           1,           1,           1,           1,           1,           1,           1,           1,           1,           1,           1,           1,           1,           1,\n",
       "                  1,           1,           1,           1,           1,           1,           1,           1,           1,           1,           1,           1,           1,           1,           1,           1,           1,           1,           1,           1,           1,           1,           1,\n",
       "                  1,           1,     0.98413,     0.98413,     0.98413,     0.98413,     0.98413,     0.98413,     0.98413,     0.98413,     0.98413,     0.98413,     0.98413,     0.98413,     0.98413,     0.98413,     0.98413,     0.98413,     0.98413,     0.98413,     0.98413,     0.98413,     0.98413,\n",
       "            0.98413,     0.98413,     0.98413,     0.98413,     0.98413,     0.98413,     0.98413,     0.98413,     0.98413,     0.98413,     0.98413,     0.98413,     0.98413,     0.98413,     0.98413,     0.98413,     0.98413,     0.98413,     0.98413,     0.98413,     0.98413,     0.98413,     0.98413,\n",
       "            0.98413,     0.98413,     0.98413,     0.98413,     0.98413,     0.98413,     0.98413,     0.98413,     0.98413,     0.98413,     0.98413,     0.98413,     0.98413,     0.98413,     0.98413,     0.98413,     0.98413,     0.98413,     0.98413,     0.98413,     0.98413,     0.98413,     0.98413,\n",
       "            0.98413,     0.98413,     0.98413,     0.98413,     0.98413,     0.98413,     0.98413,     0.98413,     0.98413,     0.98413,     0.98413,     0.98413,     0.98413,     0.98413,     0.98413,     0.98413,     0.98413,     0.98413,     0.98413,     0.98413,     0.98413,     0.98413,     0.98413,\n",
       "            0.98413,     0.98413,     0.98413,     0.98413,     0.98413,     0.98413,     0.98413,     0.98413,     0.98413,     0.98413,     0.98413,     0.98413,     0.98413,     0.98413,     0.98413,     0.98413,     0.98413,     0.98413,     0.98413,     0.98413,     0.98413,     0.98413,     0.98413,\n",
       "            0.98413,     0.98413,     0.98413,     0.98413,     0.98413,     0.98413,     0.98413,     0.98413,     0.98413,     0.98413,     0.98413,     0.98413,     0.98413,     0.98413,     0.98413,     0.98413,     0.98413,     0.98413,     0.98413,     0.98413,     0.98413,     0.98413,     0.98413,\n",
       "            0.98413,     0.98413,     0.98413,     0.98413,     0.98413,     0.98413,     0.98413,     0.98413,     0.98413,     0.98413,     0.98413,     0.98413,     0.98413,     0.98413,     0.98413,     0.98413,     0.98413,     0.98413,     0.98413,     0.98413,     0.98413,     0.98413,     0.98413,\n",
       "            0.98413,     0.98413,     0.98413,     0.98413,     0.98413,     0.98413,     0.98413,     0.98413,     0.98413,     0.98413,     0.98413,     0.98413,     0.98413,     0.98413,     0.98413,     0.98413,     0.98413,     0.98413,     0.98413,     0.98413,     0.98413,     0.98413,     0.98413,\n",
       "            0.98413,     0.98413,     0.98413,     0.98413,     0.98413,     0.98413,     0.98413,     0.98413,     0.98413,     0.98413,     0.98413,     0.98413,     0.98413,     0.98413,     0.98413,     0.98413,     0.98413,     0.98413,     0.98413,     0.98413,     0.98413,     0.98413,     0.98413,\n",
       "            0.98413,     0.98413,     0.98413,     0.98413,     0.98413,     0.98413,     0.98413,     0.98413,     0.98413,     0.98413,     0.98413,     0.98413,     0.98413,     0.98413,     0.98413,     0.98413,     0.98413,     0.98413,     0.98413,     0.98413,     0.98413,     0.98413,     0.98413,\n",
       "            0.98413,     0.98413,     0.98413,     0.98413,     0.98413,     0.98413,     0.98413,     0.98413,     0.98413,     0.98413,     0.98413,     0.98413,     0.98413,     0.98413,     0.98413,     0.98413,     0.98413,     0.98413,     0.98413,     0.98413,     0.98413,     0.98413,     0.98413,\n",
       "            0.98413,     0.98413,     0.98413,     0.98413,     0.98413,     0.98413,     0.98413,     0.98413,     0.98413,     0.98413,     0.98413,     0.98413,     0.98413,     0.98413,     0.98413,     0.98413,     0.98413,     0.98413,     0.98413,     0.98413,     0.98413,     0.98413,     0.98413,\n",
       "            0.98413,     0.98413,     0.98413,     0.98413,     0.98413,     0.98413,     0.98413,     0.98413,     0.98413,     0.98413,     0.98413,     0.98413,     0.98413,     0.98413,     0.98413,     0.98413,     0.98413,     0.98413,     0.98413,     0.98413,     0.98413,     0.98413,     0.98413,\n",
       "            0.98413,     0.98413,     0.98413,     0.98413,     0.98413,     0.98413,     0.98413,     0.98413,     0.98413,     0.98413,     0.98413,     0.98413,     0.98413,     0.98413,     0.98413,     0.98413,     0.98413,     0.98413,     0.98413,     0.98413,     0.98413,     0.98413,     0.98413,\n",
       "            0.98413,     0.98413,     0.98413,     0.98413,     0.98413,     0.98413,     0.98413,     0.98413,     0.98413,     0.98413,     0.98413,     0.98413,     0.98413,     0.98413,     0.98413,     0.98413,     0.98413,     0.98413,     0.98413,     0.98413,     0.98413,     0.98413,     0.98413,\n",
       "            0.98413,     0.98413,     0.98413,     0.98413,     0.98413,     0.98413,     0.98413,     0.98413,     0.98413,     0.98413,     0.98413,     0.98413,     0.98413,     0.98413,     0.98413,     0.98413,     0.98413,     0.98413,     0.98413,     0.98413,     0.98413,     0.98413,     0.98413,\n",
       "            0.98413,     0.98413,     0.98413,     0.98413,     0.98413,     0.98413,     0.98413,     0.98413,     0.98413,     0.98413,     0.98413,     0.98413,     0.98413,     0.98413,     0.98413,     0.98413,     0.98413,     0.98413,     0.98413,     0.98413,     0.98413,     0.98413,     0.98413,\n",
       "            0.98413,     0.98413,     0.98413,     0.98413,     0.98413,     0.98413,     0.98413,     0.98413,     0.98413,     0.98413,     0.98413,     0.98413,     0.98413,     0.98413,     0.98413,     0.98413,     0.98413,     0.98413,     0.98413,     0.98413,     0.98413,     0.98413,     0.98413,\n",
       "            0.98413,     0.98413,     0.98413,     0.98413,     0.98413,     0.98413,     0.98413,     0.98413,     0.98413,     0.98413,     0.98413,     0.98413,     0.98413,     0.98413,     0.98413,     0.98413,     0.98413,     0.98413,     0.98413,     0.98413,     0.98413,     0.98413,     0.98413,\n",
       "            0.98413,     0.98413,     0.98413,     0.98413,     0.98413,     0.98413,     0.98413,     0.98413,     0.98413,     0.98413,     0.98413,     0.98413,     0.98413,     0.98413,     0.98413,     0.98413,     0.98413,     0.98413,     0.98413,     0.98413,     0.98413,     0.98413,     0.98413,\n",
       "            0.98413,     0.98413,     0.98413,     0.98413,     0.98413,     0.98413,     0.98413,     0.98413,     0.98413,     0.98413,     0.98413,     0.98413,     0.98413,     0.98413,     0.98413,     0.98413,     0.98413,     0.98413,     0.98413,     0.98413,     0.98413,     0.98413,     0.98413,\n",
       "            0.98413,     0.98413,     0.98413,     0.98413,     0.98413,     0.98413,     0.98413,     0.98413,     0.98413,     0.98413,     0.98413,     0.98413,     0.98413,     0.98413,     0.98413,     0.98413,     0.98413,     0.98413,     0.98413,     0.98413,     0.98413,     0.98413,     0.98413,\n",
       "            0.98413,     0.98413,     0.98413,     0.98413,     0.98413,     0.98413,     0.98413,     0.98413,     0.98413,     0.98413,     0.98413,     0.98413,     0.98413,     0.98413,     0.98413,     0.98413,     0.98413,     0.98413,     0.98413,     0.98413,     0.98413,     0.98413,     0.98413,\n",
       "            0.98413,     0.98413,     0.98413,     0.98413,     0.98413,     0.98413,     0.98413,     0.98413,     0.98413,     0.98413,     0.98413,     0.98413,     0.98413,     0.98413,     0.98413,     0.98413,     0.98413,     0.98413,     0.98413,     0.98413,     0.98413,     0.98413,     0.98413,\n",
       "            0.98413,     0.98413,     0.98413,     0.98413,     0.98413,     0.98413,     0.98413,     0.98413,     0.98413,     0.98413,     0.98413,     0.98413,     0.98413,     0.98413,     0.98413,     0.98413,     0.98413,     0.98413,     0.98413,     0.98413,     0.98413,     0.98413,     0.98413,\n",
       "            0.98413,     0.98413,     0.98413,     0.98413,     0.98413,     0.98413,     0.98413,     0.98413,     0.98413,     0.98413,     0.98413,     0.98413,     0.98413,     0.98413,     0.97015,     0.97015,     0.97015,     0.97015,     0.97015,     0.97015,     0.97015,     0.97015,     0.97015,\n",
       "            0.97015,     0.97015,     0.97015,     0.97015,     0.97015,     0.97015,     0.97015,     0.97015,     0.97015,     0.97015,     0.97015,     0.97015,     0.97015,     0.97015,     0.97015,     0.97015,     0.97015,     0.97015,     0.97015,     0.97015,     0.97015,     0.97015,     0.97015,\n",
       "            0.97015,     0.97015,     0.97015,     0.97015,     0.97015,     0.97015,     0.97015,     0.97015,     0.97015,     0.97015,     0.97015,     0.97015,     0.64706,     0.64706,     0.64706,     0.64706,     0.64706,     0.64706,     0.64706,     0.64706,     0.64706,     0.64706,     0.64706,\n",
       "            0.64706,     0.64706,     0.64706,     0.64706,      0.5678,      0.5678,      0.5678,      0.5678,      0.5678,      0.5678,      0.5678,      0.5678,      0.5678,      0.5678,      0.5678,      0.5678,      0.5678,      0.5678,      0.5678,     0.31336,     0.31336,     0.31336,     0.31336,\n",
       "            0.31336,     0.31336,     0.31336,     0.31336,     0.31336,     0.31336,     0.31336,     0.31336,     0.31336,     0.31336,           0]]), 'Recall', 'Precision'], [array([          0,    0.001001,    0.002002,    0.003003,    0.004004,    0.005005,    0.006006,    0.007007,    0.008008,    0.009009,     0.01001,    0.011011,    0.012012,    0.013013,    0.014014,    0.015015,    0.016016,    0.017017,    0.018018,    0.019019,     0.02002,    0.021021,    0.022022,    0.023023,\n",
       "          0.024024,    0.025025,    0.026026,    0.027027,    0.028028,    0.029029,     0.03003,    0.031031,    0.032032,    0.033033,    0.034034,    0.035035,    0.036036,    0.037037,    0.038038,    0.039039,     0.04004,    0.041041,    0.042042,    0.043043,    0.044044,    0.045045,    0.046046,    0.047047,\n",
       "          0.048048,    0.049049,     0.05005,    0.051051,    0.052052,    0.053053,    0.054054,    0.055055,    0.056056,    0.057057,    0.058058,    0.059059,     0.06006,    0.061061,    0.062062,    0.063063,    0.064064,    0.065065,    0.066066,    0.067067,    0.068068,    0.069069,     0.07007,    0.071071,\n",
       "          0.072072,    0.073073,    0.074074,    0.075075,    0.076076,    0.077077,    0.078078,    0.079079,     0.08008,    0.081081,    0.082082,    0.083083,    0.084084,    0.085085,    0.086086,    0.087087,    0.088088,    0.089089,     0.09009,    0.091091,    0.092092,    0.093093,    0.094094,    0.095095,\n",
       "          0.096096,    0.097097,    0.098098,    0.099099,      0.1001,      0.1011,      0.1021,      0.1031,      0.1041,     0.10511,     0.10611,     0.10711,     0.10811,     0.10911,     0.11011,     0.11111,     0.11211,     0.11311,     0.11411,     0.11512,     0.11612,     0.11712,     0.11812,     0.11912,\n",
       "           0.12012,     0.12112,     0.12212,     0.12312,     0.12412,     0.12513,     0.12613,     0.12713,     0.12813,     0.12913,     0.13013,     0.13113,     0.13213,     0.13313,     0.13413,     0.13514,     0.13614,     0.13714,     0.13814,     0.13914,     0.14014,     0.14114,     0.14214,     0.14314,\n",
       "           0.14414,     0.14515,     0.14615,     0.14715,     0.14815,     0.14915,     0.15015,     0.15115,     0.15215,     0.15315,     0.15415,     0.15516,     0.15616,     0.15716,     0.15816,     0.15916,     0.16016,     0.16116,     0.16216,     0.16316,     0.16416,     0.16517,     0.16617,     0.16717,\n",
       "           0.16817,     0.16917,     0.17017,     0.17117,     0.17217,     0.17317,     0.17417,     0.17518,     0.17618,     0.17718,     0.17818,     0.17918,     0.18018,     0.18118,     0.18218,     0.18318,     0.18418,     0.18519,     0.18619,     0.18719,     0.18819,     0.18919,     0.19019,     0.19119,\n",
       "           0.19219,     0.19319,     0.19419,      0.1952,      0.1962,      0.1972,      0.1982,      0.1992,      0.2002,      0.2012,      0.2022,      0.2032,      0.2042,     0.20521,     0.20621,     0.20721,     0.20821,     0.20921,     0.21021,     0.21121,     0.21221,     0.21321,     0.21421,     0.21522,\n",
       "           0.21622,     0.21722,     0.21822,     0.21922,     0.22022,     0.22122,     0.22222,     0.22322,     0.22422,     0.22523,     0.22623,     0.22723,     0.22823,     0.22923,     0.23023,     0.23123,     0.23223,     0.23323,     0.23423,     0.23524,     0.23624,     0.23724,     0.23824,     0.23924,\n",
       "           0.24024,     0.24124,     0.24224,     0.24324,     0.24424,     0.24525,     0.24625,     0.24725,     0.24825,     0.24925,     0.25025,     0.25125,     0.25225,     0.25325,     0.25425,     0.25526,     0.25626,     0.25726,     0.25826,     0.25926,     0.26026,     0.26126,     0.26226,     0.26326,\n",
       "           0.26426,     0.26527,     0.26627,     0.26727,     0.26827,     0.26927,     0.27027,     0.27127,     0.27227,     0.27327,     0.27427,     0.27528,     0.27628,     0.27728,     0.27828,     0.27928,     0.28028,     0.28128,     0.28228,     0.28328,     0.28428,     0.28529,     0.28629,     0.28729,\n",
       "           0.28829,     0.28929,     0.29029,     0.29129,     0.29229,     0.29329,     0.29429,      0.2953,      0.2963,      0.2973,      0.2983,      0.2993,      0.3003,      0.3013,      0.3023,      0.3033,      0.3043,     0.30531,     0.30631,     0.30731,     0.30831,     0.30931,     0.31031,     0.31131,\n",
       "           0.31231,     0.31331,     0.31431,     0.31532,     0.31632,     0.31732,     0.31832,     0.31932,     0.32032,     0.32132,     0.32232,     0.32332,     0.32432,     0.32533,     0.32633,     0.32733,     0.32833,     0.32933,     0.33033,     0.33133,     0.33233,     0.33333,     0.33433,     0.33534,\n",
       "           0.33634,     0.33734,     0.33834,     0.33934,     0.34034,     0.34134,     0.34234,     0.34334,     0.34434,     0.34535,     0.34635,     0.34735,     0.34835,     0.34935,     0.35035,     0.35135,     0.35235,     0.35335,     0.35435,     0.35536,     0.35636,     0.35736,     0.35836,     0.35936,\n",
       "           0.36036,     0.36136,     0.36236,     0.36336,     0.36436,     0.36537,     0.36637,     0.36737,     0.36837,     0.36937,     0.37037,     0.37137,     0.37237,     0.37337,     0.37437,     0.37538,     0.37638,     0.37738,     0.37838,     0.37938,     0.38038,     0.38138,     0.38238,     0.38338,\n",
       "           0.38438,     0.38539,     0.38639,     0.38739,     0.38839,     0.38939,     0.39039,     0.39139,     0.39239,     0.39339,     0.39439,      0.3954,      0.3964,      0.3974,      0.3984,      0.3994,      0.4004,      0.4014,      0.4024,      0.4034,      0.4044,     0.40541,     0.40641,     0.40741,\n",
       "           0.40841,     0.40941,     0.41041,     0.41141,     0.41241,     0.41341,     0.41441,     0.41542,     0.41642,     0.41742,     0.41842,     0.41942,     0.42042,     0.42142,     0.42242,     0.42342,     0.42442,     0.42543,     0.42643,     0.42743,     0.42843,     0.42943,     0.43043,     0.43143,\n",
       "           0.43243,     0.43343,     0.43443,     0.43544,     0.43644,     0.43744,     0.43844,     0.43944,     0.44044,     0.44144,     0.44244,     0.44344,     0.44444,     0.44545,     0.44645,     0.44745,     0.44845,     0.44945,     0.45045,     0.45145,     0.45245,     0.45345,     0.45445,     0.45546,\n",
       "           0.45646,     0.45746,     0.45846,     0.45946,     0.46046,     0.46146,     0.46246,     0.46346,     0.46446,     0.46547,     0.46647,     0.46747,     0.46847,     0.46947,     0.47047,     0.47147,     0.47247,     0.47347,     0.47447,     0.47548,     0.47648,     0.47748,     0.47848,     0.47948,\n",
       "           0.48048,     0.48148,     0.48248,     0.48348,     0.48448,     0.48549,     0.48649,     0.48749,     0.48849,     0.48949,     0.49049,     0.49149,     0.49249,     0.49349,     0.49449,      0.4955,      0.4965,      0.4975,      0.4985,      0.4995,      0.5005,      0.5015,      0.5025,      0.5035,\n",
       "            0.5045,     0.50551,     0.50651,     0.50751,     0.50851,     0.50951,     0.51051,     0.51151,     0.51251,     0.51351,     0.51451,     0.51552,     0.51652,     0.51752,     0.51852,     0.51952,     0.52052,     0.52152,     0.52252,     0.52352,     0.52452,     0.52553,     0.52653,     0.52753,\n",
       "           0.52853,     0.52953,     0.53053,     0.53153,     0.53253,     0.53353,     0.53453,     0.53554,     0.53654,     0.53754,     0.53854,     0.53954,     0.54054,     0.54154,     0.54254,     0.54354,     0.54454,     0.54555,     0.54655,     0.54755,     0.54855,     0.54955,     0.55055,     0.55155,\n",
       "           0.55255,     0.55355,     0.55455,     0.55556,     0.55656,     0.55756,     0.55856,     0.55956,     0.56056,     0.56156,     0.56256,     0.56356,     0.56456,     0.56557,     0.56657,     0.56757,     0.56857,     0.56957,     0.57057,     0.57157,     0.57257,     0.57357,     0.57457,     0.57558,\n",
       "           0.57658,     0.57758,     0.57858,     0.57958,     0.58058,     0.58158,     0.58258,     0.58358,     0.58458,     0.58559,     0.58659,     0.58759,     0.58859,     0.58959,     0.59059,     0.59159,     0.59259,     0.59359,     0.59459,      0.5956,      0.5966,      0.5976,      0.5986,      0.5996,\n",
       "            0.6006,      0.6016,      0.6026,      0.6036,      0.6046,     0.60561,     0.60661,     0.60761,     0.60861,     0.60961,     0.61061,     0.61161,     0.61261,     0.61361,     0.61461,     0.61562,     0.61662,     0.61762,     0.61862,     0.61962,     0.62062,     0.62162,     0.62262,     0.62362,\n",
       "           0.62462,     0.62563,     0.62663,     0.62763,     0.62863,     0.62963,     0.63063,     0.63163,     0.63263,     0.63363,     0.63463,     0.63564,     0.63664,     0.63764,     0.63864,     0.63964,     0.64064,     0.64164,     0.64264,     0.64364,     0.64464,     0.64565,     0.64665,     0.64765,\n",
       "           0.64865,     0.64965,     0.65065,     0.65165,     0.65265,     0.65365,     0.65465,     0.65566,     0.65666,     0.65766,     0.65866,     0.65966,     0.66066,     0.66166,     0.66266,     0.66366,     0.66466,     0.66567,     0.66667,     0.66767,     0.66867,     0.66967,     0.67067,     0.67167,\n",
       "           0.67267,     0.67367,     0.67467,     0.67568,     0.67668,     0.67768,     0.67868,     0.67968,     0.68068,     0.68168,     0.68268,     0.68368,     0.68468,     0.68569,     0.68669,     0.68769,     0.68869,     0.68969,     0.69069,     0.69169,     0.69269,     0.69369,     0.69469,      0.6957,\n",
       "            0.6967,      0.6977,      0.6987,      0.6997,      0.7007,      0.7017,      0.7027,      0.7037,      0.7047,     0.70571,     0.70671,     0.70771,     0.70871,     0.70971,     0.71071,     0.71171,     0.71271,     0.71371,     0.71471,     0.71572,     0.71672,     0.71772,     0.71872,     0.71972,\n",
       "           0.72072,     0.72172,     0.72272,     0.72372,     0.72472,     0.72573,     0.72673,     0.72773,     0.72873,     0.72973,     0.73073,     0.73173,     0.73273,     0.73373,     0.73473,     0.73574,     0.73674,     0.73774,     0.73874,     0.73974,     0.74074,     0.74174,     0.74274,     0.74374,\n",
       "           0.74474,     0.74575,     0.74675,     0.74775,     0.74875,     0.74975,     0.75075,     0.75175,     0.75275,     0.75375,     0.75475,     0.75576,     0.75676,     0.75776,     0.75876,     0.75976,     0.76076,     0.76176,     0.76276,     0.76376,     0.76476,     0.76577,     0.76677,     0.76777,\n",
       "           0.76877,     0.76977,     0.77077,     0.77177,     0.77277,     0.77377,     0.77477,     0.77578,     0.77678,     0.77778,     0.77878,     0.77978,     0.78078,     0.78178,     0.78278,     0.78378,     0.78478,     0.78579,     0.78679,     0.78779,     0.78879,     0.78979,     0.79079,     0.79179,\n",
       "           0.79279,     0.79379,     0.79479,      0.7958,      0.7968,      0.7978,      0.7988,      0.7998,      0.8008,      0.8018,      0.8028,      0.8038,      0.8048,     0.80581,     0.80681,     0.80781,     0.80881,     0.80981,     0.81081,     0.81181,     0.81281,     0.81381,     0.81481,     0.81582,\n",
       "           0.81682,     0.81782,     0.81882,     0.81982,     0.82082,     0.82182,     0.82282,     0.82382,     0.82482,     0.82583,     0.82683,     0.82783,     0.82883,     0.82983,     0.83083,     0.83183,     0.83283,     0.83383,     0.83483,     0.83584,     0.83684,     0.83784,     0.83884,     0.83984,\n",
       "           0.84084,     0.84184,     0.84284,     0.84384,     0.84484,     0.84585,     0.84685,     0.84785,     0.84885,     0.84985,     0.85085,     0.85185,     0.85285,     0.85385,     0.85485,     0.85586,     0.85686,     0.85786,     0.85886,     0.85986,     0.86086,     0.86186,     0.86286,     0.86386,\n",
       "           0.86486,     0.86587,     0.86687,     0.86787,     0.86887,     0.86987,     0.87087,     0.87187,     0.87287,     0.87387,     0.87487,     0.87588,     0.87688,     0.87788,     0.87888,     0.87988,     0.88088,     0.88188,     0.88288,     0.88388,     0.88488,     0.88589,     0.88689,     0.88789,\n",
       "           0.88889,     0.88989,     0.89089,     0.89189,     0.89289,     0.89389,     0.89489,      0.8959,      0.8969,      0.8979,      0.8989,      0.8999,      0.9009,      0.9019,      0.9029,      0.9039,      0.9049,     0.90591,     0.90691,     0.90791,     0.90891,     0.90991,     0.91091,     0.91191,\n",
       "           0.91291,     0.91391,     0.91491,     0.91592,     0.91692,     0.91792,     0.91892,     0.91992,     0.92092,     0.92192,     0.92292,     0.92392,     0.92492,     0.92593,     0.92693,     0.92793,     0.92893,     0.92993,     0.93093,     0.93193,     0.93293,     0.93393,     0.93493,     0.93594,\n",
       "           0.93694,     0.93794,     0.93894,     0.93994,     0.94094,     0.94194,     0.94294,     0.94394,     0.94494,     0.94595,     0.94695,     0.94795,     0.94895,     0.94995,     0.95095,     0.95195,     0.95295,     0.95395,     0.95495,     0.95596,     0.95696,     0.95796,     0.95896,     0.95996,\n",
       "           0.96096,     0.96196,     0.96296,     0.96396,     0.96496,     0.96597,     0.96697,     0.96797,     0.96897,     0.96997,     0.97097,     0.97197,     0.97297,     0.97397,     0.97497,     0.97598,     0.97698,     0.97798,     0.97898,     0.97998,     0.98098,     0.98198,     0.98298,     0.98398,\n",
       "           0.98498,     0.98599,     0.98699,     0.98799,     0.98899,     0.98999,     0.99099,     0.99199,     0.99299,     0.99399,     0.99499,       0.996,       0.997,       0.998,       0.999,           1]), array([[    0.42368,     0.42368,     0.47727,     0.50359,     0.52282,      0.5346,     0.54382,     0.55267,     0.55634,     0.55958,     0.56691,     0.57871,     0.58418,     0.58767,     0.59727,     0.60007,     0.60499,     0.60836,     0.61115,     0.61388,     0.62072,     0.62449,     0.63005,\n",
       "            0.63417,      0.6359,      0.6371,     0.64096,     0.64776,      0.6485,     0.64923,     0.64997,     0.65155,     0.65576,     0.66215,     0.66543,     0.67177,     0.67444,     0.67644,     0.68362,      0.6882,     0.69204,     0.69342,     0.71304,     0.71639,     0.71863,     0.71354,\n",
       "             0.7149,     0.71625,     0.71871,     0.72312,     0.72587,      0.7294,     0.73309,     0.73617,      0.7385,     0.74033,      0.7469,     0.75135,     0.75337,     0.76101,     0.76455,     0.76655,     0.77095,     0.77413,     0.77596,     0.77049,     0.77077,     0.77277,      0.7773,\n",
       "             0.7794,     0.78053,     0.78165,     0.78278,     0.78481,     0.78724,      0.7901,     0.79309,     0.79603,      0.8025,     0.80466,     0.80681,     0.80846,     0.80989,     0.81131,       0.813,     0.81601,     0.82464,      0.8298,       0.833,     0.84062,     0.85218,     0.85529,\n",
       "            0.85597,     0.85664,     0.85732,     0.85799,     0.85866,     0.85933,        0.86,     0.86067,     0.86192,     0.86351,      0.8651,     0.86676,     0.87345,     0.87917,     0.88217,     0.88886,     0.89163,     0.89296,      0.8943,     0.89563,     0.89672,     0.89728,     0.89784,\n",
       "             0.8984,     0.89896,     0.89951,     0.90007,     0.90063,     0.90118,     0.90174,     0.90229,     0.90333,     0.90781,     0.90946,     0.90998,      0.9105,     0.91101,     0.91153,     0.91205,     0.91256,     0.91308,     0.91359,     0.91411,     0.91462,     0.91513,      0.9158,\n",
       "            0.91685,      0.9179,     0.91895,     0.91999,     0.92103,     0.92214,       0.924,     0.92586,      0.9277,     0.92875,     0.92907,      0.9294,     0.92973,     0.93006,     0.93039,     0.93072,     0.93104,     0.93137,      0.9317,     0.93203,     0.93235,     0.93268,     0.93301,\n",
       "            0.93333,     0.93366,     0.93398,     0.93431,     0.93463,     0.93496,     0.93582,     0.94151,     0.94224,     0.94248,     0.94272,     0.94296,      0.9432,     0.94343,     0.94367,     0.94391,     0.94414,     0.94438,     0.94462,     0.94485,     0.94509,     0.94533,     0.94556,\n",
       "             0.9458,     0.94604,     0.94627,     0.94651,     0.94674,     0.94698,     0.94721,     0.94745,     0.94769,     0.94792,     0.94816,     0.94839,     0.94863,     0.94886,     0.94892,     0.94894,     0.94896,     0.94898,       0.949,     0.94902,     0.94903,     0.94905,     0.94907,\n",
       "            0.94909,     0.94911,     0.94913,     0.94915,     0.94917,     0.94919,      0.9492,     0.94922,     0.94924,     0.94926,     0.94928,      0.9493,     0.94932,     0.94934,     0.94936,     0.94937,     0.94939,     0.94941,     0.94943,     0.94945,     0.94947,     0.94949,     0.94951,\n",
       "            0.94953,     0.94955,     0.94956,     0.94958,      0.9496,     0.94962,     0.94964,     0.94966,     0.94968,      0.9497,     0.94972,     0.94973,     0.94975,     0.94977,     0.94979,     0.94981,     0.94983,     0.94985,     0.94987,     0.94989,      0.9499,     0.94992,     0.94994,\n",
       "            0.94996,     0.94998,        0.95,     0.95002,     0.95004,     0.95006,     0.95007,     0.95009,     0.95011,     0.95013,     0.95015,     0.95017,     0.95019,     0.95021,     0.95023,     0.95024,     0.95026,     0.95028,      0.9503,     0.95032,     0.95034,     0.95036,     0.95038,\n",
       "             0.9504,     0.95041,     0.95043,     0.95045,     0.95047,     0.95049,     0.95051,     0.95053,     0.95055,     0.95057,     0.95058,      0.9506,     0.95062,     0.95064,     0.95066,     0.95068,      0.9507,     0.95072,     0.95074,     0.95075,     0.95077,     0.95079,     0.95081,\n",
       "            0.95083,     0.95085,     0.95087,     0.95089,     0.95091,     0.95092,     0.95094,     0.95096,     0.95098,       0.951,     0.95102,     0.95104,     0.95106,     0.95108,     0.95109,     0.95111,     0.95113,     0.95115,     0.95117,     0.95119,     0.95121,     0.95123,     0.95125,\n",
       "            0.95126,     0.95128,      0.9513,     0.95132,     0.95134,     0.95136,     0.95138,      0.9514,     0.95141,     0.95143,     0.95145,     0.95147,     0.95149,     0.95151,     0.95153,     0.95155,     0.95157,     0.95158,      0.9516,     0.95162,     0.95164,     0.95166,     0.95168,\n",
       "             0.9517,     0.95172,     0.95174,     0.95175,     0.95177,     0.95179,     0.95181,     0.95183,     0.95185,     0.95187,     0.95189,      0.9519,     0.95192,     0.95194,     0.95196,     0.95198,       0.952,     0.95202,     0.95204,     0.95206,     0.95207,     0.95209,     0.95211,\n",
       "            0.95213,     0.95215,     0.95217,     0.95219,     0.95221,     0.95222,     0.95224,     0.95226,     0.95228,      0.9523,     0.95232,     0.95234,     0.95236,     0.95237,     0.95239,     0.95241,     0.95243,     0.95245,     0.95247,     0.95249,     0.95251,     0.95253,     0.95254,\n",
       "            0.95256,     0.95258,      0.9526,     0.95262,     0.95264,     0.95266,     0.95268,     0.95269,     0.95271,     0.95273,     0.95275,     0.95277,     0.95279,     0.95281,     0.95283,     0.95284,     0.95286,     0.95288,      0.9529,     0.95292,     0.95294,     0.95296,     0.95298,\n",
       "              0.953,     0.95301,     0.95303,     0.95305,     0.95307,     0.95309,     0.95311,     0.95313,     0.95315,     0.95316,     0.95318,      0.9532,     0.95322,     0.95324,     0.95326,     0.95328,      0.9533,     0.95331,     0.95333,     0.95335,     0.95337,     0.95339,     0.95341,\n",
       "            0.95343,     0.95345,     0.95346,     0.95348,      0.9535,     0.95352,     0.95354,     0.95356,     0.95358,      0.9536,     0.95361,     0.95363,     0.95365,     0.95367,     0.95369,     0.95371,     0.95373,     0.95375,     0.95376,     0.95378,      0.9538,     0.95382,     0.95384,\n",
       "            0.95386,     0.95388,      0.9539,     0.95391,     0.95393,     0.95395,     0.95397,     0.95399,     0.95401,     0.95403,     0.95405,     0.95406,     0.95408,      0.9541,     0.95412,     0.95414,     0.95416,     0.95418,      0.9542,     0.95421,     0.95423,     0.95425,     0.95427,\n",
       "            0.95429,     0.95431,     0.95433,     0.95435,     0.95436,     0.95438,      0.9544,     0.95442,     0.95444,     0.95446,     0.95448,      0.9545,     0.95451,     0.95453,     0.95455,     0.95457,     0.95459,     0.95461,     0.95463,     0.95465,     0.95466,     0.95468,      0.9547,\n",
       "            0.95472,     0.95474,     0.95476,     0.95478,      0.9548,     0.95481,     0.95483,     0.95485,     0.95487,     0.95489,     0.95491,     0.95493,     0.95494,     0.95496,     0.95498,       0.955,     0.95502,     0.95504,     0.95506,     0.95508,     0.95509,     0.95511,     0.95513,\n",
       "            0.95515,     0.95517,     0.95519,     0.95521,     0.95523,     0.95524,     0.95526,     0.95528,      0.9553,     0.95532,     0.95534,     0.95536,     0.95538,     0.95539,     0.95541,     0.95543,     0.95545,     0.95547,     0.95549,     0.95551,     0.95552,     0.95554,     0.95556,\n",
       "            0.95558,      0.9556,     0.95562,     0.95564,     0.95566,     0.95567,     0.95569,     0.95571,     0.95573,     0.95575,     0.95577,     0.95579,      0.9558,     0.95582,     0.95584,     0.95586,     0.95588,     0.95707,     0.95847,     0.95987,     0.96126,     0.96264,     0.96191,\n",
       "            0.96054,     0.95916,     0.95778,      0.9564,     0.95515,     0.95465,     0.95414,     0.95364,     0.95313,     0.95263,     0.95212,     0.95162,     0.95111,     0.95061,      0.9501,     0.94959,     0.94908,     0.94858,     0.94807,     0.94756,      0.9442,     0.93945,     0.94045,\n",
       "            0.94146,     0.94247,     0.94347,     0.94447,     0.94547,     0.94646,     0.94531,     0.94391,      0.9425,     0.94109,     0.93968,     0.93792,     0.93417,     0.93039,     0.92731,     0.92424,     0.92156,     0.92023,     0.91888,     0.91754,     0.91619,     0.91484,     0.91349,\n",
       "            0.90884,     0.90099,      0.8843,     0.88021,     0.87651,     0.87325,     0.86996,     0.85701,     0.85257,     0.83914,     0.83363,     0.81541,     0.80076,     0.78997,     0.75645,     0.74081,     0.72214,     0.70843,     0.70472,     0.70099,     0.69536,     0.68304,     0.67122,\n",
       "            0.66481,     0.63761,     0.61087,     0.59669,      0.5817,     0.56142,     0.55289,     0.54005,     0.52163,     0.48483,      0.4873,     0.48513,     0.47385,     0.45999,     0.44043,     0.41987,     0.39209,     0.35745,     0.34275,     0.32148,     0.30961,     0.29076,     0.27013,\n",
       "            0.25898,     0.23362,     0.22967,     0.22571,     0.22173,     0.21773,     0.21371,     0.20497,     0.18548,     0.18175,       0.178,     0.17424,     0.17046,     0.16667,     0.16286,     0.15868,     0.15442,     0.15013,     0.14582,      0.1415,     0.13715,      0.1316,     0.12597,\n",
       "            0.12031,     0.11461,     0.10754,    0.098291,    0.088956,    0.082927,    0.079921,    0.076906,    0.073881,    0.070846,    0.067802,    0.064749,    0.061685,    0.058612,    0.054172,    0.048465,    0.042725,    0.036952,    0.031144,           0,           0,           0,           0,\n",
       "                  0,           0,           0,           0,           0,           0,           0,           0,           0,           0,           0,           0,           0,           0,           0,           0,           0,           0,           0,           0,           0,           0,           0,\n",
       "                  0,           0,           0,           0,           0,           0,           0,           0,           0,           0,           0,           0,           0,           0,           0,           0,           0,           0,           0,           0,           0,           0,           0,\n",
       "                  0,           0,           0,           0,           0,           0,           0,           0,           0,           0,           0,           0,           0,           0,           0,           0,           0,           0,           0,           0,           0,           0,           0,\n",
       "                  0,           0,           0,           0,           0,           0,           0,           0,           0,           0,           0,           0,           0,           0,           0,           0,           0,           0,           0,           0,           0,           0,           0,\n",
       "                  0,           0,           0,           0,           0,           0,           0,           0,           0,           0,           0,           0,           0,           0,           0,           0,           0,           0,           0,           0,           0,           0,           0,\n",
       "                  0,           0,           0,           0,           0,           0,           0,           0,           0,           0,           0,           0,           0,           0,           0,           0,           0,           0,           0,           0,           0,           0,           0,\n",
       "                  0,           0,           0,           0,           0,           0,           0,           0,           0,           0,           0,           0,           0,           0,           0,           0,           0,           0,           0,           0,           0,           0,           0,\n",
       "                  0,           0,           0,           0,           0,           0,           0,           0,           0,           0,           0,           0,           0,           0,           0,           0,           0,           0,           0,           0,           0,           0,           0,\n",
       "                  0,           0,           0,           0,           0,           0,           0,           0,           0,           0,           0,           0,           0,           0,           0,           0,           0,           0,           0,           0,           0,           0,           0,\n",
       "                  0,           0,           0,           0,           0,           0,           0,           0,           0,           0,           0,           0,           0,           0,           0,           0,           0,           0,           0,           0,           0,           0,           0,\n",
       "                  0,           0,           0,           0,           0,           0,           0,           0,           0,           0,           0,           0,           0,           0,           0,           0,           0,           0,           0,           0,           0,           0,           0,\n",
       "                  0,           0,           0,           0,           0,           0,           0,           0,           0,           0,           0,           0,           0,           0,           0,           0,           0,           0,           0,           0,           0,           0,           0,\n",
       "                  0,           0,           0,           0,           0,           0,           0,           0,           0,           0,           0]]), 'Confidence', 'F1'], [array([          0,    0.001001,    0.002002,    0.003003,    0.004004,    0.005005,    0.006006,    0.007007,    0.008008,    0.009009,     0.01001,    0.011011,    0.012012,    0.013013,    0.014014,    0.015015,    0.016016,    0.017017,    0.018018,    0.019019,     0.02002,    0.021021,    0.022022,    0.023023,\n",
       "          0.024024,    0.025025,    0.026026,    0.027027,    0.028028,    0.029029,     0.03003,    0.031031,    0.032032,    0.033033,    0.034034,    0.035035,    0.036036,    0.037037,    0.038038,    0.039039,     0.04004,    0.041041,    0.042042,    0.043043,    0.044044,    0.045045,    0.046046,    0.047047,\n",
       "          0.048048,    0.049049,     0.05005,    0.051051,    0.052052,    0.053053,    0.054054,    0.055055,    0.056056,    0.057057,    0.058058,    0.059059,     0.06006,    0.061061,    0.062062,    0.063063,    0.064064,    0.065065,    0.066066,    0.067067,    0.068068,    0.069069,     0.07007,    0.071071,\n",
       "          0.072072,    0.073073,    0.074074,    0.075075,    0.076076,    0.077077,    0.078078,    0.079079,     0.08008,    0.081081,    0.082082,    0.083083,    0.084084,    0.085085,    0.086086,    0.087087,    0.088088,    0.089089,     0.09009,    0.091091,    0.092092,    0.093093,    0.094094,    0.095095,\n",
       "          0.096096,    0.097097,    0.098098,    0.099099,      0.1001,      0.1011,      0.1021,      0.1031,      0.1041,     0.10511,     0.10611,     0.10711,     0.10811,     0.10911,     0.11011,     0.11111,     0.11211,     0.11311,     0.11411,     0.11512,     0.11612,     0.11712,     0.11812,     0.11912,\n",
       "           0.12012,     0.12112,     0.12212,     0.12312,     0.12412,     0.12513,     0.12613,     0.12713,     0.12813,     0.12913,     0.13013,     0.13113,     0.13213,     0.13313,     0.13413,     0.13514,     0.13614,     0.13714,     0.13814,     0.13914,     0.14014,     0.14114,     0.14214,     0.14314,\n",
       "           0.14414,     0.14515,     0.14615,     0.14715,     0.14815,     0.14915,     0.15015,     0.15115,     0.15215,     0.15315,     0.15415,     0.15516,     0.15616,     0.15716,     0.15816,     0.15916,     0.16016,     0.16116,     0.16216,     0.16316,     0.16416,     0.16517,     0.16617,     0.16717,\n",
       "           0.16817,     0.16917,     0.17017,     0.17117,     0.17217,     0.17317,     0.17417,     0.17518,     0.17618,     0.17718,     0.17818,     0.17918,     0.18018,     0.18118,     0.18218,     0.18318,     0.18418,     0.18519,     0.18619,     0.18719,     0.18819,     0.18919,     0.19019,     0.19119,\n",
       "           0.19219,     0.19319,     0.19419,      0.1952,      0.1962,      0.1972,      0.1982,      0.1992,      0.2002,      0.2012,      0.2022,      0.2032,      0.2042,     0.20521,     0.20621,     0.20721,     0.20821,     0.20921,     0.21021,     0.21121,     0.21221,     0.21321,     0.21421,     0.21522,\n",
       "           0.21622,     0.21722,     0.21822,     0.21922,     0.22022,     0.22122,     0.22222,     0.22322,     0.22422,     0.22523,     0.22623,     0.22723,     0.22823,     0.22923,     0.23023,     0.23123,     0.23223,     0.23323,     0.23423,     0.23524,     0.23624,     0.23724,     0.23824,     0.23924,\n",
       "           0.24024,     0.24124,     0.24224,     0.24324,     0.24424,     0.24525,     0.24625,     0.24725,     0.24825,     0.24925,     0.25025,     0.25125,     0.25225,     0.25325,     0.25425,     0.25526,     0.25626,     0.25726,     0.25826,     0.25926,     0.26026,     0.26126,     0.26226,     0.26326,\n",
       "           0.26426,     0.26527,     0.26627,     0.26727,     0.26827,     0.26927,     0.27027,     0.27127,     0.27227,     0.27327,     0.27427,     0.27528,     0.27628,     0.27728,     0.27828,     0.27928,     0.28028,     0.28128,     0.28228,     0.28328,     0.28428,     0.28529,     0.28629,     0.28729,\n",
       "           0.28829,     0.28929,     0.29029,     0.29129,     0.29229,     0.29329,     0.29429,      0.2953,      0.2963,      0.2973,      0.2983,      0.2993,      0.3003,      0.3013,      0.3023,      0.3033,      0.3043,     0.30531,     0.30631,     0.30731,     0.30831,     0.30931,     0.31031,     0.31131,\n",
       "           0.31231,     0.31331,     0.31431,     0.31532,     0.31632,     0.31732,     0.31832,     0.31932,     0.32032,     0.32132,     0.32232,     0.32332,     0.32432,     0.32533,     0.32633,     0.32733,     0.32833,     0.32933,     0.33033,     0.33133,     0.33233,     0.33333,     0.33433,     0.33534,\n",
       "           0.33634,     0.33734,     0.33834,     0.33934,     0.34034,     0.34134,     0.34234,     0.34334,     0.34434,     0.34535,     0.34635,     0.34735,     0.34835,     0.34935,     0.35035,     0.35135,     0.35235,     0.35335,     0.35435,     0.35536,     0.35636,     0.35736,     0.35836,     0.35936,\n",
       "           0.36036,     0.36136,     0.36236,     0.36336,     0.36436,     0.36537,     0.36637,     0.36737,     0.36837,     0.36937,     0.37037,     0.37137,     0.37237,     0.37337,     0.37437,     0.37538,     0.37638,     0.37738,     0.37838,     0.37938,     0.38038,     0.38138,     0.38238,     0.38338,\n",
       "           0.38438,     0.38539,     0.38639,     0.38739,     0.38839,     0.38939,     0.39039,     0.39139,     0.39239,     0.39339,     0.39439,      0.3954,      0.3964,      0.3974,      0.3984,      0.3994,      0.4004,      0.4014,      0.4024,      0.4034,      0.4044,     0.40541,     0.40641,     0.40741,\n",
       "           0.40841,     0.40941,     0.41041,     0.41141,     0.41241,     0.41341,     0.41441,     0.41542,     0.41642,     0.41742,     0.41842,     0.41942,     0.42042,     0.42142,     0.42242,     0.42342,     0.42442,     0.42543,     0.42643,     0.42743,     0.42843,     0.42943,     0.43043,     0.43143,\n",
       "           0.43243,     0.43343,     0.43443,     0.43544,     0.43644,     0.43744,     0.43844,     0.43944,     0.44044,     0.44144,     0.44244,     0.44344,     0.44444,     0.44545,     0.44645,     0.44745,     0.44845,     0.44945,     0.45045,     0.45145,     0.45245,     0.45345,     0.45445,     0.45546,\n",
       "           0.45646,     0.45746,     0.45846,     0.45946,     0.46046,     0.46146,     0.46246,     0.46346,     0.46446,     0.46547,     0.46647,     0.46747,     0.46847,     0.46947,     0.47047,     0.47147,     0.47247,     0.47347,     0.47447,     0.47548,     0.47648,     0.47748,     0.47848,     0.47948,\n",
       "           0.48048,     0.48148,     0.48248,     0.48348,     0.48448,     0.48549,     0.48649,     0.48749,     0.48849,     0.48949,     0.49049,     0.49149,     0.49249,     0.49349,     0.49449,      0.4955,      0.4965,      0.4975,      0.4985,      0.4995,      0.5005,      0.5015,      0.5025,      0.5035,\n",
       "            0.5045,     0.50551,     0.50651,     0.50751,     0.50851,     0.50951,     0.51051,     0.51151,     0.51251,     0.51351,     0.51451,     0.51552,     0.51652,     0.51752,     0.51852,     0.51952,     0.52052,     0.52152,     0.52252,     0.52352,     0.52452,     0.52553,     0.52653,     0.52753,\n",
       "           0.52853,     0.52953,     0.53053,     0.53153,     0.53253,     0.53353,     0.53453,     0.53554,     0.53654,     0.53754,     0.53854,     0.53954,     0.54054,     0.54154,     0.54254,     0.54354,     0.54454,     0.54555,     0.54655,     0.54755,     0.54855,     0.54955,     0.55055,     0.55155,\n",
       "           0.55255,     0.55355,     0.55455,     0.55556,     0.55656,     0.55756,     0.55856,     0.55956,     0.56056,     0.56156,     0.56256,     0.56356,     0.56456,     0.56557,     0.56657,     0.56757,     0.56857,     0.56957,     0.57057,     0.57157,     0.57257,     0.57357,     0.57457,     0.57558,\n",
       "           0.57658,     0.57758,     0.57858,     0.57958,     0.58058,     0.58158,     0.58258,     0.58358,     0.58458,     0.58559,     0.58659,     0.58759,     0.58859,     0.58959,     0.59059,     0.59159,     0.59259,     0.59359,     0.59459,      0.5956,      0.5966,      0.5976,      0.5986,      0.5996,\n",
       "            0.6006,      0.6016,      0.6026,      0.6036,      0.6046,     0.60561,     0.60661,     0.60761,     0.60861,     0.60961,     0.61061,     0.61161,     0.61261,     0.61361,     0.61461,     0.61562,     0.61662,     0.61762,     0.61862,     0.61962,     0.62062,     0.62162,     0.62262,     0.62362,\n",
       "           0.62462,     0.62563,     0.62663,     0.62763,     0.62863,     0.62963,     0.63063,     0.63163,     0.63263,     0.63363,     0.63463,     0.63564,     0.63664,     0.63764,     0.63864,     0.63964,     0.64064,     0.64164,     0.64264,     0.64364,     0.64464,     0.64565,     0.64665,     0.64765,\n",
       "           0.64865,     0.64965,     0.65065,     0.65165,     0.65265,     0.65365,     0.65465,     0.65566,     0.65666,     0.65766,     0.65866,     0.65966,     0.66066,     0.66166,     0.66266,     0.66366,     0.66466,     0.66567,     0.66667,     0.66767,     0.66867,     0.66967,     0.67067,     0.67167,\n",
       "           0.67267,     0.67367,     0.67467,     0.67568,     0.67668,     0.67768,     0.67868,     0.67968,     0.68068,     0.68168,     0.68268,     0.68368,     0.68468,     0.68569,     0.68669,     0.68769,     0.68869,     0.68969,     0.69069,     0.69169,     0.69269,     0.69369,     0.69469,      0.6957,\n",
       "            0.6967,      0.6977,      0.6987,      0.6997,      0.7007,      0.7017,      0.7027,      0.7037,      0.7047,     0.70571,     0.70671,     0.70771,     0.70871,     0.70971,     0.71071,     0.71171,     0.71271,     0.71371,     0.71471,     0.71572,     0.71672,     0.71772,     0.71872,     0.71972,\n",
       "           0.72072,     0.72172,     0.72272,     0.72372,     0.72472,     0.72573,     0.72673,     0.72773,     0.72873,     0.72973,     0.73073,     0.73173,     0.73273,     0.73373,     0.73473,     0.73574,     0.73674,     0.73774,     0.73874,     0.73974,     0.74074,     0.74174,     0.74274,     0.74374,\n",
       "           0.74474,     0.74575,     0.74675,     0.74775,     0.74875,     0.74975,     0.75075,     0.75175,     0.75275,     0.75375,     0.75475,     0.75576,     0.75676,     0.75776,     0.75876,     0.75976,     0.76076,     0.76176,     0.76276,     0.76376,     0.76476,     0.76577,     0.76677,     0.76777,\n",
       "           0.76877,     0.76977,     0.77077,     0.77177,     0.77277,     0.77377,     0.77477,     0.77578,     0.77678,     0.77778,     0.77878,     0.77978,     0.78078,     0.78178,     0.78278,     0.78378,     0.78478,     0.78579,     0.78679,     0.78779,     0.78879,     0.78979,     0.79079,     0.79179,\n",
       "           0.79279,     0.79379,     0.79479,      0.7958,      0.7968,      0.7978,      0.7988,      0.7998,      0.8008,      0.8018,      0.8028,      0.8038,      0.8048,     0.80581,     0.80681,     0.80781,     0.80881,     0.80981,     0.81081,     0.81181,     0.81281,     0.81381,     0.81481,     0.81582,\n",
       "           0.81682,     0.81782,     0.81882,     0.81982,     0.82082,     0.82182,     0.82282,     0.82382,     0.82482,     0.82583,     0.82683,     0.82783,     0.82883,     0.82983,     0.83083,     0.83183,     0.83283,     0.83383,     0.83483,     0.83584,     0.83684,     0.83784,     0.83884,     0.83984,\n",
       "           0.84084,     0.84184,     0.84284,     0.84384,     0.84484,     0.84585,     0.84685,     0.84785,     0.84885,     0.84985,     0.85085,     0.85185,     0.85285,     0.85385,     0.85485,     0.85586,     0.85686,     0.85786,     0.85886,     0.85986,     0.86086,     0.86186,     0.86286,     0.86386,\n",
       "           0.86486,     0.86587,     0.86687,     0.86787,     0.86887,     0.86987,     0.87087,     0.87187,     0.87287,     0.87387,     0.87487,     0.87588,     0.87688,     0.87788,     0.87888,     0.87988,     0.88088,     0.88188,     0.88288,     0.88388,     0.88488,     0.88589,     0.88689,     0.88789,\n",
       "           0.88889,     0.88989,     0.89089,     0.89189,     0.89289,     0.89389,     0.89489,      0.8959,      0.8969,      0.8979,      0.8989,      0.8999,      0.9009,      0.9019,      0.9029,      0.9039,      0.9049,     0.90591,     0.90691,     0.90791,     0.90891,     0.90991,     0.91091,     0.91191,\n",
       "           0.91291,     0.91391,     0.91491,     0.91592,     0.91692,     0.91792,     0.91892,     0.91992,     0.92092,     0.92192,     0.92292,     0.92392,     0.92492,     0.92593,     0.92693,     0.92793,     0.92893,     0.92993,     0.93093,     0.93193,     0.93293,     0.93393,     0.93493,     0.93594,\n",
       "           0.93694,     0.93794,     0.93894,     0.93994,     0.94094,     0.94194,     0.94294,     0.94394,     0.94494,     0.94595,     0.94695,     0.94795,     0.94895,     0.94995,     0.95095,     0.95195,     0.95295,     0.95395,     0.95495,     0.95596,     0.95696,     0.95796,     0.95896,     0.95996,\n",
       "           0.96096,     0.96196,     0.96296,     0.96396,     0.96496,     0.96597,     0.96697,     0.96797,     0.96897,     0.96997,     0.97097,     0.97197,     0.97297,     0.97397,     0.97497,     0.97598,     0.97698,     0.97798,     0.97898,     0.97998,     0.98098,     0.98198,     0.98298,     0.98398,\n",
       "           0.98498,     0.98599,     0.98699,     0.98799,     0.98899,     0.98999,     0.99099,     0.99199,     0.99299,     0.99399,     0.99499,       0.996,       0.997,       0.998,       0.999,           1]), array([[    0.26877,     0.26877,     0.31491,     0.33823,     0.35581,     0.36681,     0.37555,     0.38404,      0.3876,     0.39074,     0.39793,     0.40966,     0.41516,      0.4187,     0.42851,      0.4314,     0.43651,     0.44002,     0.44294,     0.44582,     0.45307,     0.45711,     0.46309,\n",
       "            0.46755,     0.46944,     0.47075,     0.47497,     0.48248,      0.4833,     0.48412,     0.48493,     0.48669,      0.4914,     0.49862,     0.50234,     0.50961,     0.51269,     0.51501,     0.52338,     0.52877,     0.53331,     0.53495,     0.55867,      0.5628,     0.56557,     0.56414,\n",
       "            0.56584,     0.56753,     0.57062,      0.5762,      0.5797,     0.58422,     0.58898,     0.59295,     0.59598,     0.59837,     0.60701,      0.6129,     0.61559,     0.62587,     0.63067,     0.63339,     0.63943,     0.64381,     0.64681,     0.64417,     0.64573,     0.64853,     0.65494,\n",
       "            0.65792,     0.65954,     0.66115,     0.66276,     0.66567,     0.66919,     0.67333,     0.67768,     0.68198,     0.69153,     0.69475,     0.69796,     0.70043,     0.70258,     0.70473,     0.70728,     0.71185,     0.72509,      0.7331,     0.73811,     0.75017,     0.76878,     0.77385,\n",
       "            0.77496,     0.77607,     0.77718,     0.77828,     0.77939,      0.7805,     0.78161,     0.78271,     0.78478,     0.78742,     0.79007,     0.79283,     0.80411,     0.81386,     0.81901,     0.83061,     0.83547,     0.83782,     0.84017,     0.84251,     0.84446,     0.84545,     0.84644,\n",
       "            0.84744,     0.84843,     0.84942,     0.85042,     0.85141,      0.8524,      0.8534,     0.85439,     0.85626,     0.86434,     0.86734,     0.86828,     0.86922,     0.87017,     0.87111,     0.87205,       0.873,     0.87394,     0.87488,     0.87583,     0.87677,     0.87771,     0.87895,\n",
       "            0.88089,     0.88282,     0.88476,      0.8867,     0.88863,      0.8907,     0.89418,     0.89766,     0.90114,     0.90311,     0.90373,     0.90435,     0.90497,      0.9056,     0.90622,     0.90684,     0.90746,     0.90809,     0.90871,     0.90933,     0.90995,     0.91058,      0.9112,\n",
       "            0.91182,     0.91244,     0.91307,     0.91369,     0.91431,     0.91493,     0.91658,     0.92756,     0.92899,     0.92945,     0.92992,     0.93038,     0.93084,      0.9313,     0.93177,     0.93223,     0.93269,     0.93315,     0.93362,     0.93408,     0.93454,       0.935,     0.93547,\n",
       "            0.93593,     0.93639,     0.93685,     0.93732,     0.93778,     0.93824,      0.9387,     0.93917,     0.93963,     0.94009,     0.94055,     0.94102,     0.94148,     0.94194,     0.94206,      0.9421,     0.94213,     0.94217,     0.94221,     0.94225,     0.94228,     0.94232,     0.94236,\n",
       "             0.9424,     0.94243,     0.94247,     0.94251,     0.94254,     0.94258,     0.94262,     0.94266,     0.94269,     0.94273,     0.94277,     0.94281,     0.94284,     0.94288,     0.94292,     0.94296,     0.94299,     0.94303,     0.94307,      0.9431,     0.94314,     0.94318,     0.94322,\n",
       "            0.94325,     0.94329,     0.94333,     0.94337,      0.9434,     0.94344,     0.94348,     0.94352,     0.94355,     0.94359,     0.94363,     0.94367,      0.9437,     0.94374,     0.94378,     0.94381,     0.94385,     0.94389,     0.94393,     0.94396,       0.944,     0.94404,     0.94408,\n",
       "            0.94411,     0.94415,     0.94419,     0.94423,     0.94426,      0.9443,     0.94434,     0.94437,     0.94441,     0.94445,     0.94449,     0.94452,     0.94456,      0.9446,     0.94464,     0.94467,     0.94471,     0.94475,     0.94479,     0.94482,     0.94486,      0.9449,     0.94493,\n",
       "            0.94497,     0.94501,     0.94505,     0.94508,     0.94512,     0.94516,      0.9452,     0.94523,     0.94527,     0.94531,     0.94535,     0.94538,     0.94542,     0.94546,     0.94549,     0.94553,     0.94557,     0.94561,     0.94564,     0.94568,     0.94572,     0.94576,     0.94579,\n",
       "            0.94583,     0.94587,     0.94591,     0.94594,     0.94598,     0.94602,     0.94606,     0.94609,     0.94613,     0.94617,      0.9462,     0.94624,     0.94628,     0.94632,     0.94635,     0.94639,     0.94643,     0.94647,      0.9465,     0.94654,     0.94658,     0.94662,     0.94665,\n",
       "            0.94669,     0.94673,     0.94676,      0.9468,     0.94684,     0.94688,     0.94691,     0.94695,     0.94699,     0.94703,     0.94706,      0.9471,     0.94714,     0.94718,     0.94721,     0.94725,     0.94729,     0.94732,     0.94736,      0.9474,     0.94744,     0.94747,     0.94751,\n",
       "            0.94755,     0.94759,     0.94762,     0.94766,      0.9477,     0.94774,     0.94777,     0.94781,     0.94785,     0.94788,     0.94792,     0.94796,       0.948,     0.94803,     0.94807,     0.94811,     0.94815,     0.94818,     0.94822,     0.94826,      0.9483,     0.94833,     0.94837,\n",
       "            0.94841,     0.94845,     0.94848,     0.94852,     0.94856,     0.94859,     0.94863,     0.94867,     0.94871,     0.94874,     0.94878,     0.94882,     0.94886,     0.94889,     0.94893,     0.94897,     0.94901,     0.94904,     0.94908,     0.94912,     0.94915,     0.94919,     0.94923,\n",
       "            0.94927,      0.9493,     0.94934,     0.94938,     0.94942,     0.94945,     0.94949,     0.94953,     0.94957,      0.9496,     0.94964,     0.94968,     0.94971,     0.94975,     0.94979,     0.94983,     0.94986,      0.9499,     0.94994,     0.94998,     0.95001,     0.95005,     0.95009,\n",
       "            0.95013,     0.95016,      0.9502,     0.95024,     0.95027,     0.95031,     0.95035,     0.95039,     0.95042,     0.95046,      0.9505,     0.95054,     0.95057,     0.95061,     0.95065,     0.95069,     0.95072,     0.95076,      0.9508,     0.95084,     0.95087,     0.95091,     0.95095,\n",
       "            0.95098,     0.95102,     0.95106,      0.9511,     0.95113,     0.95117,     0.95121,     0.95125,     0.95128,     0.95132,     0.95136,      0.9514,     0.95143,     0.95147,     0.95151,     0.95154,     0.95158,     0.95162,     0.95166,     0.95169,     0.95173,     0.95177,     0.95181,\n",
       "            0.95184,     0.95188,     0.95192,     0.95196,     0.95199,     0.95203,     0.95207,      0.9521,     0.95214,     0.95218,     0.95222,     0.95225,     0.95229,     0.95233,     0.95237,      0.9524,     0.95244,     0.95248,     0.95252,     0.95255,     0.95259,     0.95263,     0.95267,\n",
       "             0.9527,     0.95274,     0.95278,     0.95281,     0.95285,     0.95289,     0.95293,     0.95296,       0.953,     0.95304,     0.95308,     0.95311,     0.95315,     0.95319,     0.95323,     0.95326,      0.9533,     0.95334,     0.95337,     0.95341,     0.95345,     0.95349,     0.95352,\n",
       "            0.95356,      0.9536,     0.95364,     0.95367,     0.95371,     0.95375,     0.95379,     0.95382,     0.95386,      0.9539,     0.95393,     0.95397,     0.95401,     0.95405,     0.95408,     0.95412,     0.95416,      0.9542,     0.95423,     0.95427,     0.95431,     0.95435,     0.95438,\n",
       "            0.95442,     0.95446,     0.95449,     0.95453,     0.95457,     0.95461,     0.95464,     0.95468,     0.95472,     0.95476,     0.95479,     0.95483,     0.95487,     0.95491,     0.95494,     0.95498,     0.95502,     0.95506,     0.95509,     0.95513,     0.95517,      0.9552,     0.95524,\n",
       "            0.95528,     0.95532,     0.95535,     0.95539,     0.95543,     0.95547,      0.9555,     0.95554,     0.95558,     0.95562,     0.95565,     0.95569,     0.95573,     0.95576,      0.9558,     0.95584,     0.95588,     0.95826,     0.96107,     0.96388,     0.96669,      0.9695,     0.97009,\n",
       "            0.97001,     0.96993,     0.96985,     0.96977,     0.96969,     0.96966,     0.96963,      0.9696,     0.96957,     0.96954,     0.96951,     0.96948,     0.96945,     0.96942,     0.96939,     0.96936,     0.96933,      0.9693,     0.96927,     0.96924,     0.96904,     0.96886,     0.97101,\n",
       "            0.97316,     0.97531,     0.97746,     0.97961,     0.98175,      0.9839,     0.98409,     0.98404,       0.984,     0.98395,     0.98391,     0.98385,     0.98373,     0.98361,     0.98351,     0.98341,     0.98332,     0.98328,     0.98323,     0.98319,     0.98314,      0.9831,     0.98305,\n",
       "             0.9829,     0.98263,     0.98204,      0.9819,     0.98176,     0.98164,     0.98152,     0.98104,     0.98087,     0.98034,     0.98012,     0.97938,     0.97876,     0.97828,     0.97673,     0.97595,       0.975,     0.97426,     0.97405,     0.97384,     0.97353,     0.97281,     0.97211,\n",
       "            0.97171,     0.96996,     0.96809,     0.96703,     0.96586,     0.96419,     0.96344,     0.96229,     0.96053,     0.96689,      0.9868,           1,           1,           1,           1,           1,           1,           1,           1,           1,           1,           1,           1,\n",
       "                  1,           1,           1,           1,           1,           1,           1,           1,           1,           1,           1,           1,           1,           1,           1,           1,           1,           1,           1,           1,           1,           1,           1,\n",
       "                  1,           1,           1,           1,           1,           1,           1,           1,           1,           1,           1,           1,           1,           1,           1,           1,           1,           1,           1,           1,           1,           1,           1,\n",
       "                  1,           1,           1,           1,           1,           1,           1,           1,           1,           1,           1,           1,           1,           1,           1,           1,           1,           1,           1,           1,           1,           1,           1,\n",
       "                  1,           1,           1,           1,           1,           1,           1,           1,           1,           1,           1,           1,           1,           1,           1,           1,           1,           1,           1,           1,           1,           1,           1,\n",
       "                  1,           1,           1,           1,           1,           1,           1,           1,           1,           1,           1,           1,           1,           1,           1,           1,           1,           1,           1,           1,           1,           1,           1,\n",
       "                  1,           1,           1,           1,           1,           1,           1,           1,           1,           1,           1,           1,           1,           1,           1,           1,           1,           1,           1,           1,           1,           1,           1,\n",
       "                  1,           1,           1,           1,           1,           1,           1,           1,           1,           1,           1,           1,           1,           1,           1,           1,           1,           1,           1,           1,           1,           1,           1,\n",
       "                  1,           1,           1,           1,           1,           1,           1,           1,           1,           1,           1,           1,           1,           1,           1,           1,           1,           1,           1,           1,           1,           1,           1,\n",
       "                  1,           1,           1,           1,           1,           1,           1,           1,           1,           1,           1,           1,           1,           1,           1,           1,           1,           1,           1,           1,           1,           1,           1,\n",
       "                  1,           1,           1,           1,           1,           1,           1,           1,           1,           1,           1,           1,           1,           1,           1,           1,           1,           1,           1,           1,           1,           1,           1,\n",
       "                  1,           1,           1,           1,           1,           1,           1,           1,           1,           1,           1,           1,           1,           1,           1,           1,           1,           1,           1,           1,           1,           1,           1,\n",
       "                  1,           1,           1,           1,           1,           1,           1,           1,           1,           1,           1,           1,           1,           1,           1,           1,           1,           1,           1,           1,           1,           1,           1,\n",
       "                  1,           1,           1,           1,           1,           1,           1,           1,           1,           1,           1,           1,           1,           1,           1,           1,           1,           1,           1,           1,           1,           1,           1,\n",
       "                  1,           1,           1,           1,           1,           1,           1,           1,           1,           1,           1,           1,           1,           1,           1,           1,           1,           1,           1,           1,           1,           1,           1,\n",
       "                  1,           1,           1,           1,           1,           1,           1,           1,           1,           1,           1]]), 'Confidence', 'Precision'], [array([          0,    0.001001,    0.002002,    0.003003,    0.004004,    0.005005,    0.006006,    0.007007,    0.008008,    0.009009,     0.01001,    0.011011,    0.012012,    0.013013,    0.014014,    0.015015,    0.016016,    0.017017,    0.018018,    0.019019,     0.02002,    0.021021,    0.022022,    0.023023,\n",
       "          0.024024,    0.025025,    0.026026,    0.027027,    0.028028,    0.029029,     0.03003,    0.031031,    0.032032,    0.033033,    0.034034,    0.035035,    0.036036,    0.037037,    0.038038,    0.039039,     0.04004,    0.041041,    0.042042,    0.043043,    0.044044,    0.045045,    0.046046,    0.047047,\n",
       "          0.048048,    0.049049,     0.05005,    0.051051,    0.052052,    0.053053,    0.054054,    0.055055,    0.056056,    0.057057,    0.058058,    0.059059,     0.06006,    0.061061,    0.062062,    0.063063,    0.064064,    0.065065,    0.066066,    0.067067,    0.068068,    0.069069,     0.07007,    0.071071,\n",
       "          0.072072,    0.073073,    0.074074,    0.075075,    0.076076,    0.077077,    0.078078,    0.079079,     0.08008,    0.081081,    0.082082,    0.083083,    0.084084,    0.085085,    0.086086,    0.087087,    0.088088,    0.089089,     0.09009,    0.091091,    0.092092,    0.093093,    0.094094,    0.095095,\n",
       "          0.096096,    0.097097,    0.098098,    0.099099,      0.1001,      0.1011,      0.1021,      0.1031,      0.1041,     0.10511,     0.10611,     0.10711,     0.10811,     0.10911,     0.11011,     0.11111,     0.11211,     0.11311,     0.11411,     0.11512,     0.11612,     0.11712,     0.11812,     0.11912,\n",
       "           0.12012,     0.12112,     0.12212,     0.12312,     0.12412,     0.12513,     0.12613,     0.12713,     0.12813,     0.12913,     0.13013,     0.13113,     0.13213,     0.13313,     0.13413,     0.13514,     0.13614,     0.13714,     0.13814,     0.13914,     0.14014,     0.14114,     0.14214,     0.14314,\n",
       "           0.14414,     0.14515,     0.14615,     0.14715,     0.14815,     0.14915,     0.15015,     0.15115,     0.15215,     0.15315,     0.15415,     0.15516,     0.15616,     0.15716,     0.15816,     0.15916,     0.16016,     0.16116,     0.16216,     0.16316,     0.16416,     0.16517,     0.16617,     0.16717,\n",
       "           0.16817,     0.16917,     0.17017,     0.17117,     0.17217,     0.17317,     0.17417,     0.17518,     0.17618,     0.17718,     0.17818,     0.17918,     0.18018,     0.18118,     0.18218,     0.18318,     0.18418,     0.18519,     0.18619,     0.18719,     0.18819,     0.18919,     0.19019,     0.19119,\n",
       "           0.19219,     0.19319,     0.19419,      0.1952,      0.1962,      0.1972,      0.1982,      0.1992,      0.2002,      0.2012,      0.2022,      0.2032,      0.2042,     0.20521,     0.20621,     0.20721,     0.20821,     0.20921,     0.21021,     0.21121,     0.21221,     0.21321,     0.21421,     0.21522,\n",
       "           0.21622,     0.21722,     0.21822,     0.21922,     0.22022,     0.22122,     0.22222,     0.22322,     0.22422,     0.22523,     0.22623,     0.22723,     0.22823,     0.22923,     0.23023,     0.23123,     0.23223,     0.23323,     0.23423,     0.23524,     0.23624,     0.23724,     0.23824,     0.23924,\n",
       "           0.24024,     0.24124,     0.24224,     0.24324,     0.24424,     0.24525,     0.24625,     0.24725,     0.24825,     0.24925,     0.25025,     0.25125,     0.25225,     0.25325,     0.25425,     0.25526,     0.25626,     0.25726,     0.25826,     0.25926,     0.26026,     0.26126,     0.26226,     0.26326,\n",
       "           0.26426,     0.26527,     0.26627,     0.26727,     0.26827,     0.26927,     0.27027,     0.27127,     0.27227,     0.27327,     0.27427,     0.27528,     0.27628,     0.27728,     0.27828,     0.27928,     0.28028,     0.28128,     0.28228,     0.28328,     0.28428,     0.28529,     0.28629,     0.28729,\n",
       "           0.28829,     0.28929,     0.29029,     0.29129,     0.29229,     0.29329,     0.29429,      0.2953,      0.2963,      0.2973,      0.2983,      0.2993,      0.3003,      0.3013,      0.3023,      0.3033,      0.3043,     0.30531,     0.30631,     0.30731,     0.30831,     0.30931,     0.31031,     0.31131,\n",
       "           0.31231,     0.31331,     0.31431,     0.31532,     0.31632,     0.31732,     0.31832,     0.31932,     0.32032,     0.32132,     0.32232,     0.32332,     0.32432,     0.32533,     0.32633,     0.32733,     0.32833,     0.32933,     0.33033,     0.33133,     0.33233,     0.33333,     0.33433,     0.33534,\n",
       "           0.33634,     0.33734,     0.33834,     0.33934,     0.34034,     0.34134,     0.34234,     0.34334,     0.34434,     0.34535,     0.34635,     0.34735,     0.34835,     0.34935,     0.35035,     0.35135,     0.35235,     0.35335,     0.35435,     0.35536,     0.35636,     0.35736,     0.35836,     0.35936,\n",
       "           0.36036,     0.36136,     0.36236,     0.36336,     0.36436,     0.36537,     0.36637,     0.36737,     0.36837,     0.36937,     0.37037,     0.37137,     0.37237,     0.37337,     0.37437,     0.37538,     0.37638,     0.37738,     0.37838,     0.37938,     0.38038,     0.38138,     0.38238,     0.38338,\n",
       "           0.38438,     0.38539,     0.38639,     0.38739,     0.38839,     0.38939,     0.39039,     0.39139,     0.39239,     0.39339,     0.39439,      0.3954,      0.3964,      0.3974,      0.3984,      0.3994,      0.4004,      0.4014,      0.4024,      0.4034,      0.4044,     0.40541,     0.40641,     0.40741,\n",
       "           0.40841,     0.40941,     0.41041,     0.41141,     0.41241,     0.41341,     0.41441,     0.41542,     0.41642,     0.41742,     0.41842,     0.41942,     0.42042,     0.42142,     0.42242,     0.42342,     0.42442,     0.42543,     0.42643,     0.42743,     0.42843,     0.42943,     0.43043,     0.43143,\n",
       "           0.43243,     0.43343,     0.43443,     0.43544,     0.43644,     0.43744,     0.43844,     0.43944,     0.44044,     0.44144,     0.44244,     0.44344,     0.44444,     0.44545,     0.44645,     0.44745,     0.44845,     0.44945,     0.45045,     0.45145,     0.45245,     0.45345,     0.45445,     0.45546,\n",
       "           0.45646,     0.45746,     0.45846,     0.45946,     0.46046,     0.46146,     0.46246,     0.46346,     0.46446,     0.46547,     0.46647,     0.46747,     0.46847,     0.46947,     0.47047,     0.47147,     0.47247,     0.47347,     0.47447,     0.47548,     0.47648,     0.47748,     0.47848,     0.47948,\n",
       "           0.48048,     0.48148,     0.48248,     0.48348,     0.48448,     0.48549,     0.48649,     0.48749,     0.48849,     0.48949,     0.49049,     0.49149,     0.49249,     0.49349,     0.49449,      0.4955,      0.4965,      0.4975,      0.4985,      0.4995,      0.5005,      0.5015,      0.5025,      0.5035,\n",
       "            0.5045,     0.50551,     0.50651,     0.50751,     0.50851,     0.50951,     0.51051,     0.51151,     0.51251,     0.51351,     0.51451,     0.51552,     0.51652,     0.51752,     0.51852,     0.51952,     0.52052,     0.52152,     0.52252,     0.52352,     0.52452,     0.52553,     0.52653,     0.52753,\n",
       "           0.52853,     0.52953,     0.53053,     0.53153,     0.53253,     0.53353,     0.53453,     0.53554,     0.53654,     0.53754,     0.53854,     0.53954,     0.54054,     0.54154,     0.54254,     0.54354,     0.54454,     0.54555,     0.54655,     0.54755,     0.54855,     0.54955,     0.55055,     0.55155,\n",
       "           0.55255,     0.55355,     0.55455,     0.55556,     0.55656,     0.55756,     0.55856,     0.55956,     0.56056,     0.56156,     0.56256,     0.56356,     0.56456,     0.56557,     0.56657,     0.56757,     0.56857,     0.56957,     0.57057,     0.57157,     0.57257,     0.57357,     0.57457,     0.57558,\n",
       "           0.57658,     0.57758,     0.57858,     0.57958,     0.58058,     0.58158,     0.58258,     0.58358,     0.58458,     0.58559,     0.58659,     0.58759,     0.58859,     0.58959,     0.59059,     0.59159,     0.59259,     0.59359,     0.59459,      0.5956,      0.5966,      0.5976,      0.5986,      0.5996,\n",
       "            0.6006,      0.6016,      0.6026,      0.6036,      0.6046,     0.60561,     0.60661,     0.60761,     0.60861,     0.60961,     0.61061,     0.61161,     0.61261,     0.61361,     0.61461,     0.61562,     0.61662,     0.61762,     0.61862,     0.61962,     0.62062,     0.62162,     0.62262,     0.62362,\n",
       "           0.62462,     0.62563,     0.62663,     0.62763,     0.62863,     0.62963,     0.63063,     0.63163,     0.63263,     0.63363,     0.63463,     0.63564,     0.63664,     0.63764,     0.63864,     0.63964,     0.64064,     0.64164,     0.64264,     0.64364,     0.64464,     0.64565,     0.64665,     0.64765,\n",
       "           0.64865,     0.64965,     0.65065,     0.65165,     0.65265,     0.65365,     0.65465,     0.65566,     0.65666,     0.65766,     0.65866,     0.65966,     0.66066,     0.66166,     0.66266,     0.66366,     0.66466,     0.66567,     0.66667,     0.66767,     0.66867,     0.66967,     0.67067,     0.67167,\n",
       "           0.67267,     0.67367,     0.67467,     0.67568,     0.67668,     0.67768,     0.67868,     0.67968,     0.68068,     0.68168,     0.68268,     0.68368,     0.68468,     0.68569,     0.68669,     0.68769,     0.68869,     0.68969,     0.69069,     0.69169,     0.69269,     0.69369,     0.69469,      0.6957,\n",
       "            0.6967,      0.6977,      0.6987,      0.6997,      0.7007,      0.7017,      0.7027,      0.7037,      0.7047,     0.70571,     0.70671,     0.70771,     0.70871,     0.70971,     0.71071,     0.71171,     0.71271,     0.71371,     0.71471,     0.71572,     0.71672,     0.71772,     0.71872,     0.71972,\n",
       "           0.72072,     0.72172,     0.72272,     0.72372,     0.72472,     0.72573,     0.72673,     0.72773,     0.72873,     0.72973,     0.73073,     0.73173,     0.73273,     0.73373,     0.73473,     0.73574,     0.73674,     0.73774,     0.73874,     0.73974,     0.74074,     0.74174,     0.74274,     0.74374,\n",
       "           0.74474,     0.74575,     0.74675,     0.74775,     0.74875,     0.74975,     0.75075,     0.75175,     0.75275,     0.75375,     0.75475,     0.75576,     0.75676,     0.75776,     0.75876,     0.75976,     0.76076,     0.76176,     0.76276,     0.76376,     0.76476,     0.76577,     0.76677,     0.76777,\n",
       "           0.76877,     0.76977,     0.77077,     0.77177,     0.77277,     0.77377,     0.77477,     0.77578,     0.77678,     0.77778,     0.77878,     0.77978,     0.78078,     0.78178,     0.78278,     0.78378,     0.78478,     0.78579,     0.78679,     0.78779,     0.78879,     0.78979,     0.79079,     0.79179,\n",
       "           0.79279,     0.79379,     0.79479,      0.7958,      0.7968,      0.7978,      0.7988,      0.7998,      0.8008,      0.8018,      0.8028,      0.8038,      0.8048,     0.80581,     0.80681,     0.80781,     0.80881,     0.80981,     0.81081,     0.81181,     0.81281,     0.81381,     0.81481,     0.81582,\n",
       "           0.81682,     0.81782,     0.81882,     0.81982,     0.82082,     0.82182,     0.82282,     0.82382,     0.82482,     0.82583,     0.82683,     0.82783,     0.82883,     0.82983,     0.83083,     0.83183,     0.83283,     0.83383,     0.83483,     0.83584,     0.83684,     0.83784,     0.83884,     0.83984,\n",
       "           0.84084,     0.84184,     0.84284,     0.84384,     0.84484,     0.84585,     0.84685,     0.84785,     0.84885,     0.84985,     0.85085,     0.85185,     0.85285,     0.85385,     0.85485,     0.85586,     0.85686,     0.85786,     0.85886,     0.85986,     0.86086,     0.86186,     0.86286,     0.86386,\n",
       "           0.86486,     0.86587,     0.86687,     0.86787,     0.86887,     0.86987,     0.87087,     0.87187,     0.87287,     0.87387,     0.87487,     0.87588,     0.87688,     0.87788,     0.87888,     0.87988,     0.88088,     0.88188,     0.88288,     0.88388,     0.88488,     0.88589,     0.88689,     0.88789,\n",
       "           0.88889,     0.88989,     0.89089,     0.89189,     0.89289,     0.89389,     0.89489,      0.8959,      0.8969,      0.8979,      0.8989,      0.8999,      0.9009,      0.9019,      0.9029,      0.9039,      0.9049,     0.90591,     0.90691,     0.90791,     0.90891,     0.90991,     0.91091,     0.91191,\n",
       "           0.91291,     0.91391,     0.91491,     0.91592,     0.91692,     0.91792,     0.91892,     0.91992,     0.92092,     0.92192,     0.92292,     0.92392,     0.92492,     0.92593,     0.92693,     0.92793,     0.92893,     0.92993,     0.93093,     0.93193,     0.93293,     0.93393,     0.93493,     0.93594,\n",
       "           0.93694,     0.93794,     0.93894,     0.93994,     0.94094,     0.94194,     0.94294,     0.94394,     0.94494,     0.94595,     0.94695,     0.94795,     0.94895,     0.94995,     0.95095,     0.95195,     0.95295,     0.95395,     0.95495,     0.95596,     0.95696,     0.95796,     0.95896,     0.95996,\n",
       "           0.96096,     0.96196,     0.96296,     0.96396,     0.96496,     0.96597,     0.96697,     0.96797,     0.96897,     0.96997,     0.97097,     0.97197,     0.97297,     0.97397,     0.97497,     0.97598,     0.97698,     0.97798,     0.97898,     0.97998,     0.98098,     0.98198,     0.98298,     0.98398,\n",
       "           0.98498,     0.98599,     0.98699,     0.98799,     0.98899,     0.98999,     0.99099,     0.99199,     0.99299,     0.99399,     0.99499,       0.996,       0.997,       0.998,       0.999,           1]), array([[          1,           1,     0.98529,     0.98529,     0.98529,     0.98529,     0.98529,     0.98529,     0.98529,     0.98529,     0.98529,     0.98529,     0.98529,     0.98529,     0.98529,     0.98529,     0.98529,     0.98529,     0.98529,     0.98529,     0.98529,     0.98529,     0.98529,\n",
       "            0.98529,     0.98529,     0.98529,     0.98529,     0.98529,     0.98529,     0.98529,     0.98529,     0.98529,     0.98529,     0.98529,     0.98529,     0.98529,     0.98529,     0.98529,     0.98529,     0.98529,     0.98529,     0.98529,     0.98529,     0.98529,     0.98529,     0.97059,\n",
       "            0.97059,     0.97059,     0.97059,     0.97059,     0.97059,     0.97059,     0.97059,     0.97059,     0.97059,     0.97059,     0.97059,     0.97059,     0.97059,     0.97059,     0.97059,     0.97059,     0.97059,     0.97059,     0.96955,     0.95843,     0.95588,     0.95588,     0.95588,\n",
       "            0.95588,     0.95588,     0.95588,     0.95588,     0.95588,     0.95588,     0.95588,     0.95588,     0.95588,     0.95588,     0.95588,     0.95588,     0.95588,     0.95588,     0.95588,     0.95588,     0.95588,     0.95588,     0.95588,     0.95588,     0.95588,     0.95588,     0.95588,\n",
       "            0.95588,     0.95588,     0.95588,     0.95588,     0.95588,     0.95588,     0.95588,     0.95588,     0.95588,     0.95588,     0.95588,     0.95588,     0.95588,     0.95588,     0.95588,     0.95588,     0.95588,     0.95588,     0.95588,     0.95588,     0.95588,     0.95588,     0.95588,\n",
       "            0.95588,     0.95588,     0.95588,     0.95588,     0.95588,     0.95588,     0.95588,     0.95588,     0.95588,     0.95588,     0.95588,     0.95588,     0.95588,     0.95588,     0.95588,     0.95588,     0.95588,     0.95588,     0.95588,     0.95588,     0.95588,     0.95588,     0.95588,\n",
       "            0.95588,     0.95588,     0.95588,     0.95588,     0.95588,     0.95588,     0.95588,     0.95588,     0.95588,     0.95588,     0.95588,     0.95588,     0.95588,     0.95588,     0.95588,     0.95588,     0.95588,     0.95588,     0.95588,     0.95588,     0.95588,     0.95588,     0.95588,\n",
       "            0.95588,     0.95588,     0.95588,     0.95588,     0.95588,     0.95588,     0.95588,     0.95588,     0.95588,     0.95588,     0.95588,     0.95588,     0.95588,     0.95588,     0.95588,     0.95588,     0.95588,     0.95588,     0.95588,     0.95588,     0.95588,     0.95588,     0.95588,\n",
       "            0.95588,     0.95588,     0.95588,     0.95588,     0.95588,     0.95588,     0.95588,     0.95588,     0.95588,     0.95588,     0.95588,     0.95588,     0.95588,     0.95588,     0.95588,     0.95588,     0.95588,     0.95588,     0.95588,     0.95588,     0.95588,     0.95588,     0.95588,\n",
       "            0.95588,     0.95588,     0.95588,     0.95588,     0.95588,     0.95588,     0.95588,     0.95588,     0.95588,     0.95588,     0.95588,     0.95588,     0.95588,     0.95588,     0.95588,     0.95588,     0.95588,     0.95588,     0.95588,     0.95588,     0.95588,     0.95588,     0.95588,\n",
       "            0.95588,     0.95588,     0.95588,     0.95588,     0.95588,     0.95588,     0.95588,     0.95588,     0.95588,     0.95588,     0.95588,     0.95588,     0.95588,     0.95588,     0.95588,     0.95588,     0.95588,     0.95588,     0.95588,     0.95588,     0.95588,     0.95588,     0.95588,\n",
       "            0.95588,     0.95588,     0.95588,     0.95588,     0.95588,     0.95588,     0.95588,     0.95588,     0.95588,     0.95588,     0.95588,     0.95588,     0.95588,     0.95588,     0.95588,     0.95588,     0.95588,     0.95588,     0.95588,     0.95588,     0.95588,     0.95588,     0.95588,\n",
       "            0.95588,     0.95588,     0.95588,     0.95588,     0.95588,     0.95588,     0.95588,     0.95588,     0.95588,     0.95588,     0.95588,     0.95588,     0.95588,     0.95588,     0.95588,     0.95588,     0.95588,     0.95588,     0.95588,     0.95588,     0.95588,     0.95588,     0.95588,\n",
       "            0.95588,     0.95588,     0.95588,     0.95588,     0.95588,     0.95588,     0.95588,     0.95588,     0.95588,     0.95588,     0.95588,     0.95588,     0.95588,     0.95588,     0.95588,     0.95588,     0.95588,     0.95588,     0.95588,     0.95588,     0.95588,     0.95588,     0.95588,\n",
       "            0.95588,     0.95588,     0.95588,     0.95588,     0.95588,     0.95588,     0.95588,     0.95588,     0.95588,     0.95588,     0.95588,     0.95588,     0.95588,     0.95588,     0.95588,     0.95588,     0.95588,     0.95588,     0.95588,     0.95588,     0.95588,     0.95588,     0.95588,\n",
       "            0.95588,     0.95588,     0.95588,     0.95588,     0.95588,     0.95588,     0.95588,     0.95588,     0.95588,     0.95588,     0.95588,     0.95588,     0.95588,     0.95588,     0.95588,     0.95588,     0.95588,     0.95588,     0.95588,     0.95588,     0.95588,     0.95588,     0.95588,\n",
       "            0.95588,     0.95588,     0.95588,     0.95588,     0.95588,     0.95588,     0.95588,     0.95588,     0.95588,     0.95588,     0.95588,     0.95588,     0.95588,     0.95588,     0.95588,     0.95588,     0.95588,     0.95588,     0.95588,     0.95588,     0.95588,     0.95588,     0.95588,\n",
       "            0.95588,     0.95588,     0.95588,     0.95588,     0.95588,     0.95588,     0.95588,     0.95588,     0.95588,     0.95588,     0.95588,     0.95588,     0.95588,     0.95588,     0.95588,     0.95588,     0.95588,     0.95588,     0.95588,     0.95588,     0.95588,     0.95588,     0.95588,\n",
       "            0.95588,     0.95588,     0.95588,     0.95588,     0.95588,     0.95588,     0.95588,     0.95588,     0.95588,     0.95588,     0.95588,     0.95588,     0.95588,     0.95588,     0.95588,     0.95588,     0.95588,     0.95588,     0.95588,     0.95588,     0.95588,     0.95588,     0.95588,\n",
       "            0.95588,     0.95588,     0.95588,     0.95588,     0.95588,     0.95588,     0.95588,     0.95588,     0.95588,     0.95588,     0.95588,     0.95588,     0.95588,     0.95588,     0.95588,     0.95588,     0.95588,     0.95588,     0.95588,     0.95588,     0.95588,     0.95588,     0.95588,\n",
       "            0.95588,     0.95588,     0.95588,     0.95588,     0.95588,     0.95588,     0.95588,     0.95588,     0.95588,     0.95588,     0.95588,     0.95588,     0.95588,     0.95588,     0.95588,     0.95588,     0.95588,     0.95588,     0.95588,     0.95588,     0.95588,     0.95588,     0.95588,\n",
       "            0.95588,     0.95588,     0.95588,     0.95588,     0.95588,     0.95588,     0.95588,     0.95588,     0.95588,     0.95588,     0.95588,     0.95588,     0.95588,     0.95588,     0.95588,     0.95588,     0.95588,     0.95588,     0.95588,     0.95588,     0.95588,     0.95588,     0.95588,\n",
       "            0.95588,     0.95588,     0.95588,     0.95588,     0.95588,     0.95588,     0.95588,     0.95588,     0.95588,     0.95588,     0.95588,     0.95588,     0.95588,     0.95588,     0.95588,     0.95588,     0.95588,     0.95588,     0.95588,     0.95588,     0.95588,     0.95588,     0.95588,\n",
       "            0.95588,     0.95588,     0.95588,     0.95588,     0.95588,     0.95588,     0.95588,     0.95588,     0.95588,     0.95588,     0.95588,     0.95588,     0.95588,     0.95588,     0.95588,     0.95588,     0.95588,     0.95588,     0.95588,     0.95588,     0.95588,     0.95588,     0.95588,\n",
       "            0.95588,     0.95588,     0.95588,     0.95588,     0.95588,     0.95588,     0.95588,     0.95588,     0.95588,     0.95588,     0.95588,     0.95588,     0.95588,     0.95588,     0.95588,     0.95588,     0.95588,     0.95588,     0.95588,     0.95588,     0.95588,     0.95588,     0.95387,\n",
       "            0.95125,     0.94864,     0.94602,      0.9434,     0.94103,     0.94009,     0.93914,     0.93819,     0.93724,      0.9363,     0.93535,      0.9344,     0.93345,     0.93251,     0.93156,     0.93061,     0.92966,     0.92872,     0.92777,     0.92682,     0.92061,     0.91176,     0.91176,\n",
       "            0.91176,     0.91176,     0.91176,     0.91176,     0.91176,     0.91176,     0.90947,     0.90692,     0.90436,      0.9018,     0.89925,     0.89609,     0.88936,     0.88263,     0.87718,     0.87179,      0.8671,     0.86477,     0.86244,     0.86011,     0.85778,     0.85545,     0.85312,\n",
       "            0.84516,     0.83187,     0.80425,     0.79761,     0.79164,     0.78641,     0.78118,     0.76083,     0.75395,     0.73349,     0.72524,     0.69847,     0.67754,     0.66245,     0.61724,     0.59698,     0.57343,     0.55657,     0.55207,     0.54757,     0.54083,     0.52628,     0.51257,\n",
       "            0.50524,     0.47489,     0.44622,     0.43146,     0.41618,       0.396,     0.38768,     0.37536,     0.35803,     0.32353,     0.32353,     0.32024,     0.31049,     0.29869,     0.28241,     0.26572,     0.24385,     0.21762,     0.20682,     0.19153,     0.18316,     0.17011,     0.15616,\n",
       "            0.14875,     0.13226,     0.12973,     0.12721,     0.12469,     0.12216,     0.11964,     0.11419,     0.10222,    0.099958,    0.097696,    0.095433,    0.093171,    0.090908,    0.088646,     0.08618,    0.083669,    0.081157,    0.078646,    0.076135,    0.073623,    0.070434,    0.067218,\n",
       "           0.064003,    0.060787,    0.056823,    0.051686,    0.046549,    0.043257,    0.041624,    0.039991,    0.038357,    0.036724,    0.035091,    0.033457,    0.031824,    0.030191,     0.02784,    0.024834,    0.021829,    0.018824,    0.015818,           0,           0,           0,           0,\n",
       "                  0,           0,           0,           0,           0,           0,           0,           0,           0,           0,           0,           0,           0,           0,           0,           0,           0,           0,           0,           0,           0,           0,           0,\n",
       "                  0,           0,           0,           0,           0,           0,           0,           0,           0,           0,           0,           0,           0,           0,           0,           0,           0,           0,           0,           0,           0,           0,           0,\n",
       "                  0,           0,           0,           0,           0,           0,           0,           0,           0,           0,           0,           0,           0,           0,           0,           0,           0,           0,           0,           0,           0,           0,           0,\n",
       "                  0,           0,           0,           0,           0,           0,           0,           0,           0,           0,           0,           0,           0,           0,           0,           0,           0,           0,           0,           0,           0,           0,           0,\n",
       "                  0,           0,           0,           0,           0,           0,           0,           0,           0,           0,           0,           0,           0,           0,           0,           0,           0,           0,           0,           0,           0,           0,           0,\n",
       "                  0,           0,           0,           0,           0,           0,           0,           0,           0,           0,           0,           0,           0,           0,           0,           0,           0,           0,           0,           0,           0,           0,           0,\n",
       "                  0,           0,           0,           0,           0,           0,           0,           0,           0,           0,           0,           0,           0,           0,           0,           0,           0,           0,           0,           0,           0,           0,           0,\n",
       "                  0,           0,           0,           0,           0,           0,           0,           0,           0,           0,           0,           0,           0,           0,           0,           0,           0,           0,           0,           0,           0,           0,           0,\n",
       "                  0,           0,           0,           0,           0,           0,           0,           0,           0,           0,           0,           0,           0,           0,           0,           0,           0,           0,           0,           0,           0,           0,           0,\n",
       "                  0,           0,           0,           0,           0,           0,           0,           0,           0,           0,           0,           0,           0,           0,           0,           0,           0,           0,           0,           0,           0,           0,           0,\n",
       "                  0,           0,           0,           0,           0,           0,           0,           0,           0,           0,           0,           0,           0,           0,           0,           0,           0,           0,           0,           0,           0,           0,           0,\n",
       "                  0,           0,           0,           0,           0,           0,           0,           0,           0,           0,           0,           0,           0,           0,           0,           0,           0,           0,           0,           0,           0,           0,           0,\n",
       "                  0,           0,           0,           0,           0,           0,           0,           0,           0,           0,           0]]), 'Confidence', 'Recall']]\n",
       "fitness: np.float64(0.5867690829079664)\n",
       "keys: ['metrics/precision(B)', 'metrics/recall(B)', 'metrics/mAP50(B)', 'metrics/mAP50-95(B)']\n",
       "maps: array([    0.54461])\n",
       "names: {0: 'loop'}\n",
       "plot: True\n",
       "results_dict: {'metrics/precision(B)': np.float64(0.9544575662933509), 'metrics/recall(B)': np.float64(0.9558823529411765), 'metrics/mAP50(B)': np.float64(0.9661936739094527), 'metrics/mAP50-95(B)': np.float64(0.5446107950189123), 'fitness': np.float64(0.5867690829079664)}\n",
       "save_dir: PosixPath('/Users/jin/Documents/GitHub/AI-Project/runs/detect/loop_fingerprint_detection')\n",
       "speed: {'preprocess': 0.1743241463212625, 'inference': 33.10496385229806, 'loss': 1.6544671619639677e-05, 'postprocess': 0.09452205781331834}\n",
       "task: 'detect'"
      ]
     },
     "execution_count": 263,
     "metadata": {},
     "output_type": "execute_result"
    }
   ],
   "source": [
    "model.train(\n",
    "    data=dataset_dir,  # auto set by roboflow\n",
    "    epochs=50,\n",
    "    imgsz=256,\n",
    "    batch=32,\n",
    "    dropout = 0.2,\n",
    "    erasing = 0.2,\n",
    "    save_period = 4,\n",
    "    patience = 20,\n",
    "    val = True,\n",
    "    name=f\"{FEATURE}_fingerprint_detection\"\n",
    ")"
   ]
  },
  {
   "cell_type": "code",
   "execution_count": 264,
   "metadata": {},
   "outputs": [
    {
     "name": "stdout",
     "output_type": "stream",
     "text": [
      "\n",
      "image 1/6 /Users/jin/Documents/GitHub/AI-Project/Fingerprint Classifier/test_images/loop/loop_1.tif: 256x256 1 loop, 23.6ms\n",
      "image 2/6 /Users/jin/Documents/GitHub/AI-Project/Fingerprint Classifier/test_images/loop/loop_2.tif: 256x256 1 loop, 11.7ms\n",
      "image 3/6 /Users/jin/Documents/GitHub/AI-Project/Fingerprint Classifier/test_images/loop/loop_3.tif: 256x256 1 loop, 10.9ms\n",
      "image 4/6 /Users/jin/Documents/GitHub/AI-Project/Fingerprint Classifier/test_images/loop/loop_4.tif: 256x256 1 loop, 16.0ms\n",
      "image 5/6 /Users/jin/Documents/GitHub/AI-Project/Fingerprint Classifier/test_images/loop/loop_5.tif: 256x256 1 loop, 8.5ms\n",
      "image 6/6 /Users/jin/Documents/GitHub/AI-Project/Fingerprint Classifier/test_images/loop/loop_6.tif: 256x256 1 loop, 8.6ms\n",
      "Speed: 0.6ms preprocess, 13.2ms inference, 0.3ms postprocess per image at shape (1, 3, 256, 256)\n",
      "Results saved to \u001b[1m/Users/jin/Documents/GitHub/AI-Project/runs/detect/loop_fingerprint_detection2\u001b[0m\n"
     ]
    },
    {
     "data": {
      "text/plain": [
       "[ultralytics.engine.results.Results object with attributes:\n",
       " \n",
       " boxes: ultralytics.engine.results.Boxes object\n",
       " keypoints: None\n",
       " masks: None\n",
       " names: {0: 'loop'}\n",
       " obb: None\n",
       " orig_img: array([[[254, 254, 254],\n",
       "         [254, 254, 254],\n",
       "         [254, 254, 254],\n",
       "         ...,\n",
       "         [254, 254, 254],\n",
       "         [254, 254, 254],\n",
       "         [241, 241, 241]],\n",
       " \n",
       "        [[254, 254, 254],\n",
       "         [254, 254, 254],\n",
       "         [254, 254, 254],\n",
       "         ...,\n",
       "         [254, 254, 254],\n",
       "         [254, 254, 254],\n",
       "         [241, 241, 241]],\n",
       " \n",
       "        [[254, 254, 254],\n",
       "         [254, 254, 254],\n",
       "         [254, 254, 254],\n",
       "         ...,\n",
       "         [254, 254, 254],\n",
       "         [254, 254, 254],\n",
       "         [229, 229, 229]],\n",
       " \n",
       "        ...,\n",
       " \n",
       "        [[254, 254, 254],\n",
       "         [254, 254, 254],\n",
       "         [254, 254, 254],\n",
       "         ...,\n",
       "         [254, 254, 254],\n",
       "         [254, 254, 254],\n",
       "         [242, 242, 242]],\n",
       " \n",
       "        [[254, 254, 254],\n",
       "         [254, 254, 254],\n",
       "         [254, 254, 254],\n",
       "         ...,\n",
       "         [254, 254, 254],\n",
       "         [254, 254, 254],\n",
       "         [242, 242, 242]],\n",
       " \n",
       "        [[254, 254, 254],\n",
       "         [254, 254, 254],\n",
       "         [254, 254, 254],\n",
       "         ...,\n",
       "         [254, 254, 254],\n",
       "         [254, 254, 254],\n",
       "         [246, 246, 246]]], dtype=uint8)\n",
       " orig_shape: (374, 388)\n",
       " path: '/Users/jin/Documents/GitHub/AI-Project/Fingerprint Classifier/test_images/loop/loop_1.tif'\n",
       " probs: None\n",
       " save_dir: '/Users/jin/Documents/GitHub/AI-Project/runs/detect/loop_fingerprint_detection2'\n",
       " speed: {'preprocess': 1.3949999120086432, 'inference': 23.645333014428616, 'postprocess': 0.43575000017881393},\n",
       " ultralytics.engine.results.Results object with attributes:\n",
       " \n",
       " boxes: ultralytics.engine.results.Boxes object\n",
       " keypoints: None\n",
       " masks: None\n",
       " names: {0: 'loop'}\n",
       " obb: None\n",
       " orig_img: array([[[254, 254, 254],\n",
       "         [254, 254, 254],\n",
       "         [254, 254, 254],\n",
       "         ...,\n",
       "         [254, 254, 254],\n",
       "         [254, 254, 254],\n",
       "         [237, 237, 237]],\n",
       " \n",
       "        [[254, 254, 254],\n",
       "         [254, 254, 254],\n",
       "         [254, 254, 254],\n",
       "         ...,\n",
       "         [254, 254, 254],\n",
       "         [254, 254, 254],\n",
       "         [246, 246, 246]],\n",
       " \n",
       "        [[254, 254, 254],\n",
       "         [254, 254, 254],\n",
       "         [254, 254, 254],\n",
       "         ...,\n",
       "         [254, 254, 254],\n",
       "         [254, 254, 254],\n",
       "         [240, 240, 240]],\n",
       " \n",
       "        ...,\n",
       " \n",
       "        [[254, 254, 254],\n",
       "         [254, 254, 254],\n",
       "         [254, 254, 254],\n",
       "         ...,\n",
       "         [254, 254, 254],\n",
       "         [254, 254, 254],\n",
       "         [235, 235, 235]],\n",
       " \n",
       "        [[254, 254, 254],\n",
       "         [254, 254, 254],\n",
       "         [254, 254, 254],\n",
       "         ...,\n",
       "         [254, 254, 254],\n",
       "         [254, 254, 254],\n",
       "         [247, 247, 247]],\n",
       " \n",
       "        [[254, 254, 254],\n",
       "         [254, 254, 254],\n",
       "         [254, 254, 254],\n",
       "         ...,\n",
       "         [254, 254, 254],\n",
       "         [254, 254, 254],\n",
       "         [243, 243, 243]]], dtype=uint8)\n",
       " orig_shape: (374, 388)\n",
       " path: '/Users/jin/Documents/GitHub/AI-Project/Fingerprint Classifier/test_images/loop/loop_2.tif'\n",
       " probs: None\n",
       " save_dir: '/Users/jin/Documents/GitHub/AI-Project/runs/detect/loop_fingerprint_detection2'\n",
       " speed: {'preprocess': 0.35500002559274435, 'inference': 11.657375027425587, 'postprocess': 0.2914590295404196},\n",
       " ultralytics.engine.results.Results object with attributes:\n",
       " \n",
       " boxes: ultralytics.engine.results.Boxes object\n",
       " keypoints: None\n",
       " masks: None\n",
       " names: {0: 'loop'}\n",
       " obb: None\n",
       " orig_img: array([[[254, 254, 254],\n",
       "         [254, 254, 254],\n",
       "         [254, 254, 254],\n",
       "         ...,\n",
       "         [254, 254, 254],\n",
       "         [254, 254, 254],\n",
       "         [227, 227, 227]],\n",
       " \n",
       "        [[254, 254, 254],\n",
       "         [254, 254, 254],\n",
       "         [254, 254, 254],\n",
       "         ...,\n",
       "         [254, 254, 254],\n",
       "         [254, 254, 254],\n",
       "         [236, 236, 236]],\n",
       " \n",
       "        [[254, 254, 254],\n",
       "         [254, 254, 254],\n",
       "         [254, 254, 254],\n",
       "         ...,\n",
       "         [254, 254, 254],\n",
       "         [254, 254, 254],\n",
       "         [235, 235, 235]],\n",
       " \n",
       "        ...,\n",
       " \n",
       "        [[254, 254, 254],\n",
       "         [254, 254, 254],\n",
       "         [254, 254, 254],\n",
       "         ...,\n",
       "         [254, 254, 254],\n",
       "         [254, 254, 254],\n",
       "         [250, 250, 250]],\n",
       " \n",
       "        [[254, 254, 254],\n",
       "         [254, 254, 254],\n",
       "         [254, 254, 254],\n",
       "         ...,\n",
       "         [254, 254, 254],\n",
       "         [254, 254, 254],\n",
       "         [242, 242, 242]],\n",
       " \n",
       "        [[254, 254, 254],\n",
       "         [254, 254, 254],\n",
       "         [254, 254, 254],\n",
       "         ...,\n",
       "         [254, 254, 254],\n",
       "         [254, 254, 254],\n",
       "         [235, 235, 235]]], dtype=uint8)\n",
       " orig_shape: (374, 388)\n",
       " path: '/Users/jin/Documents/GitHub/AI-Project/Fingerprint Classifier/test_images/loop/loop_3.tif'\n",
       " probs: None\n",
       " save_dir: '/Users/jin/Documents/GitHub/AI-Project/runs/detect/loop_fingerprint_detection2'\n",
       " speed: {'preprocess': 0.3547909436747432, 'inference': 10.897167026996613, 'postprocess': 0.24283304810523987},\n",
       " ultralytics.engine.results.Results object with attributes:\n",
       " \n",
       " boxes: ultralytics.engine.results.Boxes object\n",
       " keypoints: None\n",
       " masks: None\n",
       " names: {0: 'loop'}\n",
       " obb: None\n",
       " orig_img: array([[[254, 254, 254],\n",
       "         [254, 254, 254],\n",
       "         [254, 254, 254],\n",
       "         ...,\n",
       "         [254, 254, 254],\n",
       "         [248, 248, 248],\n",
       "         [ 96,  96,  96]],\n",
       " \n",
       "        [[254, 254, 254],\n",
       "         [254, 254, 254],\n",
       "         [254, 254, 254],\n",
       "         ...,\n",
       "         [254, 254, 254],\n",
       "         [253, 253, 253],\n",
       "         [109, 109, 109]],\n",
       " \n",
       "        [[254, 254, 254],\n",
       "         [254, 254, 254],\n",
       "         [254, 254, 254],\n",
       "         ...,\n",
       "         [254, 254, 254],\n",
       "         [254, 254, 254],\n",
       "         [108, 108, 108]],\n",
       " \n",
       "        ...,\n",
       " \n",
       "        [[254, 254, 254],\n",
       "         [254, 254, 254],\n",
       "         [254, 254, 254],\n",
       "         ...,\n",
       "         [254, 254, 254],\n",
       "         [254, 254, 254],\n",
       "         [111, 111, 111]],\n",
       " \n",
       "        [[254, 254, 254],\n",
       "         [254, 254, 254],\n",
       "         [254, 254, 254],\n",
       "         ...,\n",
       "         [254, 254, 254],\n",
       "         [244, 244, 244],\n",
       "         [ 89,  89,  89]],\n",
       " \n",
       "        [[254, 254, 254],\n",
       "         [254, 254, 254],\n",
       "         [254, 254, 254],\n",
       "         ...,\n",
       "         [254, 254, 254],\n",
       "         [243, 243, 243],\n",
       "         [ 86,  86,  86]]], dtype=uint8)\n",
       " orig_shape: (374, 388)\n",
       " path: '/Users/jin/Documents/GitHub/AI-Project/Fingerprint Classifier/test_images/loop/loop_4.tif'\n",
       " probs: None\n",
       " save_dir: '/Users/jin/Documents/GitHub/AI-Project/runs/detect/loop_fingerprint_detection2'\n",
       " speed: {'preprocess': 0.7218749960884452, 'inference': 16.012209001928568, 'postprocess': 0.2693749265745282},\n",
       " ultralytics.engine.results.Results object with attributes:\n",
       " \n",
       " boxes: ultralytics.engine.results.Boxes object\n",
       " keypoints: None\n",
       " masks: None\n",
       " names: {0: 'loop'}\n",
       " obb: None\n",
       " orig_img: array([[[254, 254, 254],\n",
       "         [254, 254, 254],\n",
       "         [254, 254, 254],\n",
       "         ...,\n",
       "         [254, 254, 254],\n",
       "         [248, 248, 248],\n",
       "         [ 99,  99,  99]],\n",
       " \n",
       "        [[254, 254, 254],\n",
       "         [254, 254, 254],\n",
       "         [254, 254, 254],\n",
       "         ...,\n",
       "         [254, 254, 254],\n",
       "         [243, 243, 243],\n",
       "         [ 86,  86,  86]],\n",
       " \n",
       "        [[254, 254, 254],\n",
       "         [254, 254, 254],\n",
       "         [254, 254, 254],\n",
       "         ...,\n",
       "         [254, 254, 254],\n",
       "         [250, 250, 250],\n",
       "         [ 97,  97,  97]],\n",
       " \n",
       "        ...,\n",
       " \n",
       "        [[254, 254, 254],\n",
       "         [254, 254, 254],\n",
       "         [254, 254, 254],\n",
       "         ...,\n",
       "         [254, 254, 254],\n",
       "         [247, 247, 247],\n",
       "         [ 97,  97,  97]],\n",
       " \n",
       "        [[254, 254, 254],\n",
       "         [254, 254, 254],\n",
       "         [254, 254, 254],\n",
       "         ...,\n",
       "         [254, 254, 254],\n",
       "         [248, 248, 248],\n",
       "         [ 96,  96,  96]],\n",
       " \n",
       "        [[254, 254, 254],\n",
       "         [254, 254, 254],\n",
       "         [254, 254, 254],\n",
       "         ...,\n",
       "         [254, 254, 254],\n",
       "         [248, 248, 248],\n",
       "         [ 98,  98,  98]]], dtype=uint8)\n",
       " orig_shape: (374, 388)\n",
       " path: '/Users/jin/Documents/GitHub/AI-Project/Fingerprint Classifier/test_images/loop/loop_5.tif'\n",
       " probs: None\n",
       " save_dir: '/Users/jin/Documents/GitHub/AI-Project/runs/detect/loop_fingerprint_detection2'\n",
       " speed: {'preprocess': 0.6459589349105954, 'inference': 8.453125017695129, 'postprocess': 0.2562080044299364},\n",
       " ultralytics.engine.results.Results object with attributes:\n",
       " \n",
       " boxes: ultralytics.engine.results.Boxes object\n",
       " keypoints: None\n",
       " masks: None\n",
       " names: {0: 'loop'}\n",
       " obb: None\n",
       " orig_img: array([[[254, 254, 254],\n",
       "         [254, 254, 254],\n",
       "         [254, 254, 254],\n",
       "         ...,\n",
       "         [254, 254, 254],\n",
       "         [248, 248, 248],\n",
       "         [ 99,  99,  99]],\n",
       " \n",
       "        [[254, 254, 254],\n",
       "         [254, 254, 254],\n",
       "         [254, 254, 254],\n",
       "         ...,\n",
       "         [254, 254, 254],\n",
       "         [243, 243, 243],\n",
       "         [ 86,  86,  86]],\n",
       " \n",
       "        [[254, 254, 254],\n",
       "         [254, 254, 254],\n",
       "         [254, 254, 254],\n",
       "         ...,\n",
       "         [254, 254, 254],\n",
       "         [250, 250, 250],\n",
       "         [ 97,  97,  97]],\n",
       " \n",
       "        ...,\n",
       " \n",
       "        [[254, 254, 254],\n",
       "         [254, 254, 254],\n",
       "         [254, 254, 254],\n",
       "         ...,\n",
       "         [254, 254, 254],\n",
       "         [247, 247, 247],\n",
       "         [ 97,  97,  97]],\n",
       " \n",
       "        [[254, 254, 254],\n",
       "         [254, 254, 254],\n",
       "         [254, 254, 254],\n",
       "         ...,\n",
       "         [254, 254, 254],\n",
       "         [248, 248, 248],\n",
       "         [ 96,  96,  96]],\n",
       " \n",
       "        [[254, 254, 254],\n",
       "         [254, 254, 254],\n",
       "         [254, 254, 254],\n",
       "         ...,\n",
       "         [254, 254, 254],\n",
       "         [248, 248, 248],\n",
       "         [ 98,  98,  98]]], dtype=uint8)\n",
       " orig_shape: (374, 388)\n",
       " path: '/Users/jin/Documents/GitHub/AI-Project/Fingerprint Classifier/test_images/loop/loop_6.tif'\n",
       " probs: None\n",
       " save_dir: '/Users/jin/Documents/GitHub/AI-Project/runs/detect/loop_fingerprint_detection2'\n",
       " speed: {'preprocess': 0.3303750418126583, 'inference': 8.601250010542572, 'postprocess': 0.24679198395460844}]"
      ]
     },
     "execution_count": 264,
     "metadata": {},
     "output_type": "execute_result"
    }
   ],
   "source": [
    "curr_dir = os.getcwd()\n",
    "test_image_dir = f\"{curr_dir}/test_images/{FEATURE}\"\n",
    "model.predict(test_image_dir, save = True)"
   ]
  }
 ],
 "metadata": {
  "kernelspec": {
   "display_name": "venv",
   "language": "python",
   "name": "python3"
  },
  "language_info": {
   "codemirror_mode": {
    "name": "ipython",
    "version": 3
   },
   "file_extension": ".py",
   "mimetype": "text/x-python",
   "name": "python",
   "nbconvert_exporter": "python",
   "pygments_lexer": "ipython3",
   "version": "3.11.0"
  }
 },
 "nbformat": 4,
 "nbformat_minor": 2
}
